{
 "cells": [
  {
   "cell_type": "code",
   "execution_count": 70,
   "metadata": {},
   "outputs": [],
   "source": [
    "from matplotlib import pyplot as plt\n",
    "import pandas as pd\n",
    "import numpy as np\n",
    "from scipy.signal  import argrelextrema"
   ]
  },
  {
   "cell_type": "code",
   "execution_count": 71,
   "metadata": {},
   "outputs": [
    {
     "data": {
      "text/html": [
       "<div>\n",
       "<style scoped>\n",
       "    .dataframe tbody tr th:only-of-type {\n",
       "        vertical-align: middle;\n",
       "    }\n",
       "\n",
       "    .dataframe tbody tr th {\n",
       "        vertical-align: top;\n",
       "    }\n",
       "\n",
       "    .dataframe thead th {\n",
       "        text-align: right;\n",
       "    }\n",
       "</style>\n",
       "<table border=\"1\" class=\"dataframe\">\n",
       "  <thead>\n",
       "    <tr style=\"text-align: right;\">\n",
       "      <th></th>\n",
       "      <th>symbol</th>\n",
       "      <th>open</th>\n",
       "      <th>high</th>\n",
       "      <th>low</th>\n",
       "      <th>close</th>\n",
       "    </tr>\n",
       "    <tr>\n",
       "      <th>date</th>\n",
       "      <th></th>\n",
       "      <th></th>\n",
       "      <th></th>\n",
       "      <th></th>\n",
       "      <th></th>\n",
       "    </tr>\n",
       "  </thead>\n",
       "  <tbody>\n",
       "    <tr>\n",
       "      <th>2017-08-17</th>\n",
       "      <td>BTC/USDT</td>\n",
       "      <td>4469.93</td>\n",
       "      <td>4485.39</td>\n",
       "      <td>4200.74</td>\n",
       "      <td>4285.08</td>\n",
       "    </tr>\n",
       "    <tr>\n",
       "      <th>2017-08-18</th>\n",
       "      <td>BTC/USDT</td>\n",
       "      <td>4285.08</td>\n",
       "      <td>4371.52</td>\n",
       "      <td>3938.77</td>\n",
       "      <td>4108.37</td>\n",
       "    </tr>\n",
       "    <tr>\n",
       "      <th>2017-08-19</th>\n",
       "      <td>BTC/USDT</td>\n",
       "      <td>4108.37</td>\n",
       "      <td>4184.69</td>\n",
       "      <td>3850.00</td>\n",
       "      <td>4139.98</td>\n",
       "    </tr>\n",
       "    <tr>\n",
       "      <th>2017-08-20</th>\n",
       "      <td>BTC/USDT</td>\n",
       "      <td>4139.98</td>\n",
       "      <td>4211.08</td>\n",
       "      <td>4032.62</td>\n",
       "      <td>4086.29</td>\n",
       "    </tr>\n",
       "    <tr>\n",
       "      <th>2017-08-21</th>\n",
       "      <td>BTC/USDT</td>\n",
       "      <td>4086.29</td>\n",
       "      <td>4119.62</td>\n",
       "      <td>3911.79</td>\n",
       "      <td>4016.00</td>\n",
       "    </tr>\n",
       "    <tr>\n",
       "      <th>...</th>\n",
       "      <td>...</td>\n",
       "      <td>...</td>\n",
       "      <td>...</td>\n",
       "      <td>...</td>\n",
       "      <td>...</td>\n",
       "    </tr>\n",
       "    <tr>\n",
       "      <th>2022-10-07</th>\n",
       "      <td>BTC/USDT</td>\n",
       "      <td>19960.67</td>\n",
       "      <td>20068.82</td>\n",
       "      <td>19320.00</td>\n",
       "      <td>19530.09</td>\n",
       "    </tr>\n",
       "    <tr>\n",
       "      <th>2022-10-08</th>\n",
       "      <td>BTC/USDT</td>\n",
       "      <td>19530.09</td>\n",
       "      <td>19627.38</td>\n",
       "      <td>19237.14</td>\n",
       "      <td>19417.96</td>\n",
       "    </tr>\n",
       "    <tr>\n",
       "      <th>2022-10-09</th>\n",
       "      <td>BTC/USDT</td>\n",
       "      <td>19416.52</td>\n",
       "      <td>19558.00</td>\n",
       "      <td>19316.04</td>\n",
       "      <td>19439.02</td>\n",
       "    </tr>\n",
       "    <tr>\n",
       "      <th>2022-10-10</th>\n",
       "      <td>BTC/USDT</td>\n",
       "      <td>19439.96</td>\n",
       "      <td>19525.00</td>\n",
       "      <td>19020.25</td>\n",
       "      <td>19131.87</td>\n",
       "    </tr>\n",
       "    <tr>\n",
       "      <th>2022-10-11</th>\n",
       "      <td>BTC/USDT</td>\n",
       "      <td>19131.87</td>\n",
       "      <td>19133.52</td>\n",
       "      <td>18950.01</td>\n",
       "      <td>19032.94</td>\n",
       "    </tr>\n",
       "  </tbody>\n",
       "</table>\n",
       "<p>1883 rows × 5 columns</p>\n",
       "</div>"
      ],
      "text/plain": [
       "              symbol      open      high       low     close\n",
       "date                                                        \n",
       "2017-08-17  BTC/USDT   4469.93   4485.39   4200.74   4285.08\n",
       "2017-08-18  BTC/USDT   4285.08   4371.52   3938.77   4108.37\n",
       "2017-08-19  BTC/USDT   4108.37   4184.69   3850.00   4139.98\n",
       "2017-08-20  BTC/USDT   4139.98   4211.08   4032.62   4086.29\n",
       "2017-08-21  BTC/USDT   4086.29   4119.62   3911.79   4016.00\n",
       "...              ...       ...       ...       ...       ...\n",
       "2022-10-07  BTC/USDT  19960.67  20068.82  19320.00  19530.09\n",
       "2022-10-08  BTC/USDT  19530.09  19627.38  19237.14  19417.96\n",
       "2022-10-09  BTC/USDT  19416.52  19558.00  19316.04  19439.02\n",
       "2022-10-10  BTC/USDT  19439.96  19525.00  19020.25  19131.87\n",
       "2022-10-11  BTC/USDT  19131.87  19133.52  18950.01  19032.94\n",
       "\n",
       "[1883 rows x 5 columns]"
      ]
     },
     "execution_count": 71,
     "metadata": {},
     "output_type": "execute_result"
    }
   ],
   "source": [
    "df = pd.read_csv(\"Binance_BTCUSDT_d.csv\")\n",
    "df = df.drop([\"unix\", \"Volume BTC\", \"Volume USDT\", \"tradecount\"], axis = 1)\n",
    "# convert to datetime\n",
    "df['date'] = pd.to_datetime(df['date'])\n",
    "# set the index\n",
    "df.set_index('date', inplace=True)\n",
    "df = df[::-1]\n",
    "df"
   ]
  },
  {
   "cell_type": "code",
   "execution_count": 72,
   "metadata": {},
   "outputs": [
    {
     "data": {
      "text/plain": [
       "[<matplotlib.lines.Line2D at 0x7f64fe742830>]"
      ]
     },
     "execution_count": 72,
     "metadata": {},
     "output_type": "execute_result"
    },
    {
     "data": {
      "image/png": "[encoded data removed]",
      "text/plain": [
       "<Figure size 576x396 with 1 Axes>"
      ]
     },
     "metadata": {},
     "output_type": "display_data"
    }
   ],
   "source": [
    "plt.style.use(\"seaborn\")\n",
    "plt.plot(df.index, df[\"close\"])"
   ]
  },
  {
   "cell_type": "code",
   "execution_count": 73,
   "metadata": {},
   "outputs": [
    {
     "data": {
      "text/plain": [
       "date\n",
       "2017-08-17     4285.08\n",
       "2017-08-18     4108.37\n",
       "2017-08-19     4139.98\n",
       "2017-08-20     4086.29\n",
       "2017-08-21     4016.00\n",
       "                ...   \n",
       "2022-10-07    19530.09\n",
       "2022-10-08    19417.96\n",
       "2022-10-09    19439.02\n",
       "2022-10-10    19131.87\n",
       "2022-10-11    19032.94\n",
       "Name: close, Length: 1883, dtype: float64"
      ]
     },
     "execution_count": 73,
     "metadata": {},
     "output_type": "execute_result"
    }
   ],
   "source": []
  }
 ],
 "metadata": {
  "kernelspec": {
   "display_name": "Python 3.10.5 64-bit ('3.10.5': pyenv)",
   "language": "python",
   "name": "python3"
  },
  "language_info": {
   "codemirror_mode": {
    "name": "ipython",
    "version": 3
   },
   "file_extension": ".py",
   "mimetype": "text/x-python",
   "name": "python",
   "nbconvert_exporter": "python",
   "pygments_lexer": "ipython3",
   "version": "3.10.5"
  },
  "orig_nbformat": 4,
  "vscode": {
   "interpreter": {
    "hash": "63dad421a79b07ba21fceab07671fcec5ca6829179a621673b010b0b1dc8bd66"
   }
  }
 },
 "nbformat": 4,
 "nbformat_minor": 2
}
