{
 "cells": [
  {
   "cell_type": "code",
   "execution_count": 253,
   "metadata": {},
   "outputs": [
    {
     "name": "stdout",
     "output_type": "stream",
     "text": [
      "/home/sscf/freqtrade\n"
     ]
    }
   ],
   "source": [
    "import os\n",
    "from pathlib import Path\n",
    "\n",
    "# Change directory\n",
    "# Modify this cell to insure that the output shows the correct path.\n",
    "# Define all paths relative to the project root shown in the cell output\n",
    "project_root = \"/home/sscf/freqtrade\"\n",
    "i=0\n",
    "try:\n",
    "    os.chdirdir(project_root)\n",
    "    assert Path('LICENSE').is_file()\n",
    "except:\n",
    "    while i<4 and (not Path('LICENSE').is_file()):\n",
    "        os.chdir(Path(Path.cwd(), '../'))\n",
    "        i+=1\n",
    "    project_root = Path.cwd()\n",
    "print(Path.cwd())"
   ]
  },
  {
   "cell_type": "code",
   "execution_count": 254,
   "metadata": {},
   "outputs": [],
   "source": [
    "import numpy as np\n",
    "import pandas as pd\n",
    "from matplotlib import pyplot as plt"
   ]
  },
  {
   "cell_type": "code",
   "execution_count": 255,
   "metadata": {},
   "outputs": [],
   "source": [
    "from freqtrade.configuration import Configuration\n",
    "\n",
    "# Customize these according to your needs.\n",
    "\n",
    "# Initialize empty configuration object\n",
    "#config = Configuration.from_files([])\n",
    "# Optionally (recommended), use existing configuration file\n",
    "config = Configuration.from_files([\"config.json\"])\n",
    "\n",
    "# Define some constants\n",
    "config[\"timeframe\"] = \"1m\"\n",
    "# Name of the strategy class\n",
    "config[\"strategy\"] = \"PandasPivots\"\n",
    "# Location of the data\n",
    "data_location = config['datadir']\n",
    "# Pair to analyze - Only use one pair here\n",
    "#pair = \"BTC/USDT\"\n"
   ]
  },
  {
   "cell_type": "code",
   "execution_count": 256,
   "metadata": {},
   "outputs": [],
   "source": [
    "from freqtrade.data.btanalysis import load_backtest_data, load_backtest_stats\n",
    "\n",
    "# if backtest_dir points to a directory, it'll automatically load the last backtest file.\n",
    "backtest_dir = config[\"user_data_dir\"] / \"backtest_results\"\n",
    "# backtest_dir can also point to a specific file \n",
    "# backtest_dir = config[\"user_data_dir\"] / \"backtest_results/backtest-result-2020-07-01_20-04-22.json\""
   ]
  },
  {
   "cell_type": "code",
   "execution_count": 257,
   "metadata": {},
   "outputs": [
    {
     "name": "stdout",
     "output_type": "stream",
     "text": [
      "[{'key': 'DOT/USDT', 'trades': 15, 'profit_mean': 0.0045954993333333334, 'profit_mean_pct': 0.4595499333333333, 'profit_sum': 0.06893249, 'profit_sum_pct': 6.89, 'profit_total_abs': 3.4405213000000003, 'profit_total': 0.0034405213000000003, 'profit_total_pct': 0.34, 'duration_avg': '1 day, 6:20:00', 'wins': 13, 'draws': 2, 'losses': 0}, {'key': 'ALGO/USDT', 'trades': 13, 'profit_mean': 0.004150810769230769, 'profit_mean_pct': 0.4150810769230769, 'profit_sum': 0.05396054, 'profit_sum_pct': 5.4, 'profit_total_abs': 2.6897433800000004, 'profit_total': 0.0026897433800000003, 'profit_total_pct': 0.27, 'duration_avg': '10:04:00', 'wins': 9, 'draws': 3, 'losses': 1}, {'key': 'NEAR/USDT', 'trades': 9, 'profit_mean': 0.005108765555555557, 'profit_mean_pct': 0.5108765555555557, 'profit_sum': 0.04597889000000001, 'profit_sum_pct': 4.6, 'profit_total_abs': 2.30333794, 'profit_total': 0.00230333794, 'profit_total_pct': 0.23, 'duration_avg': '11:43:00', 'wins': 7, 'draws': 2, 'losses': 0}, {'key': 'LINK/USDT', 'trades': 7, 'profit_mean': 0.0064120371428571426, 'profit_mean_pct': 0.6412037142857142, 'profit_sum': 0.044884259999999995, 'profit_sum_pct': 4.49, 'profit_total_abs': 2.25611787, 'profit_total': 0.00225611787, 'profit_total_pct': 0.23, 'duration_avg': '0:42:00', 'wins': 7, 'draws': 0, 'losses': 0}, {'key': 'BCH/USDT', 'trades': 9, 'profit_mean': 0.003721864444444445, 'profit_mean_pct': 0.3721864444444445, 'profit_sum': 0.033496780000000004, 'profit_sum_pct': 3.35, 'profit_total_abs': 1.68468435, 'profit_total': 0.00168468435, 'profit_total_pct': 0.17, 'duration_avg': '2:05:00', 'wins': 5, 'draws': 3, 'losses': 1}, {'key': 'ADA/USDT', 'trades': 7, 'profit_mean': 0.004779631428571429, 'profit_mean_pct': 0.47796314285714286, 'profit_sum': 0.03345742, 'profit_sum_pct': 3.35, 'profit_total_abs': 1.67436816, 'profit_total': 0.00167436816, 'profit_total_pct': 0.17, 'duration_avg': '1 day, 0:29:00', 'wins': 6, 'draws': 0, 'losses': 1}, {'key': 'XRP/USDT', 'trades': 12, 'profit_mean': 0.0026702183333333334, 'profit_mean_pct': 0.26702183333333335, 'profit_sum': 0.03204262, 'profit_sum_pct': 3.2, 'profit_total_abs': 1.6126689500000002, 'profit_total': 0.0016126689500000002, 'profit_total_pct': 0.16, 'duration_avg': '4:43:00', 'wins': 9, 'draws': 3, 'losses': 0}, {'key': 'ATOM/USDT', 'trades': 8, 'profit_mean': 0.00330469625, 'profit_mean_pct': 0.330469625, 'profit_sum': 0.02643757, 'profit_sum_pct': 2.64, 'profit_total_abs': 1.32819277, 'profit_total': 0.00132819277, 'profit_total_pct': 0.13, 'duration_avg': '1 day, 1:02:00', 'wins': 5, 'draws': 1, 'losses': 2}, {'key': 'XLM/USDT', 'trades': 10, 'profit_mean': 0.002533959, 'profit_mean_pct': 0.2533959, 'profit_sum': 0.02533959, 'profit_sum_pct': 2.53, 'profit_total_abs': 1.26877375, 'profit_total': 0.00126877375, 'profit_total_pct': 0.13, 'duration_avg': '1:04:00', 'wins': 5, 'draws': 5, 'losses': 0}, {'key': 'XMR/USDT', 'trades': 13, 'profit_mean': 0.001889282307692308, 'profit_mean_pct': 0.18892823076923076, 'profit_sum': 0.02456067, 'profit_sum_pct': 2.46, 'profit_total_abs': 1.23671851, 'profit_total': 0.00123671851, 'profit_total_pct': 0.12, 'duration_avg': '1:31:00', 'wins': 7, 'draws': 6, 'losses': 0}, {'key': 'MATIC/USDT', 'trades': 5, 'profit_mean': 0.003976524, 'profit_mean_pct': 0.3976524, 'profit_sum': 0.019882620000000004, 'profit_sum_pct': 1.99, 'profit_total_abs': 0.9969464, 'profit_total': 0.0009969464, 'profit_total_pct': 0.1, 'duration_avg': '1 day, 3:07:00', 'wins': 4, 'draws': 1, 'losses': 0}, {'key': 'BNB/USDT', 'trades': 8, 'profit_mean': 0.0023103775, 'profit_mean_pct': 0.23103775, 'profit_sum': 0.01848302, 'profit_sum_pct': 1.85, 'profit_total_abs': 0.92466504, 'profit_total': 0.00092466504, 'profit_total_pct': 0.09, 'duration_avg': '1:54:00', 'wins': 5, 'draws': 2, 'losses': 1}, {'key': 'UNI/USDT', 'trades': 6, 'profit_mean': 0.0030109833333333337, 'profit_mean_pct': 0.30109833333333336, 'profit_sum': 0.018065900000000003, 'profit_sum_pct': 1.81, 'profit_total_abs': 0.90864686, 'profit_total': 0.00090864686, 'profit_total_pct': 0.09, 'duration_avg': '1:16:00', 'wins': 3, 'draws': 3, 'losses': 0}, {'key': 'DOGE/USDT', 'trades': 9, 'profit_mean': 0.0013561355555555556, 'profit_mean_pct': 0.13561355555555557, 'profit_sum': 0.01220522, 'profit_sum_pct': 1.22, 'profit_total_abs': 0.61413379, 'profit_total': 0.00061413379, 'profit_total_pct': 0.06, 'duration_avg': '6:01:00', 'wins': 7, 'draws': 2, 'losses': 0}, {'key': 'TRX/USDT', 'trades': 10, 'profit_mean': 0.00105082, 'profit_mean_pct': 0.105082, 'profit_sum': 0.0105082, 'profit_sum_pct': 1.05, 'profit_total_abs': 0.52470737, 'profit_total': 0.0005247073700000001, 'profit_total_pct': 0.05, 'duration_avg': '2 days, 18:57:00', 'wins': 5, 'draws': 2, 'losses': 3}, {'key': 'BTC/USDT', 'trades': 2, 'profit_mean': 0.0049965, 'profit_mean_pct': 0.49965, 'profit_sum': 0.009993, 'profit_sum_pct': 1.0, 'profit_total_abs': 0.50077437, 'profit_total': 0.00050077437, 'profit_total_pct': 0.05, 'duration_avg': '0:48:00', 'wins': 1, 'draws': 1, 'losses': 0}, {'key': 'AVAX/USDT', 'trades': 4, 'profit_mean': 0.0024838875, 'profit_mean_pct': 0.24838875, 'profit_sum': 0.00993555, 'profit_sum_pct': 0.99, 'profit_total_abs': 0.5003507899999999, 'profit_total': 0.00050035079, 'profit_total_pct': 0.05, 'duration_avg': '10:33:00', 'wins': 3, 'draws': 1, 'losses': 0}, {'key': 'ETH/USDT', 'trades': 3, 'profit_mean': 0.003349623333333333, 'profit_mean_pct': 0.3349623333333333, 'profit_sum': 0.01004887, 'profit_sum_pct': 1.0, 'profit_total_abs': 0.49951149, 'profit_total': 0.00049951149, 'profit_total_pct': 0.05, 'duration_avg': '2:43:00', 'wins': 2, 'draws': 1, 'losses': 0}, {'key': 'SOL/USDT', 'trades': 3, 'profit_mean': 0.00089776, 'profit_mean_pct': 0.08977600000000001, 'profit_sum': 0.00269328, 'profit_sum_pct': 0.27, 'profit_total_abs': 0.1367378, 'profit_total': 0.0001367378, 'profit_total_pct': 0.01, 'duration_avg': '1:04:00', 'wins': 1, 'draws': 2, 'losses': 0}, {'key': 'ETC/USDT', 'trades': 2, 'profit_mean': 0.0, 'profit_mean_pct': 0.0, 'profit_sum': 0.0, 'profit_sum_pct': 0.0, 'profit_total_abs': 0.0, 'profit_total': 0.0, 'profit_total_pct': 0.0, 'duration_avg': '1:08:00', 'wins': 0, 'draws': 2, 'losses': 0}, {'key': 'TOTAL', 'trades': 155, 'profit_mean': 0.0032316547741935483, 'profit_mean_pct': 0.3231654774193548, 'profit_sum': 0.50090649, 'profit_sum_pct': 50.09, 'profit_total_abs': 25.10160089, 'profit_total': 0.02510160089, 'profit_total_pct': 2.51, 'duration_avg': '13:38:00', 'wins': 104, 'draws': 42, 'losses': 9}]\n",
      "['BTC/USDT', 'ETH/USDT', 'BNB/USDT', 'XRP/USDT', 'DOGE/USDT', 'ADA/USDT', 'SOL/USDT', 'MATIC/USDT', 'DOT/USDT', 'UNI/USDT', 'TRX/USDT', 'AVAX/USDT', 'LINK/USDT', 'ATOM/USDT', 'ETC/USDT', 'XMR/USDT', 'XLM/USDT', 'BCH/USDT', 'ALGO/USDT', 'NEAR/USDT']\n",
      "-0.6621567324064116\n",
      "0.001844750000000006\n",
      "2022-10-29 10:09:00\n",
      "2022-11-09 10:14:00\n"
     ]
    }
   ],
   "source": [
    "# You can get the full backtest statistics by using the following command.\n",
    "# This contains all information used to generate the backtest result.\n",
    "stats = load_backtest_stats(backtest_dir)\n",
    "\n",
    "strategy = 'PandasPivots'\n",
    "# All statistics are available per strategy, so if `--strategy-list` was used during backtest, this will be reflected here as well.\n",
    "# Example usages:\n",
    "print(stats['strategy'][strategy]['results_per_pair'])\n",
    "# Get pairlist used for this backtest\n",
    "print(stats['strategy'][strategy]['pairlist'])\n",
    "# Get market change (average change of all pairs from start to end of the backtest period)\n",
    "print(stats['strategy'][strategy]['market_change'])\n",
    "# Maximum drawdown ()\n",
    "print(stats['strategy'][strategy]['max_drawdown'])\n",
    "# Maximum drawdown start and end\n",
    "print(stats['strategy'][strategy]['drawdown_start'])\n",
    "print(stats['strategy'][strategy]['drawdown_end'])\n",
    "\n",
    "\n",
    "# Get strategy comparison (only relevant if multiple strategies were compared)\n",
    "#print(stats['strategy_comparison'])"
   ]
  },
  {
   "cell_type": "code",
   "execution_count": 258,
   "metadata": {},
   "outputs": [
    {
     "data": {
      "text/plain": [
       "pair        exit_reason       \n",
       "ADA/USDT    roi                    7\n",
       "ALGO/USDT   roi                   10\n",
       "            trailing_stop_loss     3\n",
       "ATOM/USDT   roi                    7\n",
       "            trailing_stop_loss     1\n",
       "AVAX/USDT   roi                    3\n",
       "            trailing_stop_loss     1\n",
       "BCH/USDT    roi                    8\n",
       "            trailing_stop_loss     1\n",
       "BNB/USDT    roi                    8\n",
       "BTC/USDT    roi                    2\n",
       "DOGE/USDT   roi                    8\n",
       "            trailing_stop_loss     1\n",
       "DOT/USDT    roi                   11\n",
       "            trailing_stop_loss     4\n",
       "ETC/USDT    roi                    2\n",
       "ETH/USDT    roi                    3\n",
       "LINK/USDT   roi                    4\n",
       "            trailing_stop_loss     3\n",
       "MATIC/USDT  roi                    4\n",
       "            trailing_stop_loss     1\n",
       "NEAR/USDT   roi                    6\n",
       "            trailing_stop_loss     3\n",
       "SOL/USDT    roi                    3\n",
       "TRX/USDT    roi                   10\n",
       "UNI/USDT    roi                    5\n",
       "            trailing_stop_loss     1\n",
       "XLM/USDT    roi                   10\n",
       "XMR/USDT    roi                   13\n",
       "XRP/USDT    roi                   10\n",
       "            trailing_stop_loss     2\n",
       "Name: exit_reason, dtype: int64"
      ]
     },
     "execution_count": 258,
     "metadata": {},
     "output_type": "execute_result"
    }
   ],
   "source": [
    "# Load backtested trades as dataframe\n",
    "trades = load_backtest_data(backtest_dir)\n",
    "\n",
    "# Show value-counts per pair\n",
    "trades.groupby(\"pair\")[\"exit_reason\"].value_counts()"
   ]
  },
  {
   "cell_type": "code",
   "execution_count": 259,
   "metadata": {},
   "outputs": [
    {
     "data": {
      "text/html": [
       "<div>\n",
       "<style scoped>\n",
       "    .dataframe tbody tr th:only-of-type {\n",
       "        vertical-align: middle;\n",
       "    }\n",
       "\n",
       "    .dataframe tbody tr th {\n",
       "        vertical-align: top;\n",
       "    }\n",
       "\n",
       "    .dataframe thead th {\n",
       "        text-align: right;\n",
       "    }\n",
       "</style>\n",
       "<table border=\"1\" class=\"dataframe\">\n",
       "  <thead>\n",
       "    <tr style=\"text-align: right;\">\n",
       "      <th></th>\n",
       "      <th>pair</th>\n",
       "      <th>stake_amount</th>\n",
       "      <th>amount</th>\n",
       "      <th>open_date</th>\n",
       "      <th>close_date</th>\n",
       "      <th>open_rate</th>\n",
       "      <th>close_rate</th>\n",
       "      <th>fee_open</th>\n",
       "      <th>fee_close</th>\n",
       "      <th>trade_duration</th>\n",
       "      <th>...</th>\n",
       "      <th>stop_loss_abs</th>\n",
       "      <th>stop_loss_ratio</th>\n",
       "      <th>min_rate</th>\n",
       "      <th>max_rate</th>\n",
       "      <th>is_open</th>\n",
       "      <th>enter_tag</th>\n",
       "      <th>is_short</th>\n",
       "      <th>open_timestamp</th>\n",
       "      <th>close_timestamp</th>\n",
       "      <th>orders</th>\n",
       "    </tr>\n",
       "  </thead>\n",
       "  <tbody>\n",
       "    <tr>\n",
       "      <th>0</th>\n",
       "      <td>UNI/USDT</td>\n",
       "      <td>49.500000</td>\n",
       "      <td>1.632478</td>\n",
       "      <td>2021-09-01 16:36:00+00:00</td>\n",
       "      <td>2021-09-01 17:45:00+00:00</td>\n",
       "      <td>30.32200</td>\n",
       "      <td>30.279579</td>\n",
       "      <td>0.0007</td>\n",
       "      <td>0.0007</td>\n",
       "      <td>69</td>\n",
       "      <td>...</td>\n",
       "      <td>54.579600</td>\n",
       "      <td>-0.8000</td>\n",
       "      <td>30.24300</td>\n",
       "      <td>30.93800</td>\n",
       "      <td>False</td>\n",
       "      <td>rsi_bear_div</td>\n",
       "      <td>True</td>\n",
       "      <td>1630514160000</td>\n",
       "      <td>1630518300000</td>\n",
       "      <td>[{'amount': 1.63247807, 'safe_price': 30.322, ...</td>\n",
       "    </tr>\n",
       "    <tr>\n",
       "      <th>1</th>\n",
       "      <td>ALGO/USDT</td>\n",
       "      <td>49.500000</td>\n",
       "      <td>39.903265</td>\n",
       "      <td>2021-09-03 07:53:00+00:00</td>\n",
       "      <td>2021-09-03 08:53:00+00:00</td>\n",
       "      <td>1.24050</td>\n",
       "      <td>1.238500</td>\n",
       "      <td>0.0007</td>\n",
       "      <td>0.0007</td>\n",
       "      <td>60</td>\n",
       "      <td>...</td>\n",
       "      <td>2.232900</td>\n",
       "      <td>-0.8000</td>\n",
       "      <td>1.23060</td>\n",
       "      <td>1.26340</td>\n",
       "      <td>False</td>\n",
       "      <td>rsi_bear_div</td>\n",
       "      <td>True</td>\n",
       "      <td>1630655580000</td>\n",
       "      <td>1630659180000</td>\n",
       "      <td>[{'amount': 39.90326481, 'safe_price': 1.2405,...</td>\n",
       "    </tr>\n",
       "    <tr>\n",
       "      <th>2</th>\n",
       "      <td>ALGO/USDT</td>\n",
       "      <td>49.500523</td>\n",
       "      <td>36.155520</td>\n",
       "      <td>2021-09-06 08:28:00+00:00</td>\n",
       "      <td>2021-09-06 09:20:00+00:00</td>\n",
       "      <td>1.36910</td>\n",
       "      <td>1.353503</td>\n",
       "      <td>0.0007</td>\n",
       "      <td>0.0007</td>\n",
       "      <td>52</td>\n",
       "      <td>...</td>\n",
       "      <td>1.356783</td>\n",
       "      <td>-0.0025</td>\n",
       "      <td>1.35340</td>\n",
       "      <td>1.37770</td>\n",
       "      <td>False</td>\n",
       "      <td>rsi_bear_div</td>\n",
       "      <td>True</td>\n",
       "      <td>1630916880000</td>\n",
       "      <td>1630920000000</td>\n",
       "      <td>[{'amount': 36.1555203, 'safe_price': 1.3691, ...</td>\n",
       "    </tr>\n",
       "    <tr>\n",
       "      <th>3</th>\n",
       "      <td>DOGE/USDT</td>\n",
       "      <td>49.525026</td>\n",
       "      <td>192.907045</td>\n",
       "      <td>2021-09-08 23:37:00+00:00</td>\n",
       "      <td>2021-09-09 00:37:00+00:00</td>\n",
       "      <td>0.25673</td>\n",
       "      <td>0.256280</td>\n",
       "      <td>0.0007</td>\n",
       "      <td>0.0007</td>\n",
       "      <td>60</td>\n",
       "      <td>...</td>\n",
       "      <td>0.462114</td>\n",
       "      <td>-0.8000</td>\n",
       "      <td>0.25431</td>\n",
       "      <td>0.25987</td>\n",
       "      <td>False</td>\n",
       "      <td>rsi_bear_div</td>\n",
       "      <td>True</td>\n",
       "      <td>1631144220000</td>\n",
       "      <td>1631147820000</td>\n",
       "      <td>[{'amount': 192.90704474, 'safe_price': 0.2567...</td>\n",
       "    </tr>\n",
       "    <tr>\n",
       "      <th>4</th>\n",
       "      <td>DOT/USDT</td>\n",
       "      <td>49.525894</td>\n",
       "      <td>1.650918</td>\n",
       "      <td>2021-09-11 11:44:00+00:00</td>\n",
       "      <td>2021-09-20 10:13:00+00:00</td>\n",
       "      <td>29.99900</td>\n",
       "      <td>29.957031</td>\n",
       "      <td>0.0007</td>\n",
       "      <td>0.0007</td>\n",
       "      <td>12869</td>\n",
       "      <td>...</td>\n",
       "      <td>53.998200</td>\n",
       "      <td>-0.8000</td>\n",
       "      <td>29.77000</td>\n",
       "      <td>38.74500</td>\n",
       "      <td>False</td>\n",
       "      <td>rsi_bear_div</td>\n",
       "      <td>True</td>\n",
       "      <td>1631360640000</td>\n",
       "      <td>1632132780000</td>\n",
       "      <td>[{'amount': 1.65091815, 'safe_price': 29.999, ...</td>\n",
       "    </tr>\n",
       "  </tbody>\n",
       "</table>\n",
       "<p>5 rows × 25 columns</p>\n",
       "</div>"
      ],
      "text/plain": [
       "        pair  stake_amount      amount                 open_date  \\\n",
       "0   UNI/USDT     49.500000    1.632478 2021-09-01 16:36:00+00:00   \n",
       "1  ALGO/USDT     49.500000   39.903265 2021-09-03 07:53:00+00:00   \n",
       "2  ALGO/USDT     49.500523   36.155520 2021-09-06 08:28:00+00:00   \n",
       "3  DOGE/USDT     49.525026  192.907045 2021-09-08 23:37:00+00:00   \n",
       "4   DOT/USDT     49.525894    1.650918 2021-09-11 11:44:00+00:00   \n",
       "\n",
       "                 close_date  open_rate  close_rate  fee_open  fee_close  \\\n",
       "0 2021-09-01 17:45:00+00:00   30.32200   30.279579    0.0007     0.0007   \n",
       "1 2021-09-03 08:53:00+00:00    1.24050    1.238500    0.0007     0.0007   \n",
       "2 2021-09-06 09:20:00+00:00    1.36910    1.353503    0.0007     0.0007   \n",
       "3 2021-09-09 00:37:00+00:00    0.25673    0.256280    0.0007     0.0007   \n",
       "4 2021-09-20 10:13:00+00:00   29.99900   29.957031    0.0007     0.0007   \n",
       "\n",
       "   trade_duration  ...  stop_loss_abs  stop_loss_ratio  min_rate  max_rate  \\\n",
       "0              69  ...      54.579600          -0.8000  30.24300  30.93800   \n",
       "1              60  ...       2.232900          -0.8000   1.23060   1.26340   \n",
       "2              52  ...       1.356783          -0.0025   1.35340   1.37770   \n",
       "3              60  ...       0.462114          -0.8000   0.25431   0.25987   \n",
       "4           12869  ...      53.998200          -0.8000  29.77000  38.74500   \n",
       "\n",
       "   is_open     enter_tag  is_short  open_timestamp  close_timestamp  \\\n",
       "0    False  rsi_bear_div      True   1630514160000    1630518300000   \n",
       "1    False  rsi_bear_div      True   1630655580000    1630659180000   \n",
       "2    False  rsi_bear_div      True   1630916880000    1630920000000   \n",
       "3    False  rsi_bear_div      True   1631144220000    1631147820000   \n",
       "4    False  rsi_bear_div      True   1631360640000    1632132780000   \n",
       "\n",
       "                                              orders  \n",
       "0  [{'amount': 1.63247807, 'safe_price': 30.322, ...  \n",
       "1  [{'amount': 39.90326481, 'safe_price': 1.2405,...  \n",
       "2  [{'amount': 36.1555203, 'safe_price': 1.3691, ...  \n",
       "3  [{'amount': 192.90704474, 'safe_price': 0.2567...  \n",
       "4  [{'amount': 1.65091815, 'safe_price': 29.999, ...  \n",
       "\n",
       "[5 rows x 25 columns]"
      ]
     },
     "execution_count": 259,
     "metadata": {},
     "output_type": "execute_result"
    }
   ],
   "source": [
    "trades.head()"
   ]
  },
  {
   "cell_type": "code",
   "execution_count": 260,
   "metadata": {},
   "outputs": [
    {
     "data": {
      "text/html": [
       "<div>\n",
       "<style scoped>\n",
       "    .dataframe tbody tr th:only-of-type {\n",
       "        vertical-align: middle;\n",
       "    }\n",
       "\n",
       "    .dataframe tbody tr th {\n",
       "        vertical-align: top;\n",
       "    }\n",
       "\n",
       "    .dataframe thead th {\n",
       "        text-align: right;\n",
       "    }\n",
       "</style>\n",
       "<table border=\"1\" class=\"dataframe\">\n",
       "  <thead>\n",
       "    <tr style=\"text-align: right;\">\n",
       "      <th></th>\n",
       "      <th>dates</th>\n",
       "      <th>daily_profit</th>\n",
       "    </tr>\n",
       "  </thead>\n",
       "  <tbody>\n",
       "    <tr>\n",
       "      <th>0</th>\n",
       "      <td>2021-09-01</td>\n",
       "      <td>0.0</td>\n",
       "    </tr>\n",
       "    <tr>\n",
       "      <th>1</th>\n",
       "      <td>2021-09-02</td>\n",
       "      <td>0.0</td>\n",
       "    </tr>\n",
       "    <tr>\n",
       "      <th>2</th>\n",
       "      <td>2021-09-03</td>\n",
       "      <td>0.01056239</td>\n",
       "    </tr>\n",
       "    <tr>\n",
       "      <th>3</th>\n",
       "      <td>2021-09-04</td>\n",
       "      <td>0.0</td>\n",
       "    </tr>\n",
       "    <tr>\n",
       "      <th>4</th>\n",
       "      <td>2021-09-05</td>\n",
       "      <td>0.0</td>\n",
       "    </tr>\n",
       "    <tr>\n",
       "      <th>...</th>\n",
       "      <td>...</td>\n",
       "      <td>...</td>\n",
       "    </tr>\n",
       "    <tr>\n",
       "      <th>444</th>\n",
       "      <td>2022-11-19</td>\n",
       "      <td>0.0</td>\n",
       "    </tr>\n",
       "    <tr>\n",
       "      <th>445</th>\n",
       "      <td>2022-11-20</td>\n",
       "      <td>0.1367378</td>\n",
       "    </tr>\n",
       "    <tr>\n",
       "      <th>446</th>\n",
       "      <td>2022-11-21</td>\n",
       "      <td>0.0</td>\n",
       "    </tr>\n",
       "    <tr>\n",
       "      <th>447</th>\n",
       "      <td>2022-11-22</td>\n",
       "      <td>0.0</td>\n",
       "    </tr>\n",
       "    <tr>\n",
       "      <th>448</th>\n",
       "      <td>2022-11-23</td>\n",
       "      <td>0.0273468</td>\n",
       "    </tr>\n",
       "  </tbody>\n",
       "</table>\n",
       "<p>449 rows × 2 columns</p>\n",
       "</div>"
      ],
      "text/plain": [
       "          dates daily_profit\n",
       "0    2021-09-01          0.0\n",
       "1    2021-09-02          0.0\n",
       "2    2021-09-03   0.01056239\n",
       "3    2021-09-04          0.0\n",
       "4    2021-09-05          0.0\n",
       "..          ...          ...\n",
       "444  2022-11-19          0.0\n",
       "445  2022-11-20    0.1367378\n",
       "446  2022-11-21          0.0\n",
       "447  2022-11-22          0.0\n",
       "448  2022-11-23    0.0273468\n",
       "\n",
       "[449 rows x 2 columns]"
      ]
     },
     "execution_count": 260,
     "metadata": {},
     "output_type": "execute_result"
    }
   ],
   "source": [
    "# Plotting equity line (starting with 0 on day 1 and adding daily profit for each backtested day)\n",
    "\n",
    "from freqtrade.configuration import Configuration\n",
    "from freqtrade.data.btanalysis import load_backtest_data, load_backtest_stats\n",
    "import plotly.express as px\n",
    "import pandas as pd\n",
    "\n",
    "# strategy = 'SampleStrategy'\n",
    "# config = Configuration.from_files([\"user_data/config.json\"])\n",
    "# backtest_dir = config[\"user_data_dir\"] / \"backtest_results\"\n",
    "\n",
    "stats = load_backtest_stats(backtest_dir)\n",
    "strategy_stats = stats['strategy'][strategy]\n",
    "\n",
    "dates = []\n",
    "profits = []\n",
    "for date_profit in strategy_stats['daily_profit']:\n",
    "    dates.append(date_profit[0])\n",
    "    profits.append(date_profit[1])\n",
    "\n",
    "equity = 0\n",
    "equity_daily = []\n",
    "for daily_profit in profits:\n",
    "    equity_daily.append(equity)\n",
    "    equity += float(daily_profit)\n",
    "\n",
    "\n",
    "daily_profit = np.array(strategy_stats[\"daily_profit\"])\n",
    "daily_profit = daily_profit.transpose()\n",
    "\n",
    "\n",
    "df = pd.DataFrame({'dates': daily_profit[0],'daily_profit': daily_profit[1]})\n",
    "df"
   ]
  },
  {
   "cell_type": "code",
   "execution_count": 261,
   "metadata": {},
   "outputs": [
    {
     "data": {
      "text/html": [
       "<div>\n",
       "<style scoped>\n",
       "    .dataframe tbody tr th:only-of-type {\n",
       "        vertical-align: middle;\n",
       "    }\n",
       "\n",
       "    .dataframe tbody tr th {\n",
       "        vertical-align: top;\n",
       "    }\n",
       "\n",
       "    .dataframe thead th {\n",
       "        text-align: right;\n",
       "    }\n",
       "</style>\n",
       "<table border=\"1\" class=\"dataframe\">\n",
       "  <thead>\n",
       "    <tr style=\"text-align: right;\">\n",
       "      <th></th>\n",
       "      <th>dates</th>\n",
       "      <th>daily_profit</th>\n",
       "      <th>rolling_daily_profit</th>\n",
       "      <th>equity_daily</th>\n",
       "      <th>rolling_std_daily_profit</th>\n",
       "      <th>rolling_annualized_sharpe</th>\n",
       "    </tr>\n",
       "  </thead>\n",
       "  <tbody>\n",
       "    <tr>\n",
       "      <th>0</th>\n",
       "      <td>2021-09-01</td>\n",
       "      <td>0.0</td>\n",
       "      <td>NaN</td>\n",
       "      <td>0.000000</td>\n",
       "      <td>NaN</td>\n",
       "      <td>NaN</td>\n",
       "    </tr>\n",
       "    <tr>\n",
       "      <th>1</th>\n",
       "      <td>2021-09-02</td>\n",
       "      <td>0.0</td>\n",
       "      <td>NaN</td>\n",
       "      <td>0.000000</td>\n",
       "      <td>NaN</td>\n",
       "      <td>NaN</td>\n",
       "    </tr>\n",
       "    <tr>\n",
       "      <th>2</th>\n",
       "      <td>2021-09-03</td>\n",
       "      <td>0.01056239</td>\n",
       "      <td>NaN</td>\n",
       "      <td>0.000000</td>\n",
       "      <td>NaN</td>\n",
       "      <td>NaN</td>\n",
       "    </tr>\n",
       "    <tr>\n",
       "      <th>3</th>\n",
       "      <td>2021-09-04</td>\n",
       "      <td>0.0</td>\n",
       "      <td>NaN</td>\n",
       "      <td>0.010562</td>\n",
       "      <td>NaN</td>\n",
       "      <td>NaN</td>\n",
       "    </tr>\n",
       "    <tr>\n",
       "      <th>4</th>\n",
       "      <td>2021-09-05</td>\n",
       "      <td>0.0</td>\n",
       "      <td>NaN</td>\n",
       "      <td>0.010562</td>\n",
       "      <td>NaN</td>\n",
       "      <td>NaN</td>\n",
       "    </tr>\n",
       "    <tr>\n",
       "      <th>...</th>\n",
       "      <td>...</td>\n",
       "      <td>...</td>\n",
       "      <td>...</td>\n",
       "      <td>...</td>\n",
       "      <td>...</td>\n",
       "      <td>...</td>\n",
       "    </tr>\n",
       "    <tr>\n",
       "      <th>444</th>\n",
       "      <td>2022-11-19</td>\n",
       "      <td>0.0</td>\n",
       "      <td>0.056072</td>\n",
       "      <td>24.937516</td>\n",
       "      <td>0.198241</td>\n",
       "      <td>5.403785</td>\n",
       "    </tr>\n",
       "    <tr>\n",
       "      <th>445</th>\n",
       "      <td>2022-11-20</td>\n",
       "      <td>0.1367378</td>\n",
       "      <td>0.060630</td>\n",
       "      <td>24.937516</td>\n",
       "      <td>0.198479</td>\n",
       "      <td>5.836033</td>\n",
       "    </tr>\n",
       "    <tr>\n",
       "      <th>446</th>\n",
       "      <td>2022-11-21</td>\n",
       "      <td>0.0</td>\n",
       "      <td>0.060630</td>\n",
       "      <td>25.074254</td>\n",
       "      <td>0.198479</td>\n",
       "      <td>5.836033</td>\n",
       "    </tr>\n",
       "    <tr>\n",
       "      <th>447</th>\n",
       "      <td>2022-11-22</td>\n",
       "      <td>0.0</td>\n",
       "      <td>0.060630</td>\n",
       "      <td>25.074254</td>\n",
       "      <td>0.198479</td>\n",
       "      <td>5.836033</td>\n",
       "    </tr>\n",
       "    <tr>\n",
       "      <th>448</th>\n",
       "      <td>2022-11-23</td>\n",
       "      <td>0.0273468</td>\n",
       "      <td>0.061541</td>\n",
       "      <td>25.074254</td>\n",
       "      <td>0.198254</td>\n",
       "      <td>5.930511</td>\n",
       "    </tr>\n",
       "  </tbody>\n",
       "</table>\n",
       "<p>449 rows × 6 columns</p>\n",
       "</div>"
      ],
      "text/plain": [
       "          dates daily_profit  rolling_daily_profit  equity_daily  \\\n",
       "0    2021-09-01          0.0                   NaN      0.000000   \n",
       "1    2021-09-02          0.0                   NaN      0.000000   \n",
       "2    2021-09-03   0.01056239                   NaN      0.000000   \n",
       "3    2021-09-04          0.0                   NaN      0.010562   \n",
       "4    2021-09-05          0.0                   NaN      0.010562   \n",
       "..          ...          ...                   ...           ...   \n",
       "444  2022-11-19          0.0              0.056072     24.937516   \n",
       "445  2022-11-20    0.1367378              0.060630     24.937516   \n",
       "446  2022-11-21          0.0              0.060630     25.074254   \n",
       "447  2022-11-22          0.0              0.060630     25.074254   \n",
       "448  2022-11-23    0.0273468              0.061541     25.074254   \n",
       "\n",
       "     rolling_std_daily_profit  rolling_annualized_sharpe  \n",
       "0                         NaN                        NaN  \n",
       "1                         NaN                        NaN  \n",
       "2                         NaN                        NaN  \n",
       "3                         NaN                        NaN  \n",
       "4                         NaN                        NaN  \n",
       "..                        ...                        ...  \n",
       "444                  0.198241                   5.403785  \n",
       "445                  0.198479                   5.836033  \n",
       "446                  0.198479                   5.836033  \n",
       "447                  0.198479                   5.836033  \n",
       "448                  0.198254                   5.930511  \n",
       "\n",
       "[449 rows x 6 columns]"
      ]
     },
     "execution_count": 261,
     "metadata": {},
     "output_type": "execute_result"
    }
   ],
   "source": [
    "df[\"rolling_daily_profit\"] = df[\"daily_profit\"].rolling(30).mean()\n",
    "df[\"equity_daily\"] = equity_daily\n",
    "df[\"rolling_std_daily_profit\"] = df[\"daily_profit\"].rolling(30).std()\n",
    "df[\"rolling_annualized_sharpe\"] = (df[\"rolling_daily_profit\"] / df[\"rolling_std_daily_profit\"]) * np.sqrt(365)\n",
    "\n",
    "df"
   ]
  },
  {
   "cell_type": "code",
   "execution_count": 262,
   "metadata": {},
   "outputs": [
    {
     "data": {
      "text/plain": [
       "0.05590556991091314"
      ]
     },
     "execution_count": 262,
     "metadata": {},
     "output_type": "execute_result"
    }
   ],
   "source": [
    "np_daily_profit = pd.to_numeric(df[\"daily_profit\"])\n",
    "np_daily_profit.mean()  # Mean daily profit."
   ]
  },
  {
   "cell_type": "code",
   "execution_count": 263,
   "metadata": {},
   "outputs": [
    {
     "data": {
      "text/plain": [
       "0.15821216560330117"
      ]
     },
     "execution_count": 263,
     "metadata": {},
     "output_type": "execute_result"
    }
   ],
   "source": [
    "np_daily_profit.std()  # Stdev of daily profit."
   ]
  },
  {
   "cell_type": "code",
   "execution_count": 264,
   "metadata": {},
   "outputs": [
    {
     "data": {
      "application/vnd.plotly.v1+json": {
       "config": {
        "plotlyServerURL": "https://plot.ly"
       },
       "data": [
        {
         "hovertemplate": "dates=%{x}<br>equity_daily=%{y}<extra></extra>",
         "legendgroup": "",
         "line": {
          "color": "#636efa",
          "dash": "solid"
         },
         "marker": {
          "symbol": "circle"
         },
         "mode": "lines",
         "name": "",
         "orientation": "v",
         "showlegend": false,
         "type": "scatter",
         "x": [
          "2021-09-01",
          "2021-09-02",
          "2021-09-03",
          "2021-09-04",
          "2021-09-05",
          "2021-09-06",
          "2021-09-07",
          "2021-09-08",
          "2021-09-09",
          "2021-09-10",
          "2021-09-11",
          "2021-09-12",
          "2021-09-13",
          "2021-09-14",
          "2021-09-15",
          "2021-09-16",
          "2021-09-17",
          "2021-09-18",
          "2021-09-19",
          "2021-09-20",
          "2021-09-21",
          "2021-09-22",
          "2021-09-23",
          "2021-09-24",
          "2021-09-25",
          "2021-09-26",
          "2021-09-27",
          "2021-09-28",
          "2021-09-29",
          "2021-09-30",
          "2021-10-01",
          "2021-10-02",
          "2021-10-03",
          "2021-10-04",
          "2021-10-05",
          "2021-10-06",
          "2021-10-07",
          "2021-10-08",
          "2021-10-09",
          "2021-10-10",
          "2021-10-11",
          "2021-10-12",
          "2021-10-13",
          "2021-10-14",
          "2021-10-15",
          "2021-10-16",
          "2021-10-17",
          "2021-10-18",
          "2021-10-19",
          "2021-10-20",
          "2021-10-21",
          "2021-10-22",
          "2021-10-23",
          "2021-10-24",
          "2021-10-25",
          "2021-10-26",
          "2021-10-27",
          "2021-10-28",
          "2021-10-29",
          "2021-10-30",
          "2021-10-31",
          "2021-11-01",
          "2021-11-02",
          "2021-11-03",
          "2021-11-04",
          "2021-11-05",
          "2021-11-06",
          "2021-11-07",
          "2021-11-08",
          "2021-11-09",
          "2021-11-10",
          "2021-11-11",
          "2021-11-12",
          "2021-11-13",
          "2021-11-14",
          "2021-11-15",
          "2021-11-16",
          "2021-11-17",
          "2021-11-18",
          "2021-11-19",
          "2021-11-20",
          "2021-11-21",
          "2021-11-22",
          "2021-11-23",
          "2021-11-24",
          "2021-11-25",
          "2021-11-26",
          "2021-11-27",
          "2021-11-28",
          "2021-11-29",
          "2021-11-30",
          "2021-12-01",
          "2021-12-02",
          "2021-12-03",
          "2021-12-04",
          "2021-12-05",
          "2021-12-06",
          "2021-12-07",
          "2021-12-08",
          "2021-12-09",
          "2021-12-10",
          "2021-12-11",
          "2021-12-12",
          "2021-12-13",
          "2021-12-14",
          "2021-12-15",
          "2021-12-16",
          "2021-12-17",
          "2021-12-18",
          "2021-12-19",
          "2021-12-20",
          "2021-12-21",
          "2021-12-22",
          "2021-12-23",
          "2021-12-24",
          "2021-12-25",
          "2021-12-26",
          "2021-12-27",
          "2021-12-28",
          "2021-12-29",
          "2021-12-30",
          "2021-12-31",
          "2022-01-01",
          "2022-01-02",
          "2022-01-03",
          "2022-01-04",
          "2022-01-05",
          "2022-01-06",
          "2022-01-07",
          "2022-01-08",
          "2022-01-09",
          "2022-01-10",
          "2022-01-11",
          "2022-01-12",
          "2022-01-13",
          "2022-01-14",
          "2022-01-15",
          "2022-01-16",
          "2022-01-17",
          "2022-01-18",
          "2022-01-19",
          "2022-01-20",
          "2022-01-21",
          "2022-01-22",
          "2022-01-23",
          "2022-01-24",
          "2022-01-25",
          "2022-01-26",
          "2022-01-27",
          "2022-01-28",
          "2022-01-29",
          "2022-01-30",
          "2022-01-31",
          "2022-02-01",
          "2022-02-02",
          "2022-02-03",
          "2022-02-04",
          "2022-02-05",
          "2022-02-06",
          "2022-02-07",
          "2022-02-08",
          "2022-02-09",
          "2022-02-10",
          "2022-02-11",
          "2022-02-12",
          "2022-02-13",
          "2022-02-14",
          "2022-02-15",
          "2022-02-16",
          "2022-02-17",
          "2022-02-18",
          "2022-02-19",
          "2022-02-20",
          "2022-02-21",
          "2022-02-22",
          "2022-02-23",
          "2022-02-24",
          "2022-02-25",
          "2022-02-26",
          "2022-02-27",
          "2022-02-28",
          "2022-03-01",
          "2022-03-02",
          "2022-03-03",
          "2022-03-04",
          "2022-03-05",
          "2022-03-06",
          "2022-03-07",
          "2022-03-08",
          "2022-03-09",
          "2022-03-10",
          "2022-03-11",
          "2022-03-12",
          "2022-03-13",
          "2022-03-14",
          "2022-03-15",
          "2022-03-16",
          "2022-03-17",
          "2022-03-18",
          "2022-03-19",
          "2022-03-20",
          "2022-03-21",
          "2022-03-22",
          "2022-03-23",
          "2022-03-24",
          "2022-03-25",
          "2022-03-26",
          "2022-03-27",
          "2022-03-28",
          "2022-03-29",
          "2022-03-30",
          "2022-03-31",
          "2022-04-01",
          "2022-04-02",
          "2022-04-03",
          "2022-04-04",
          "2022-04-05",
          "2022-04-06",
          "2022-04-07",
          "2022-04-08",
          "2022-04-09",
          "2022-04-10",
          "2022-04-11",
          "2022-04-12",
          "2022-04-13",
          "2022-04-14",
          "2022-04-15",
          "2022-04-16",
          "2022-04-17",
          "2022-04-18",
          "2022-04-19",
          "2022-04-20",
          "2022-04-21",
          "2022-04-22",
          "2022-04-23",
          "2022-04-24",
          "2022-04-25",
          "2022-04-26",
          "2022-04-27",
          "2022-04-28",
          "2022-04-29",
          "2022-04-30",
          "2022-05-01",
          "2022-05-02",
          "2022-05-03",
          "2022-05-04",
          "2022-05-05",
          "2022-05-06",
          "2022-05-07",
          "2022-05-08",
          "2022-05-09",
          "2022-05-10",
          "2022-05-11",
          "2022-05-12",
          "2022-05-13",
          "2022-05-14",
          "2022-05-15",
          "2022-05-16",
          "2022-05-17",
          "2022-05-18",
          "2022-05-19",
          "2022-05-20",
          "2022-05-21",
          "2022-05-22",
          "2022-05-23",
          "2022-05-24",
          "2022-05-25",
          "2022-05-26",
          "2022-05-27",
          "2022-05-28",
          "2022-05-29",
          "2022-05-30",
          "2022-05-31",
          "2022-06-01",
          "2022-06-02",
          "2022-06-03",
          "2022-06-04",
          "2022-06-05",
          "2022-06-06",
          "2022-06-07",
          "2022-06-08",
          "2022-06-09",
          "2022-06-10",
          "2022-06-11",
          "2022-06-12",
          "2022-06-13",
          "2022-06-14",
          "2022-06-15",
          "2022-06-16",
          "2022-06-17",
          "2022-06-18",
          "2022-06-19",
          "2022-06-20",
          "2022-06-21",
          "2022-06-22",
          "2022-06-23",
          "2022-06-24",
          "2022-06-25",
          "2022-06-26",
          "2022-06-27",
          "2022-06-28",
          "2022-06-29",
          "2022-06-30",
          "2022-07-01",
          "2022-07-02",
          "2022-07-03",
          "2022-07-04",
          "2022-07-05",
          "2022-07-06",
          "2022-07-07",
          "2022-07-08",
          "2022-07-09",
          "2022-07-10",
          "2022-07-11",
          "2022-07-12",
          "2022-07-13",
          "2022-07-14",
          "2022-07-15",
          "2022-07-16",
          "2022-07-17",
          "2022-07-18",
          "2022-07-19",
          "2022-07-20",
          "2022-07-21",
          "2022-07-22",
          "2022-07-23",
          "2022-07-24",
          "2022-07-25",
          "2022-07-26",
          "2022-07-27",
          "2022-07-28",
          "2022-07-29",
          "2022-07-30",
          "2022-07-31",
          "2022-08-01",
          "2022-08-02",
          "2022-08-03",
          "2022-08-04",
          "2022-08-05",
          "2022-08-06",
          "2022-08-07",
          "2022-08-08",
          "2022-08-09",
          "2022-08-10",
          "2022-08-11",
          "2022-08-12",
          "2022-08-13",
          "2022-08-14",
          "2022-08-15",
          "2022-08-16",
          "2022-08-17",
          "2022-08-18",
          "2022-08-19",
          "2022-08-20",
          "2022-08-21",
          "2022-08-22",
          "2022-08-23",
          "2022-08-24",
          "2022-08-25",
          "2022-08-26",
          "2022-08-27",
          "2022-08-28",
          "2022-08-29",
          "2022-08-30",
          "2022-08-31",
          "2022-09-01",
          "2022-09-02",
          "2022-09-03",
          "2022-09-04",
          "2022-09-05",
          "2022-09-06",
          "2022-09-07",
          "2022-09-08",
          "2022-09-09",
          "2022-09-10",
          "2022-09-11",
          "2022-09-12",
          "2022-09-13",
          "2022-09-14",
          "2022-09-15",
          "2022-09-16",
          "2022-09-17",
          "2022-09-18",
          "2022-09-19",
          "2022-09-20",
          "2022-09-21",
          "2022-09-22",
          "2022-09-23",
          "2022-09-24",
          "2022-09-25",
          "2022-09-26",
          "2022-09-27",
          "2022-09-28",
          "2022-09-29",
          "2022-09-30",
          "2022-10-01",
          "2022-10-02",
          "2022-10-03",
          "2022-10-04",
          "2022-10-05",
          "2022-10-06",
          "2022-10-07",
          "2022-10-08",
          "2022-10-09",
          "2022-10-10",
          "2022-10-11",
          "2022-10-12",
          "2022-10-13",
          "2022-10-14",
          "2022-10-15",
          "2022-10-16",
          "2022-10-17",
          "2022-10-18",
          "2022-10-19",
          "2022-10-20",
          "2022-10-21",
          "2022-10-22",
          "2022-10-23",
          "2022-10-24",
          "2022-10-25",
          "2022-10-26",
          "2022-10-27",
          "2022-10-28",
          "2022-10-29",
          "2022-10-30",
          "2022-10-31",
          "2022-11-01",
          "2022-11-02",
          "2022-11-03",
          "2022-11-04",
          "2022-11-05",
          "2022-11-06",
          "2022-11-07",
          "2022-11-08",
          "2022-11-09",
          "2022-11-10",
          "2022-11-11",
          "2022-11-12",
          "2022-11-13",
          "2022-11-14",
          "2022-11-15",
          "2022-11-16",
          "2022-11-17",
          "2022-11-18",
          "2022-11-19",
          "2022-11-20",
          "2022-11-21",
          "2022-11-22",
          "2022-11-23"
         ],
         "xaxis": "x",
         "y": [
          0,
          0,
          0,
          0.01056239,
          0.01056239,
          0.01056239,
          0.50556762,
          0.50556762,
          0.50556762,
          0.52310152,
          0.52310152,
          0.52310152,
          0.52310152,
          0.52310152,
          0.52310152,
          0.52310152,
          0.75295097,
          0.75295097,
          0.75295097,
          0.75295097,
          1.55256298,
          1.55256298,
          1.55256298,
          1.55256298,
          2.14314449,
          2.14314449,
          2.14314449,
          2.63920535,
          2.63920535,
          2.63920535,
          2.63920535,
          2.63920535,
          2.63920535,
          3.0523056,
          3.0523056,
          3.0523056,
          3.0523056,
          3.0523056,
          3.0523056,
          3.0523056,
          3.0523056,
          3.0523056,
          3.0523056,
          3.0523056,
          3.0523056,
          3.0523056,
          3.0523056,
          3.0523056,
          3.0523056,
          3.0523056,
          3.0523056,
          3.0523056,
          3.46714654,
          3.46714654,
          3.46714654,
          3.46714654,
          3.46714654,
          3.46714654,
          3.46714654,
          3.46714654,
          3.46714654,
          3.46714654,
          3.46714654,
          3.46714654,
          3.46714654,
          3.46714654,
          3.46714654,
          3.46714654,
          3.46714654,
          3.46714654,
          3.46714654,
          3.96386256,
          4.46082467,
          4.46082467,
          4.49651915,
          4.49651915,
          4.49651915,
          4.49651915,
          4.49651915,
          4.67419969,
          4.67419969,
          4.67419969,
          4.67419969,
          4.67419969,
          4.67419969,
          4.67419969,
          4.67419969,
          4.70410237,
          4.70410237,
          5.18249668,
          5.18249668,
          5.18249668,
          5.5062423,
          5.5062423,
          5.5062423,
          6.32740937,
          6.32740937,
          6.32740937,
          6.32740937,
          6.52523381,
          6.52523381,
          6.52523381,
          6.52523381,
          6.52523381,
          6.52523381,
          6.52523381,
          6.52523381,
          6.52523381,
          6.52523381,
          6.52523381,
          6.52523381,
          6.52523381,
          6.52523381,
          6.91759642,
          6.91759642,
          6.92267456,
          6.92267456,
          7.62603311,
          7.90821711,
          8.407131679999999,
          8.407131679999999,
          8.407131679999999,
          8.407131679999999,
          8.407131679999999,
          8.407131679999999,
          8.846172619999999,
          8.846172619999999,
          8.846172619999999,
          8.846172619999999,
          8.846172619999999,
          9.34555148,
          9.7684974,
          9.7684974,
          9.7684974,
          9.7684974,
          9.7684974,
          9.7684974,
          9.729469239999998,
          9.729469239999998,
          9.729469239999998,
          10.328090279999998,
          10.328090279999998,
          10.328090279999998,
          10.328090279999998,
          10.328090279999998,
          10.328090279999998,
          10.328090279999998,
          10.328090279999998,
          10.328090279999998,
          10.328090279999998,
          10.328987959999997,
          10.328987959999997,
          10.328987959999997,
          10.719911479999997,
          10.719911479999997,
          10.719911479999997,
          10.719911479999997,
          10.719911479999997,
          10.719911479999997,
          10.719911479999997,
          10.719911479999997,
          10.719911479999997,
          10.861262869999997,
          10.861262869999997,
          10.861262869999997,
          10.861262869999997,
          11.361639189999998,
          11.513123899999998,
          11.513123899999998,
          11.659672649999997,
          11.662947419999998,
          11.662947419999998,
          11.662947419999998,
          11.662947419999998,
          12.163721789999999,
          12.163721789999999,
          12.163721789999999,
          12.163721789999999,
          12.163721789999999,
          12.163721789999999,
          12.163721789999999,
          12.163721789999999,
          12.163721789999999,
          12.163721789999999,
          12.163721789999999,
          12.163721789999999,
          12.163721789999999,
          12.163721789999999,
          12.168761509999998,
          12.168761509999998,
          12.168761509999998,
          12.168761509999998,
          12.168761509999998,
          12.168761509999998,
          12.168761509999998,
          12.168761509999998,
          12.438019099999998,
          12.614685339999998,
          12.614685339999998,
          12.614685339999998,
          12.617323339999997,
          12.617323339999997,
          12.617323339999997,
          12.617323339999997,
          12.617323339999997,
          12.617323339999997,
          12.617323339999997,
          12.617323339999997,
          12.617323339999997,
          12.617323339999997,
          12.617323339999997,
          12.617323339999997,
          12.617323339999997,
          12.617323339999997,
          12.617323339999997,
          12.622318519999997,
          12.622318519999997,
          12.622318519999997,
          12.622318519999997,
          12.622318519999997,
          12.622318519999997,
          12.622318519999997,
          12.622318519999997,
          12.622318519999997,
          12.617664859999996,
          12.616516409999996,
          12.616516409999996,
          12.616516409999996,
          12.616516409999996,
          12.616516409999996,
          12.616516409999996,
          12.616516409999996,
          12.778728249999995,
          12.778728249999995,
          12.778728249999995,
          12.778728249999995,
          12.778728249999995,
          12.778728249999995,
          12.778728249999995,
          12.778728249999995,
          12.778728249999995,
          12.778728249999995,
          12.778728249999995,
          12.778728249999995,
          12.808200969999994,
          12.808200969999994,
          13.309541029999995,
          13.428475099999995,
          13.428475099999995,
          13.428475099999995,
          13.428475099999995,
          13.428475099999995,
          13.428475099999995,
          13.428475099999995,
          13.931282019999994,
          13.931282019999994,
          13.931282019999994,
          14.433177999999995,
          14.433177999999995,
          14.433177999999995,
          14.446568979999995,
          14.446568979999995,
          14.446568979999995,
          14.446568979999995,
          15.460079919999995,
          15.460079919999995,
          15.460079919999995,
          15.460079919999995,
          15.460079919999995,
          15.525320179999994,
          15.525320179999994,
          15.525320179999994,
          15.555803809999995,
          15.555803809999995,
          15.555803809999995,
          15.555803809999995,
          15.555803809999995,
          15.555803809999995,
          15.555803809999995,
          15.550798529999994,
          15.550798529999994,
          15.550798529999994,
          15.550798529999994,
          15.550798529999994,
          15.550798529999994,
          15.550798529999994,
          15.550798529999994,
          15.550798529999994,
          16.102967359999994,
          16.102967359999994,
          16.102967359999994,
          16.102967359999994,
          16.102967359999994,
          16.071145029999993,
          16.560838189999995,
          17.051786389999993,
          17.051786389999993,
          17.051786389999993,
          17.051786389999993,
          17.05654227999999,
          17.05654227999999,
          17.05654227999999,
          17.05654227999999,
          17.05654227999999,
          17.437106989999993,
          17.437106989999993,
          17.437106989999993,
          17.622835199999994,
          17.622835199999994,
          17.714377909999993,
          18.00854517999999,
          18.00854517999999,
          18.40999670999999,
          18.89442055999999,
          18.89442055999999,
          18.89442055999999,
          18.89442055999999,
          18.96477842999999,
          18.96569770999999,
          18.96569770999999,
          19.06155319999999,
          19.06155319999999,
          19.43025056999999,
          19.43025056999999,
          19.43025056999999,
          19.43025056999999,
          19.57139524999999,
          19.57139524999999,
          19.57139524999999,
          19.57139524999999,
          19.57139524999999,
          19.57139524999999,
          20.07608308999999,
          20.07608308999999,
          20.07608308999999,
          20.72662702999999,
          20.72662702999999,
          20.91868168999999,
          20.91868168999999,
          20.91868168999999,
          20.91868168999999,
          20.91868168999999,
          20.91868168999999,
          20.956391239999988,
          20.956391239999988,
          21.020509949999987,
          21.020509949999987,
          21.020509949999987,
          21.020509949999987,
          21.020509949999987,
          21.020509949999987,
          21.020509949999987,
          21.020509949999987,
          21.020509949999987,
          21.020509949999987,
          21.020509949999987,
          21.020509949999987,
          21.020509949999987,
          21.020509949999987,
          21.021783129999985,
          21.021783129999985,
          21.021783129999985,
          21.021783129999985,
          21.021783129999985,
          21.021783129999985,
          21.456391989999986,
          21.456391989999986,
          21.575518439999986,
          21.575518439999986,
          21.858388879999985,
          21.858388879999985,
          22.364208779999984,
          22.364208779999984,
          22.364208779999984,
          22.364208779999984,
          22.364208779999984,
          22.364208779999984,
          22.364208779999984,
          22.364208779999984,
          22.364208779999984,
          22.364208779999984,
          22.364208779999984,
          22.493480209999984,
          22.493480209999984,
          22.493480209999984,
          22.493480209999984,
          22.499284669999984,
          22.499284669999984,
          22.499284669999984,
          22.499284669999984,
          22.499284669999984,
          22.499284669999984,
          22.499284669999984,
          22.499284669999984,
          22.499284669999984,
          22.499284669999984,
          22.499284669999984,
          22.499284669999984,
          22.499284669999984,
          23.077370649999985,
          23.077370649999985,
          23.077370649999985,
          23.077370649999985,
          23.077370649999985,
          23.082452859999986,
          23.004571129999984,
          23.004571129999984,
          23.004571129999984,
          23.004571129999984,
          23.004571129999984,
          23.004571129999984,
          23.004571129999984,
          23.004571129999984,
          23.009306609999985,
          23.009306609999985,
          23.255357449999984,
          23.255357449999984,
          23.255357449999984,
          23.255357449999984,
          23.255357449999984,
          23.255357449999984,
          23.255357449999984,
          23.255357449999984,
          23.255357449999984,
          23.582566029999985,
          23.582566029999985,
          23.582566029999985,
          23.582566029999985,
          23.582566029999985,
          23.582566029999985,
          23.582566029999985,
          23.582566029999985,
          23.582566029999985,
          23.582566029999985,
          23.577930449999986,
          23.489165949999986,
          23.489165949999986,
          24.400671019999987,
          24.400671019999987,
          24.400671019999987,
          24.400671019999987,
          24.400671019999987,
          24.937516289999987,
          24.937516289999987,
          24.937516289999987,
          24.937516289999987,
          25.074254089999986,
          25.074254089999986,
          25.074254089999986
         ],
         "yaxis": "y"
        }
       ],
       "layout": {
        "legend": {
         "tracegroupgap": 0
        },
        "margin": {
         "t": 60
        },
        "template": {
         "data": {
          "bar": [
           {
            "error_x": {
             "color": "#2a3f5f"
            },
            "error_y": {
             "color": "#2a3f5f"
            },
            "marker": {
             "line": {
              "color": "#E5ECF6",
              "width": 0.5
             },
             "pattern": {
              "fillmode": "overlay",
              "size": 10,
              "solidity": 0.2
             }
            },
            "type": "bar"
           }
          ],
          "barpolar": [
           {
            "marker": {
             "line": {
              "color": "#E5ECF6",
              "width": 0.5
             },
             "pattern": {
              "fillmode": "overlay",
              "size": 10,
              "solidity": 0.2
             }
            },
            "type": "barpolar"
           }
          ],
          "carpet": [
           {
            "aaxis": {
             "endlinecolor": "#2a3f5f",
             "gridcolor": "white",
             "linecolor": "white",
             "minorgridcolor": "white",
             "startlinecolor": "#2a3f5f"
            },
            "baxis": {
             "endlinecolor": "#2a3f5f",
             "gridcolor": "white",
             "linecolor": "white",
             "minorgridcolor": "white",
             "startlinecolor": "#2a3f5f"
            },
            "type": "carpet"
           }
          ],
          "choropleth": [
           {
            "colorbar": {
             "outlinewidth": 0,
             "ticks": ""
            },
            "type": "choropleth"
           }
          ],
          "contour": [
           {
            "colorbar": {
             "outlinewidth": 0,
             "ticks": ""
            },
            "colorscale": [
             [
              0,
              "#0d0887"
             ],
             [
              0.1111111111111111,
              "#46039f"
             ],
             [
              0.2222222222222222,
              "#7201a8"
             ],
             [
              0.3333333333333333,
              "#9c179e"
             ],
             [
              0.4444444444444444,
              "#bd3786"
             ],
             [
              0.5555555555555556,
              "#d8576b"
             ],
             [
              0.6666666666666666,
              "#ed7953"
             ],
             [
              0.7777777777777778,
              "#fb9f3a"
             ],
             [
              0.8888888888888888,
              "#fdca26"
             ],
             [
              1,
              "#f0f921"
             ]
            ],
            "type": "contour"
           }
          ],
          "contourcarpet": [
           {
            "colorbar": {
             "outlinewidth": 0,
             "ticks": ""
            },
            "type": "contourcarpet"
           }
          ],
          "heatmap": [
           {
            "colorbar": {
             "outlinewidth": 0,
             "ticks": ""
            },
            "colorscale": [
             [
              0,
              "#0d0887"
             ],
             [
              0.1111111111111111,
              "#46039f"
             ],
             [
              0.2222222222222222,
              "#7201a8"
             ],
             [
              0.3333333333333333,
              "#9c179e"
             ],
             [
              0.4444444444444444,
              "#bd3786"
             ],
             [
              0.5555555555555556,
              "#d8576b"
             ],
             [
              0.6666666666666666,
              "#ed7953"
             ],
             [
              0.7777777777777778,
              "#fb9f3a"
             ],
             [
              0.8888888888888888,
              "#fdca26"
             ],
             [
              1,
              "#f0f921"
             ]
            ],
            "type": "heatmap"
           }
          ],
          "heatmapgl": [
           {
            "colorbar": {
             "outlinewidth": 0,
             "ticks": ""
            },
            "colorscale": [
             [
              0,
              "#0d0887"
             ],
             [
              0.1111111111111111,
              "#46039f"
             ],
             [
              0.2222222222222222,
              "#7201a8"
             ],
             [
              0.3333333333333333,
              "#9c179e"
             ],
             [
              0.4444444444444444,
              "#bd3786"
             ],
             [
              0.5555555555555556,
              "#d8576b"
             ],
             [
              0.6666666666666666,
              "#ed7953"
             ],
             [
              0.7777777777777778,
              "#fb9f3a"
             ],
             [
              0.8888888888888888,
              "#fdca26"
             ],
             [
              1,
              "#f0f921"
             ]
            ],
            "type": "heatmapgl"
           }
          ],
          "histogram": [
           {
            "marker": {
             "pattern": {
              "fillmode": "overlay",
              "size": 10,
              "solidity": 0.2
             }
            },
            "type": "histogram"
           }
          ],
          "histogram2d": [
           {
            "colorbar": {
             "outlinewidth": 0,
             "ticks": ""
            },
            "colorscale": [
             [
              0,
              "#0d0887"
             ],
             [
              0.1111111111111111,
              "#46039f"
             ],
             [
              0.2222222222222222,
              "#7201a8"
             ],
             [
              0.3333333333333333,
              "#9c179e"
             ],
             [
              0.4444444444444444,
              "#bd3786"
             ],
             [
              0.5555555555555556,
              "#d8576b"
             ],
             [
              0.6666666666666666,
              "#ed7953"
             ],
             [
              0.7777777777777778,
              "#fb9f3a"
             ],
             [
              0.8888888888888888,
              "#fdca26"
             ],
             [
              1,
              "#f0f921"
             ]
            ],
            "type": "histogram2d"
           }
          ],
          "histogram2dcontour": [
           {
            "colorbar": {
             "outlinewidth": 0,
             "ticks": ""
            },
            "colorscale": [
             [
              0,
              "#0d0887"
             ],
             [
              0.1111111111111111,
              "#46039f"
             ],
             [
              0.2222222222222222,
              "#7201a8"
             ],
             [
              0.3333333333333333,
              "#9c179e"
             ],
             [
              0.4444444444444444,
              "#bd3786"
             ],
             [
              0.5555555555555556,
              "#d8576b"
             ],
             [
              0.6666666666666666,
              "#ed7953"
             ],
             [
              0.7777777777777778,
              "#fb9f3a"
             ],
             [
              0.8888888888888888,
              "#fdca26"
             ],
             [
              1,
              "#f0f921"
             ]
            ],
            "type": "histogram2dcontour"
           }
          ],
          "mesh3d": [
           {
            "colorbar": {
             "outlinewidth": 0,
             "ticks": ""
            },
            "type": "mesh3d"
           }
          ],
          "parcoords": [
           {
            "line": {
             "colorbar": {
              "outlinewidth": 0,
              "ticks": ""
             }
            },
            "type": "parcoords"
           }
          ],
          "pie": [
           {
            "automargin": true,
            "type": "pie"
           }
          ],
          "scatter": [
           {
            "fillpattern": {
             "fillmode": "overlay",
             "size": 10,
             "solidity": 0.2
            },
            "type": "scatter"
           }
          ],
          "scatter3d": [
           {
            "line": {
             "colorbar": {
              "outlinewidth": 0,
              "ticks": ""
             }
            },
            "marker": {
             "colorbar": {
              "outlinewidth": 0,
              "ticks": ""
             }
            },
            "type": "scatter3d"
           }
          ],
          "scattercarpet": [
           {
            "marker": {
             "colorbar": {
              "outlinewidth": 0,
              "ticks": ""
             }
            },
            "type": "scattercarpet"
           }
          ],
          "scattergeo": [
           {
            "marker": {
             "colorbar": {
              "outlinewidth": 0,
              "ticks": ""
             }
            },
            "type": "scattergeo"
           }
          ],
          "scattergl": [
           {
            "marker": {
             "colorbar": {
              "outlinewidth": 0,
              "ticks": ""
             }
            },
            "type": "scattergl"
           }
          ],
          "scattermapbox": [
           {
            "marker": {
             "colorbar": {
              "outlinewidth": 0,
              "ticks": ""
             }
            },
            "type": "scattermapbox"
           }
          ],
          "scatterpolar": [
           {
            "marker": {
             "colorbar": {
              "outlinewidth": 0,
              "ticks": ""
             }
            },
            "type": "scatterpolar"
           }
          ],
          "scatterpolargl": [
           {
            "marker": {
             "colorbar": {
              "outlinewidth": 0,
              "ticks": ""
             }
            },
            "type": "scatterpolargl"
           }
          ],
          "scatterternary": [
           {
            "marker": {
             "colorbar": {
              "outlinewidth": 0,
              "ticks": ""
             }
            },
            "type": "scatterternary"
           }
          ],
          "surface": [
           {
            "colorbar": {
             "outlinewidth": 0,
             "ticks": ""
            },
            "colorscale": [
             [
              0,
              "#0d0887"
             ],
             [
              0.1111111111111111,
              "#46039f"
             ],
             [
              0.2222222222222222,
              "#7201a8"
             ],
             [
              0.3333333333333333,
              "#9c179e"
             ],
             [
              0.4444444444444444,
              "#bd3786"
             ],
             [
              0.5555555555555556,
              "#d8576b"
             ],
             [
              0.6666666666666666,
              "#ed7953"
             ],
             [
              0.7777777777777778,
              "#fb9f3a"
             ],
             [
              0.8888888888888888,
              "#fdca26"
             ],
             [
              1,
              "#f0f921"
             ]
            ],
            "type": "surface"
           }
          ],
          "table": [
           {
            "cells": {
             "fill": {
              "color": "#EBF0F8"
             },
             "line": {
              "color": "white"
             }
            },
            "header": {
             "fill": {
              "color": "#C8D4E3"
             },
             "line": {
              "color": "white"
             }
            },
            "type": "table"
           }
          ]
         },
         "layout": {
          "annotationdefaults": {
           "arrowcolor": "#2a3f5f",
           "arrowhead": 0,
           "arrowwidth": 1
          },
          "autotypenumbers": "strict",
          "coloraxis": {
           "colorbar": {
            "outlinewidth": 0,
            "ticks": ""
           }
          },
          "colorscale": {
           "diverging": [
            [
             0,
             "#8e0152"
            ],
            [
             0.1,
             "#c51b7d"
            ],
            [
             0.2,
             "#de77ae"
            ],
            [
             0.3,
             "#f1b6da"
            ],
            [
             0.4,
             "#fde0ef"
            ],
            [
             0.5,
             "#f7f7f7"
            ],
            [
             0.6,
             "#e6f5d0"
            ],
            [
             0.7,
             "#b8e186"
            ],
            [
             0.8,
             "#7fbc41"
            ],
            [
             0.9,
             "#4d9221"
            ],
            [
             1,
             "#276419"
            ]
           ],
           "sequential": [
            [
             0,
             "#0d0887"
            ],
            [
             0.1111111111111111,
             "#46039f"
            ],
            [
             0.2222222222222222,
             "#7201a8"
            ],
            [
             0.3333333333333333,
             "#9c179e"
            ],
            [
             0.4444444444444444,
             "#bd3786"
            ],
            [
             0.5555555555555556,
             "#d8576b"
            ],
            [
             0.6666666666666666,
             "#ed7953"
            ],
            [
             0.7777777777777778,
             "#fb9f3a"
            ],
            [
             0.8888888888888888,
             "#fdca26"
            ],
            [
             1,
             "#f0f921"
            ]
           ],
           "sequentialminus": [
            [
             0,
             "#0d0887"
            ],
            [
             0.1111111111111111,
             "#46039f"
            ],
            [
             0.2222222222222222,
             "#7201a8"
            ],
            [
             0.3333333333333333,
             "#9c179e"
            ],
            [
             0.4444444444444444,
             "#bd3786"
            ],
            [
             0.5555555555555556,
             "#d8576b"
            ],
            [
             0.6666666666666666,
             "#ed7953"
            ],
            [
             0.7777777777777778,
             "#fb9f3a"
            ],
            [
             0.8888888888888888,
             "#fdca26"
            ],
            [
             1,
             "#f0f921"
            ]
           ]
          },
          "colorway": [
           "#636efa",
           "#EF553B",
           "#00cc96",
           "#ab63fa",
           "#FFA15A",
           "#19d3f3",
           "#FF6692",
           "#B6E880",
           "#FF97FF",
           "#FECB52"
          ],
          "font": {
           "color": "#2a3f5f"
          },
          "geo": {
           "bgcolor": "white",
           "lakecolor": "white",
           "landcolor": "#E5ECF6",
           "showlakes": true,
           "showland": true,
           "subunitcolor": "white"
          },
          "hoverlabel": {
           "align": "left"
          },
          "hovermode": "closest",
          "mapbox": {
           "style": "light"
          },
          "paper_bgcolor": "white",
          "plot_bgcolor": "#E5ECF6",
          "polar": {
           "angularaxis": {
            "gridcolor": "white",
            "linecolor": "white",
            "ticks": ""
           },
           "bgcolor": "#E5ECF6",
           "radialaxis": {
            "gridcolor": "white",
            "linecolor": "white",
            "ticks": ""
           }
          },
          "scene": {
           "xaxis": {
            "backgroundcolor": "#E5ECF6",
            "gridcolor": "white",
            "gridwidth": 2,
            "linecolor": "white",
            "showbackground": true,
            "ticks": "",
            "zerolinecolor": "white"
           },
           "yaxis": {
            "backgroundcolor": "#E5ECF6",
            "gridcolor": "white",
            "gridwidth": 2,
            "linecolor": "white",
            "showbackground": true,
            "ticks": "",
            "zerolinecolor": "white"
           },
           "zaxis": {
            "backgroundcolor": "#E5ECF6",
            "gridcolor": "white",
            "gridwidth": 2,
            "linecolor": "white",
            "showbackground": true,
            "ticks": "",
            "zerolinecolor": "white"
           }
          },
          "shapedefaults": {
           "line": {
            "color": "#2a3f5f"
           }
          },
          "ternary": {
           "aaxis": {
            "gridcolor": "white",
            "linecolor": "white",
            "ticks": ""
           },
           "baxis": {
            "gridcolor": "white",
            "linecolor": "white",
            "ticks": ""
           },
           "bgcolor": "#E5ECF6",
           "caxis": {
            "gridcolor": "white",
            "linecolor": "white",
            "ticks": ""
           }
          },
          "title": {
           "x": 0.05
          },
          "xaxis": {
           "automargin": true,
           "gridcolor": "white",
           "linecolor": "white",
           "ticks": "",
           "title": {
            "standoff": 15
           },
           "zerolinecolor": "white",
           "zerolinewidth": 2
          },
          "yaxis": {
           "automargin": true,
           "gridcolor": "white",
           "linecolor": "white",
           "ticks": "",
           "title": {
            "standoff": 15
           },
           "zerolinecolor": "white",
           "zerolinewidth": 2
          }
         }
        },
        "xaxis": {
         "anchor": "y",
         "domain": [
          0,
          1
         ],
         "title": {
          "text": "dates"
         }
        },
        "yaxis": {
         "anchor": "x",
         "domain": [
          0,
          1
         ],
         "title": {
          "text": "equity_daily"
         }
        }
       }
      },
      "text/html": [
       "<div>                            <div id=\"388a7f0b-02d8-4a0f-9f49-001c7194372d\" class=\"plotly-graph-div\" style=\"height:525px; width:100%;\"></div>            <script type=\"text/javascript\">                require([\"plotly\"], function(Plotly) {                    window.PLOTLYENV=window.PLOTLYENV || {};                                    if (document.getElementById(\"388a7f0b-02d8-4a0f-9f49-001c7194372d\")) {                    Plotly.newPlot(                        \"388a7f0b-02d8-4a0f-9f49-001c7194372d\",                        [{\"hovertemplate\":\"dates=%{x}<br>equity_daily=%{y}<extra></extra>\",\"legendgroup\":\"\",\"line\":{\"color\":\"#636efa\",\"dash\":\"solid\"},\"marker\":{\"symbol\":\"circle\"},\"mode\":\"lines\",\"name\":\"\",\"orientation\":\"v\",\"showlegend\":false,\"x\":[\"2021-09-01\",\"2021-09-02\",\"2021-09-03\",\"2021-09-04\",\"2021-09-05\",\"2021-09-06\",\"2021-09-07\",\"2021-09-08\",\"2021-09-09\",\"2021-09-10\",\"2021-09-11\",\"2021-09-12\",\"2021-09-13\",\"2021-09-14\",\"2021-09-15\",\"2021-09-16\",\"2021-09-17\",\"2021-09-18\",\"2021-09-19\",\"2021-09-20\",\"2021-09-21\",\"2021-09-22\",\"2021-09-23\",\"2021-09-24\",\"2021-09-25\",\"2021-09-26\",\"2021-09-27\",\"2021-09-28\",\"2021-09-29\",\"2021-09-30\",\"2021-10-01\",\"2021-10-02\",\"2021-10-03\",\"2021-10-04\",\"2021-10-05\",\"2021-10-06\",\"2021-10-07\",\"2021-10-08\",\"2021-10-09\",\"2021-10-10\",\"2021-10-11\",\"2021-10-12\",\"2021-10-13\",\"2021-10-14\",\"2021-10-15\",\"2021-10-16\",\"2021-10-17\",\"2021-10-18\",\"2021-10-19\",\"2021-10-20\",\"2021-10-21\",\"2021-10-22\",\"2021-10-23\",\"2021-10-24\",\"2021-10-25\",\"2021-10-26\",\"2021-10-27\",\"2021-10-28\",\"2021-10-29\",\"2021-10-30\",\"2021-10-31\",\"2021-11-01\",\"2021-11-02\",\"2021-11-03\",\"2021-11-04\",\"2021-11-05\",\"2021-11-06\",\"2021-11-07\",\"2021-11-08\",\"2021-11-09\",\"2021-11-10\",\"2021-11-11\",\"2021-11-12\",\"2021-11-13\",\"2021-11-14\",\"2021-11-15\",\"2021-11-16\",\"2021-11-17\",\"2021-11-18\",\"2021-11-19\",\"2021-11-20\",\"2021-11-21\",\"2021-11-22\",\"2021-11-23\",\"2021-11-24\",\"2021-11-25\",\"2021-11-26\",\"2021-11-27\",\"2021-11-28\",\"2021-11-29\",\"2021-11-30\",\"2021-12-01\",\"2021-12-02\",\"2021-12-03\",\"2021-12-04\",\"2021-12-05\",\"2021-12-06\",\"2021-12-07\",\"2021-12-08\",\"2021-12-09\",\"2021-12-10\",\"2021-12-11\",\"2021-12-12\",\"2021-12-13\",\"2021-12-14\",\"2021-12-15\",\"2021-12-16\",\"2021-12-17\",\"2021-12-18\",\"2021-12-19\",\"2021-12-20\",\"2021-12-21\",\"2021-12-22\",\"2021-12-23\",\"2021-12-24\",\"2021-12-25\",\"2021-12-26\",\"2021-12-27\",\"2021-12-28\",\"2021-12-29\",\"2021-12-30\",\"2021-12-31\",\"2022-01-01\",\"2022-01-02\",\"2022-01-03\",\"2022-01-04\",\"2022-01-05\",\"2022-01-06\",\"2022-01-07\",\"2022-01-08\",\"2022-01-09\",\"2022-01-10\",\"2022-01-11\",\"2022-01-12\",\"2022-01-13\",\"2022-01-14\",\"2022-01-15\",\"2022-01-16\",\"2022-01-17\",\"2022-01-18\",\"2022-01-19\",\"2022-01-20\",\"2022-01-21\",\"2022-01-22\",\"2022-01-23\",\"2022-01-24\",\"2022-01-25\",\"2022-01-26\",\"2022-01-27\",\"2022-01-28\",\"2022-01-29\",\"2022-01-30\",\"2022-01-31\",\"2022-02-01\",\"2022-02-02\",\"2022-02-03\",\"2022-02-04\",\"2022-02-05\",\"2022-02-06\",\"2022-02-07\",\"2022-02-08\",\"2022-02-09\",\"2022-02-10\",\"2022-02-11\",\"2022-02-12\",\"2022-02-13\",\"2022-02-14\",\"2022-02-15\",\"2022-02-16\",\"2022-02-17\",\"2022-02-18\",\"2022-02-19\",\"2022-02-20\",\"2022-02-21\",\"2022-02-22\",\"2022-02-23\",\"2022-02-24\",\"2022-02-25\",\"2022-02-26\",\"2022-02-27\",\"2022-02-28\",\"2022-03-01\",\"2022-03-02\",\"2022-03-03\",\"2022-03-04\",\"2022-03-05\",\"2022-03-06\",\"2022-03-07\",\"2022-03-08\",\"2022-03-09\",\"2022-03-10\",\"2022-03-11\",\"2022-03-12\",\"2022-03-13\",\"2022-03-14\",\"2022-03-15\",\"2022-03-16\",\"2022-03-17\",\"2022-03-18\",\"2022-03-19\",\"2022-03-20\",\"2022-03-21\",\"2022-03-22\",\"2022-03-23\",\"2022-03-24\",\"2022-03-25\",\"2022-03-26\",\"2022-03-27\",\"2022-03-28\",\"2022-03-29\",\"2022-03-30\",\"2022-03-31\",\"2022-04-01\",\"2022-04-02\",\"2022-04-03\",\"2022-04-04\",\"2022-04-05\",\"2022-04-06\",\"2022-04-07\",\"2022-04-08\",\"2022-04-09\",\"2022-04-10\",\"2022-04-11\",\"2022-04-12\",\"2022-04-13\",\"2022-04-14\",\"2022-04-15\",\"2022-04-16\",\"2022-04-17\",\"2022-04-18\",\"2022-04-19\",\"2022-04-20\",\"2022-04-21\",\"2022-04-22\",\"2022-04-23\",\"2022-04-24\",\"2022-04-25\",\"2022-04-26\",\"2022-04-27\",\"2022-04-28\",\"2022-04-29\",\"2022-04-30\",\"2022-05-01\",\"2022-05-02\",\"2022-05-03\",\"2022-05-04\",\"2022-05-05\",\"2022-05-06\",\"2022-05-07\",\"2022-05-08\",\"2022-05-09\",\"2022-05-10\",\"2022-05-11\",\"2022-05-12\",\"2022-05-13\",\"2022-05-14\",\"2022-05-15\",\"2022-05-16\",\"2022-05-17\",\"2022-05-18\",\"2022-05-19\",\"2022-05-20\",\"2022-05-21\",\"2022-05-22\",\"2022-05-23\",\"2022-05-24\",\"2022-05-25\",\"2022-05-26\",\"2022-05-27\",\"2022-05-28\",\"2022-05-29\",\"2022-05-30\",\"2022-05-31\",\"2022-06-01\",\"2022-06-02\",\"2022-06-03\",\"2022-06-04\",\"2022-06-05\",\"2022-06-06\",\"2022-06-07\",\"2022-06-08\",\"2022-06-09\",\"2022-06-10\",\"2022-06-11\",\"2022-06-12\",\"2022-06-13\",\"2022-06-14\",\"2022-06-15\",\"2022-06-16\",\"2022-06-17\",\"2022-06-18\",\"2022-06-19\",\"2022-06-20\",\"2022-06-21\",\"2022-06-22\",\"2022-06-23\",\"2022-06-24\",\"2022-06-25\",\"2022-06-26\",\"2022-06-27\",\"2022-06-28\",\"2022-06-29\",\"2022-06-30\",\"2022-07-01\",\"2022-07-02\",\"2022-07-03\",\"2022-07-04\",\"2022-07-05\",\"2022-07-06\",\"2022-07-07\",\"2022-07-08\",\"2022-07-09\",\"2022-07-10\",\"2022-07-11\",\"2022-07-12\",\"2022-07-13\",\"2022-07-14\",\"2022-07-15\",\"2022-07-16\",\"2022-07-17\",\"2022-07-18\",\"2022-07-19\",\"2022-07-20\",\"2022-07-21\",\"2022-07-22\",\"2022-07-23\",\"2022-07-24\",\"2022-07-25\",\"2022-07-26\",\"2022-07-27\",\"2022-07-28\",\"2022-07-29\",\"2022-07-30\",\"2022-07-31\",\"2022-08-01\",\"2022-08-02\",\"2022-08-03\",\"2022-08-04\",\"2022-08-05\",\"2022-08-06\",\"2022-08-07\",\"2022-08-08\",\"2022-08-09\",\"2022-08-10\",\"2022-08-11\",\"2022-08-12\",\"2022-08-13\",\"2022-08-14\",\"2022-08-15\",\"2022-08-16\",\"2022-08-17\",\"2022-08-18\",\"2022-08-19\",\"2022-08-20\",\"2022-08-21\",\"2022-08-22\",\"2022-08-23\",\"2022-08-24\",\"2022-08-25\",\"2022-08-26\",\"2022-08-27\",\"2022-08-28\",\"2022-08-29\",\"2022-08-30\",\"2022-08-31\",\"2022-09-01\",\"2022-09-02\",\"2022-09-03\",\"2022-09-04\",\"2022-09-05\",\"2022-09-06\",\"2022-09-07\",\"2022-09-08\",\"2022-09-09\",\"2022-09-10\",\"2022-09-11\",\"2022-09-12\",\"2022-09-13\",\"2022-09-14\",\"2022-09-15\",\"2022-09-16\",\"2022-09-17\",\"2022-09-18\",\"2022-09-19\",\"2022-09-20\",\"2022-09-21\",\"2022-09-22\",\"2022-09-23\",\"2022-09-24\",\"2022-09-25\",\"2022-09-26\",\"2022-09-27\",\"2022-09-28\",\"2022-09-29\",\"2022-09-30\",\"2022-10-01\",\"2022-10-02\",\"2022-10-03\",\"2022-10-04\",\"2022-10-05\",\"2022-10-06\",\"2022-10-07\",\"2022-10-08\",\"2022-10-09\",\"2022-10-10\",\"2022-10-11\",\"2022-10-12\",\"2022-10-13\",\"2022-10-14\",\"2022-10-15\",\"2022-10-16\",\"2022-10-17\",\"2022-10-18\",\"2022-10-19\",\"2022-10-20\",\"2022-10-21\",\"2022-10-22\",\"2022-10-23\",\"2022-10-24\",\"2022-10-25\",\"2022-10-26\",\"2022-10-27\",\"2022-10-28\",\"2022-10-29\",\"2022-10-30\",\"2022-10-31\",\"2022-11-01\",\"2022-11-02\",\"2022-11-03\",\"2022-11-04\",\"2022-11-05\",\"2022-11-06\",\"2022-11-07\",\"2022-11-08\",\"2022-11-09\",\"2022-11-10\",\"2022-11-11\",\"2022-11-12\",\"2022-11-13\",\"2022-11-14\",\"2022-11-15\",\"2022-11-16\",\"2022-11-17\",\"2022-11-18\",\"2022-11-19\",\"2022-11-20\",\"2022-11-21\",\"2022-11-22\",\"2022-11-23\"],\"xaxis\":\"x\",\"y\":[0.0,0.0,0.0,0.01056239,0.01056239,0.01056239,0.50556762,0.50556762,0.50556762,0.52310152,0.52310152,0.52310152,0.52310152,0.52310152,0.52310152,0.52310152,0.75295097,0.75295097,0.75295097,0.75295097,1.55256298,1.55256298,1.55256298,1.55256298,2.14314449,2.14314449,2.14314449,2.63920535,2.63920535,2.63920535,2.63920535,2.63920535,2.63920535,3.0523056,3.0523056,3.0523056,3.0523056,3.0523056,3.0523056,3.0523056,3.0523056,3.0523056,3.0523056,3.0523056,3.0523056,3.0523056,3.0523056,3.0523056,3.0523056,3.0523056,3.0523056,3.0523056,3.46714654,3.46714654,3.46714654,3.46714654,3.46714654,3.46714654,3.46714654,3.46714654,3.46714654,3.46714654,3.46714654,3.46714654,3.46714654,3.46714654,3.46714654,3.46714654,3.46714654,3.46714654,3.46714654,3.96386256,4.46082467,4.46082467,4.49651915,4.49651915,4.49651915,4.49651915,4.49651915,4.67419969,4.67419969,4.67419969,4.67419969,4.67419969,4.67419969,4.67419969,4.67419969,4.70410237,4.70410237,5.18249668,5.18249668,5.18249668,5.5062423,5.5062423,5.5062423,6.32740937,6.32740937,6.32740937,6.32740937,6.52523381,6.52523381,6.52523381,6.52523381,6.52523381,6.52523381,6.52523381,6.52523381,6.52523381,6.52523381,6.52523381,6.52523381,6.52523381,6.52523381,6.91759642,6.91759642,6.92267456,6.92267456,7.62603311,7.90821711,8.407131679999999,8.407131679999999,8.407131679999999,8.407131679999999,8.407131679999999,8.407131679999999,8.846172619999999,8.846172619999999,8.846172619999999,8.846172619999999,8.846172619999999,9.34555148,9.7684974,9.7684974,9.7684974,9.7684974,9.7684974,9.7684974,9.729469239999998,9.729469239999998,9.729469239999998,10.328090279999998,10.328090279999998,10.328090279999998,10.328090279999998,10.328090279999998,10.328090279999998,10.328090279999998,10.328090279999998,10.328090279999998,10.328090279999998,10.328987959999997,10.328987959999997,10.328987959999997,10.719911479999997,10.719911479999997,10.719911479999997,10.719911479999997,10.719911479999997,10.719911479999997,10.719911479999997,10.719911479999997,10.719911479999997,10.861262869999997,10.861262869999997,10.861262869999997,10.861262869999997,11.361639189999998,11.513123899999998,11.513123899999998,11.659672649999997,11.662947419999998,11.662947419999998,11.662947419999998,11.662947419999998,12.163721789999999,12.163721789999999,12.163721789999999,12.163721789999999,12.163721789999999,12.163721789999999,12.163721789999999,12.163721789999999,12.163721789999999,12.163721789999999,12.163721789999999,12.163721789999999,12.163721789999999,12.163721789999999,12.168761509999998,12.168761509999998,12.168761509999998,12.168761509999998,12.168761509999998,12.168761509999998,12.168761509999998,12.168761509999998,12.438019099999998,12.614685339999998,12.614685339999998,12.614685339999998,12.617323339999997,12.617323339999997,12.617323339999997,12.617323339999997,12.617323339999997,12.617323339999997,12.617323339999997,12.617323339999997,12.617323339999997,12.617323339999997,12.617323339999997,12.617323339999997,12.617323339999997,12.617323339999997,12.617323339999997,12.622318519999997,12.622318519999997,12.622318519999997,12.622318519999997,12.622318519999997,12.622318519999997,12.622318519999997,12.622318519999997,12.622318519999997,12.617664859999996,12.616516409999996,12.616516409999996,12.616516409999996,12.616516409999996,12.616516409999996,12.616516409999996,12.616516409999996,12.778728249999995,12.778728249999995,12.778728249999995,12.778728249999995,12.778728249999995,12.778728249999995,12.778728249999995,12.778728249999995,12.778728249999995,12.778728249999995,12.778728249999995,12.778728249999995,12.808200969999994,12.808200969999994,13.309541029999995,13.428475099999995,13.428475099999995,13.428475099999995,13.428475099999995,13.428475099999995,13.428475099999995,13.428475099999995,13.931282019999994,13.931282019999994,13.931282019999994,14.433177999999995,14.433177999999995,14.433177999999995,14.446568979999995,14.446568979999995,14.446568979999995,14.446568979999995,15.460079919999995,15.460079919999995,15.460079919999995,15.460079919999995,15.460079919999995,15.525320179999994,15.525320179999994,15.525320179999994,15.555803809999995,15.555803809999995,15.555803809999995,15.555803809999995,15.555803809999995,15.555803809999995,15.555803809999995,15.550798529999994,15.550798529999994,15.550798529999994,15.550798529999994,15.550798529999994,15.550798529999994,15.550798529999994,15.550798529999994,15.550798529999994,16.102967359999994,16.102967359999994,16.102967359999994,16.102967359999994,16.102967359999994,16.071145029999993,16.560838189999995,17.051786389999993,17.051786389999993,17.051786389999993,17.051786389999993,17.05654227999999,17.05654227999999,17.05654227999999,17.05654227999999,17.05654227999999,17.437106989999993,17.437106989999993,17.437106989999993,17.622835199999994,17.622835199999994,17.714377909999993,18.00854517999999,18.00854517999999,18.40999670999999,18.89442055999999,18.89442055999999,18.89442055999999,18.89442055999999,18.96477842999999,18.96569770999999,18.96569770999999,19.06155319999999,19.06155319999999,19.43025056999999,19.43025056999999,19.43025056999999,19.43025056999999,19.57139524999999,19.57139524999999,19.57139524999999,19.57139524999999,19.57139524999999,19.57139524999999,20.07608308999999,20.07608308999999,20.07608308999999,20.72662702999999,20.72662702999999,20.91868168999999,20.91868168999999,20.91868168999999,20.91868168999999,20.91868168999999,20.91868168999999,20.956391239999988,20.956391239999988,21.020509949999987,21.020509949999987,21.020509949999987,21.020509949999987,21.020509949999987,21.020509949999987,21.020509949999987,21.020509949999987,21.020509949999987,21.020509949999987,21.020509949999987,21.020509949999987,21.020509949999987,21.020509949999987,21.021783129999985,21.021783129999985,21.021783129999985,21.021783129999985,21.021783129999985,21.021783129999985,21.456391989999986,21.456391989999986,21.575518439999986,21.575518439999986,21.858388879999985,21.858388879999985,22.364208779999984,22.364208779999984,22.364208779999984,22.364208779999984,22.364208779999984,22.364208779999984,22.364208779999984,22.364208779999984,22.364208779999984,22.364208779999984,22.364208779999984,22.493480209999984,22.493480209999984,22.493480209999984,22.493480209999984,22.499284669999984,22.499284669999984,22.499284669999984,22.499284669999984,22.499284669999984,22.499284669999984,22.499284669999984,22.499284669999984,22.499284669999984,22.499284669999984,22.499284669999984,22.499284669999984,22.499284669999984,23.077370649999985,23.077370649999985,23.077370649999985,23.077370649999985,23.077370649999985,23.082452859999986,23.004571129999984,23.004571129999984,23.004571129999984,23.004571129999984,23.004571129999984,23.004571129999984,23.004571129999984,23.004571129999984,23.009306609999985,23.009306609999985,23.255357449999984,23.255357449999984,23.255357449999984,23.255357449999984,23.255357449999984,23.255357449999984,23.255357449999984,23.255357449999984,23.255357449999984,23.582566029999985,23.582566029999985,23.582566029999985,23.582566029999985,23.582566029999985,23.582566029999985,23.582566029999985,23.582566029999985,23.582566029999985,23.582566029999985,23.577930449999986,23.489165949999986,23.489165949999986,24.400671019999987,24.400671019999987,24.400671019999987,24.400671019999987,24.400671019999987,24.937516289999987,24.937516289999987,24.937516289999987,24.937516289999987,25.074254089999986,25.074254089999986,25.074254089999986],\"yaxis\":\"y\",\"type\":\"scatter\"}],                        {\"template\":{\"data\":{\"histogram2dcontour\":[{\"type\":\"histogram2dcontour\",\"colorbar\":{\"outlinewidth\":0,\"ticks\":\"\"},\"colorscale\":[[0.0,\"#0d0887\"],[0.1111111111111111,\"#46039f\"],[0.2222222222222222,\"#7201a8\"],[0.3333333333333333,\"#9c179e\"],[0.4444444444444444,\"#bd3786\"],[0.5555555555555556,\"#d8576b\"],[0.6666666666666666,\"#ed7953\"],[0.7777777777777778,\"#fb9f3a\"],[0.8888888888888888,\"#fdca26\"],[1.0,\"#f0f921\"]]}],\"choropleth\":[{\"type\":\"choropleth\",\"colorbar\":{\"outlinewidth\":0,\"ticks\":\"\"}}],\"histogram2d\":[{\"type\":\"histogram2d\",\"colorbar\":{\"outlinewidth\":0,\"ticks\":\"\"},\"colorscale\":[[0.0,\"#0d0887\"],[0.1111111111111111,\"#46039f\"],[0.2222222222222222,\"#7201a8\"],[0.3333333333333333,\"#9c179e\"],[0.4444444444444444,\"#bd3786\"],[0.5555555555555556,\"#d8576b\"],[0.6666666666666666,\"#ed7953\"],[0.7777777777777778,\"#fb9f3a\"],[0.8888888888888888,\"#fdca26\"],[1.0,\"#f0f921\"]]}],\"heatmap\":[{\"type\":\"heatmap\",\"colorbar\":{\"outlinewidth\":0,\"ticks\":\"\"},\"colorscale\":[[0.0,\"#0d0887\"],[0.1111111111111111,\"#46039f\"],[0.2222222222222222,\"#7201a8\"],[0.3333333333333333,\"#9c179e\"],[0.4444444444444444,\"#bd3786\"],[0.5555555555555556,\"#d8576b\"],[0.6666666666666666,\"#ed7953\"],[0.7777777777777778,\"#fb9f3a\"],[0.8888888888888888,\"#fdca26\"],[1.0,\"#f0f921\"]]}],\"heatmapgl\":[{\"type\":\"heatmapgl\",\"colorbar\":{\"outlinewidth\":0,\"ticks\":\"\"},\"colorscale\":[[0.0,\"#0d0887\"],[0.1111111111111111,\"#46039f\"],[0.2222222222222222,\"#7201a8\"],[0.3333333333333333,\"#9c179e\"],[0.4444444444444444,\"#bd3786\"],[0.5555555555555556,\"#d8576b\"],[0.6666666666666666,\"#ed7953\"],[0.7777777777777778,\"#fb9f3a\"],[0.8888888888888888,\"#fdca26\"],[1.0,\"#f0f921\"]]}],\"contourcarpet\":[{\"type\":\"contourcarpet\",\"colorbar\":{\"outlinewidth\":0,\"ticks\":\"\"}}],\"contour\":[{\"type\":\"contour\",\"colorbar\":{\"outlinewidth\":0,\"ticks\":\"\"},\"colorscale\":[[0.0,\"#0d0887\"],[0.1111111111111111,\"#46039f\"],[0.2222222222222222,\"#7201a8\"],[0.3333333333333333,\"#9c179e\"],[0.4444444444444444,\"#bd3786\"],[0.5555555555555556,\"#d8576b\"],[0.6666666666666666,\"#ed7953\"],[0.7777777777777778,\"#fb9f3a\"],[0.8888888888888888,\"#fdca26\"],[1.0,\"#f0f921\"]]}],\"surface\":[{\"type\":\"surface\",\"colorbar\":{\"outlinewidth\":0,\"ticks\":\"\"},\"colorscale\":[[0.0,\"#0d0887\"],[0.1111111111111111,\"#46039f\"],[0.2222222222222222,\"#7201a8\"],[0.3333333333333333,\"#9c179e\"],[0.4444444444444444,\"#bd3786\"],[0.5555555555555556,\"#d8576b\"],[0.6666666666666666,\"#ed7953\"],[0.7777777777777778,\"#fb9f3a\"],[0.8888888888888888,\"#fdca26\"],[1.0,\"#f0f921\"]]}],\"mesh3d\":[{\"type\":\"mesh3d\",\"colorbar\":{\"outlinewidth\":0,\"ticks\":\"\"}}],\"scatter\":[{\"fillpattern\":{\"fillmode\":\"overlay\",\"size\":10,\"solidity\":0.2},\"type\":\"scatter\"}],\"parcoords\":[{\"type\":\"parcoords\",\"line\":{\"colorbar\":{\"outlinewidth\":0,\"ticks\":\"\"}}}],\"scatterpolargl\":[{\"type\":\"scatterpolargl\",\"marker\":{\"colorbar\":{\"outlinewidth\":0,\"ticks\":\"\"}}}],\"bar\":[{\"error_x\":{\"color\":\"#2a3f5f\"},\"error_y\":{\"color\":\"#2a3f5f\"},\"marker\":{\"line\":{\"color\":\"#E5ECF6\",\"width\":0.5},\"pattern\":{\"fillmode\":\"overlay\",\"size\":10,\"solidity\":0.2}},\"type\":\"bar\"}],\"scattergeo\":[{\"type\":\"scattergeo\",\"marker\":{\"colorbar\":{\"outlinewidth\":0,\"ticks\":\"\"}}}],\"scatterpolar\":[{\"type\":\"scatterpolar\",\"marker\":{\"colorbar\":{\"outlinewidth\":0,\"ticks\":\"\"}}}],\"histogram\":[{\"marker\":{\"pattern\":{\"fillmode\":\"overlay\",\"size\":10,\"solidity\":0.2}},\"type\":\"histogram\"}],\"scattergl\":[{\"type\":\"scattergl\",\"marker\":{\"colorbar\":{\"outlinewidth\":0,\"ticks\":\"\"}}}],\"scatter3d\":[{\"type\":\"scatter3d\",\"line\":{\"colorbar\":{\"outlinewidth\":0,\"ticks\":\"\"}},\"marker\":{\"colorbar\":{\"outlinewidth\":0,\"ticks\":\"\"}}}],\"scattermapbox\":[{\"type\":\"scattermapbox\",\"marker\":{\"colorbar\":{\"outlinewidth\":0,\"ticks\":\"\"}}}],\"scatterternary\":[{\"type\":\"scatterternary\",\"marker\":{\"colorbar\":{\"outlinewidth\":0,\"ticks\":\"\"}}}],\"scattercarpet\":[{\"type\":\"scattercarpet\",\"marker\":{\"colorbar\":{\"outlinewidth\":0,\"ticks\":\"\"}}}],\"carpet\":[{\"aaxis\":{\"endlinecolor\":\"#2a3f5f\",\"gridcolor\":\"white\",\"linecolor\":\"white\",\"minorgridcolor\":\"white\",\"startlinecolor\":\"#2a3f5f\"},\"baxis\":{\"endlinecolor\":\"#2a3f5f\",\"gridcolor\":\"white\",\"linecolor\":\"white\",\"minorgridcolor\":\"white\",\"startlinecolor\":\"#2a3f5f\"},\"type\":\"carpet\"}],\"table\":[{\"cells\":{\"fill\":{\"color\":\"#EBF0F8\"},\"line\":{\"color\":\"white\"}},\"header\":{\"fill\":{\"color\":\"#C8D4E3\"},\"line\":{\"color\":\"white\"}},\"type\":\"table\"}],\"barpolar\":[{\"marker\":{\"line\":{\"color\":\"#E5ECF6\",\"width\":0.5},\"pattern\":{\"fillmode\":\"overlay\",\"size\":10,\"solidity\":0.2}},\"type\":\"barpolar\"}],\"pie\":[{\"automargin\":true,\"type\":\"pie\"}]},\"layout\":{\"autotypenumbers\":\"strict\",\"colorway\":[\"#636efa\",\"#EF553B\",\"#00cc96\",\"#ab63fa\",\"#FFA15A\",\"#19d3f3\",\"#FF6692\",\"#B6E880\",\"#FF97FF\",\"#FECB52\"],\"font\":{\"color\":\"#2a3f5f\"},\"hovermode\":\"closest\",\"hoverlabel\":{\"align\":\"left\"},\"paper_bgcolor\":\"white\",\"plot_bgcolor\":\"#E5ECF6\",\"polar\":{\"bgcolor\":\"#E5ECF6\",\"angularaxis\":{\"gridcolor\":\"white\",\"linecolor\":\"white\",\"ticks\":\"\"},\"radialaxis\":{\"gridcolor\":\"white\",\"linecolor\":\"white\",\"ticks\":\"\"}},\"ternary\":{\"bgcolor\":\"#E5ECF6\",\"aaxis\":{\"gridcolor\":\"white\",\"linecolor\":\"white\",\"ticks\":\"\"},\"baxis\":{\"gridcolor\":\"white\",\"linecolor\":\"white\",\"ticks\":\"\"},\"caxis\":{\"gridcolor\":\"white\",\"linecolor\":\"white\",\"ticks\":\"\"}},\"coloraxis\":{\"colorbar\":{\"outlinewidth\":0,\"ticks\":\"\"}},\"colorscale\":{\"sequential\":[[0.0,\"#0d0887\"],[0.1111111111111111,\"#46039f\"],[0.2222222222222222,\"#7201a8\"],[0.3333333333333333,\"#9c179e\"],[0.4444444444444444,\"#bd3786\"],[0.5555555555555556,\"#d8576b\"],[0.6666666666666666,\"#ed7953\"],[0.7777777777777778,\"#fb9f3a\"],[0.8888888888888888,\"#fdca26\"],[1.0,\"#f0f921\"]],\"sequentialminus\":[[0.0,\"#0d0887\"],[0.1111111111111111,\"#46039f\"],[0.2222222222222222,\"#7201a8\"],[0.3333333333333333,\"#9c179e\"],[0.4444444444444444,\"#bd3786\"],[0.5555555555555556,\"#d8576b\"],[0.6666666666666666,\"#ed7953\"],[0.7777777777777778,\"#fb9f3a\"],[0.8888888888888888,\"#fdca26\"],[1.0,\"#f0f921\"]],\"diverging\":[[0,\"#8e0152\"],[0.1,\"#c51b7d\"],[0.2,\"#de77ae\"],[0.3,\"#f1b6da\"],[0.4,\"#fde0ef\"],[0.5,\"#f7f7f7\"],[0.6,\"#e6f5d0\"],[0.7,\"#b8e186\"],[0.8,\"#7fbc41\"],[0.9,\"#4d9221\"],[1,\"#276419\"]]},\"xaxis\":{\"gridcolor\":\"white\",\"linecolor\":\"white\",\"ticks\":\"\",\"title\":{\"standoff\":15},\"zerolinecolor\":\"white\",\"automargin\":true,\"zerolinewidth\":2},\"yaxis\":{\"gridcolor\":\"white\",\"linecolor\":\"white\",\"ticks\":\"\",\"title\":{\"standoff\":15},\"zerolinecolor\":\"white\",\"automargin\":true,\"zerolinewidth\":2},\"scene\":{\"xaxis\":{\"backgroundcolor\":\"#E5ECF6\",\"gridcolor\":\"white\",\"linecolor\":\"white\",\"showbackground\":true,\"ticks\":\"\",\"zerolinecolor\":\"white\",\"gridwidth\":2},\"yaxis\":{\"backgroundcolor\":\"#E5ECF6\",\"gridcolor\":\"white\",\"linecolor\":\"white\",\"showbackground\":true,\"ticks\":\"\",\"zerolinecolor\":\"white\",\"gridwidth\":2},\"zaxis\":{\"backgroundcolor\":\"#E5ECF6\",\"gridcolor\":\"white\",\"linecolor\":\"white\",\"showbackground\":true,\"ticks\":\"\",\"zerolinecolor\":\"white\",\"gridwidth\":2}},\"shapedefaults\":{\"line\":{\"color\":\"#2a3f5f\"}},\"annotationdefaults\":{\"arrowcolor\":\"#2a3f5f\",\"arrowhead\":0,\"arrowwidth\":1},\"geo\":{\"bgcolor\":\"white\",\"landcolor\":\"#E5ECF6\",\"subunitcolor\":\"white\",\"showland\":true,\"showlakes\":true,\"lakecolor\":\"white\"},\"title\":{\"x\":0.05},\"mapbox\":{\"style\":\"light\"}}},\"xaxis\":{\"anchor\":\"y\",\"domain\":[0.0,1.0],\"title\":{\"text\":\"dates\"}},\"yaxis\":{\"anchor\":\"x\",\"domain\":[0.0,1.0],\"title\":{\"text\":\"equity_daily\"}},\"legend\":{\"tracegroupgap\":0},\"margin\":{\"t\":60}},                        {\"responsive\": true}                    ).then(function(){\n",
       "                            \n",
       "var gd = document.getElementById('388a7f0b-02d8-4a0f-9f49-001c7194372d');\n",
       "var x = new MutationObserver(function (mutations, observer) {{\n",
       "        var display = window.getComputedStyle(gd).display;\n",
       "        if (!display || display === 'none') {{\n",
       "            console.log([gd, 'removed!']);\n",
       "            Plotly.purge(gd);\n",
       "            observer.disconnect();\n",
       "        }}\n",
       "}});\n",
       "\n",
       "// Listen for the removal of the full notebook cells\n",
       "var notebookContainer = gd.closest('#notebook-container');\n",
       "if (notebookContainer) {{\n",
       "    x.observe(notebookContainer, {childList: true});\n",
       "}}\n",
       "\n",
       "// Listen for the clearing of the current output cell\n",
       "var outputEl = gd.closest('.output');\n",
       "if (outputEl) {{\n",
       "    x.observe(outputEl, {childList: true});\n",
       "}}\n",
       "\n",
       "                        })                };                });            </script>        </div>"
      ]
     },
     "metadata": {},
     "output_type": "display_data"
    }
   ],
   "source": [
    "fig = px.line(df, x=\"dates\", y=\"equity_daily\")\n",
    "fig.show()"
   ]
  },
  {
   "cell_type": "code",
   "execution_count": 265,
   "metadata": {},
   "outputs": [
    {
     "data": {
      "application/vnd.plotly.v1+json": {
       "config": {
        "plotlyServerURL": "https://plot.ly"
       },
       "data": [
        {
         "hovertemplate": "dates=%{x}<br>rolling_annualized_sharpe=%{y}<extra></extra>",
         "legendgroup": "",
         "line": {
          "color": "#636efa",
          "dash": "solid"
         },
         "marker": {
          "symbol": "circle"
         },
         "mode": "lines",
         "name": "",
         "orientation": "v",
         "showlegend": false,
         "type": "scatter",
         "x": [
          "2021-09-01",
          "2021-09-02",
          "2021-09-03",
          "2021-09-04",
          "2021-09-05",
          "2021-09-06",
          "2021-09-07",
          "2021-09-08",
          "2021-09-09",
          "2021-09-10",
          "2021-09-11",
          "2021-09-12",
          "2021-09-13",
          "2021-09-14",
          "2021-09-15",
          "2021-09-16",
          "2021-09-17",
          "2021-09-18",
          "2021-09-19",
          "2021-09-20",
          "2021-09-21",
          "2021-09-22",
          "2021-09-23",
          "2021-09-24",
          "2021-09-25",
          "2021-09-26",
          "2021-09-27",
          "2021-09-28",
          "2021-09-29",
          "2021-09-30",
          "2021-10-01",
          "2021-10-02",
          "2021-10-03",
          "2021-10-04",
          "2021-10-05",
          "2021-10-06",
          "2021-10-07",
          "2021-10-08",
          "2021-10-09",
          "2021-10-10",
          "2021-10-11",
          "2021-10-12",
          "2021-10-13",
          "2021-10-14",
          "2021-10-15",
          "2021-10-16",
          "2021-10-17",
          "2021-10-18",
          "2021-10-19",
          "2021-10-20",
          "2021-10-21",
          "2021-10-22",
          "2021-10-23",
          "2021-10-24",
          "2021-10-25",
          "2021-10-26",
          "2021-10-27",
          "2021-10-28",
          "2021-10-29",
          "2021-10-30",
          "2021-10-31",
          "2021-11-01",
          "2021-11-02",
          "2021-11-03",
          "2021-11-04",
          "2021-11-05",
          "2021-11-06",
          "2021-11-07",
          "2021-11-08",
          "2021-11-09",
          "2021-11-10",
          "2021-11-11",
          "2021-11-12",
          "2021-11-13",
          "2021-11-14",
          "2021-11-15",
          "2021-11-16",
          "2021-11-17",
          "2021-11-18",
          "2021-11-19",
          "2021-11-20",
          "2021-11-21",
          "2021-11-22",
          "2021-11-23",
          "2021-11-24",
          "2021-11-25",
          "2021-11-26",
          "2021-11-27",
          "2021-11-28",
          "2021-11-29",
          "2021-11-30",
          "2021-12-01",
          "2021-12-02",
          "2021-12-03",
          "2021-12-04",
          "2021-12-05",
          "2021-12-06",
          "2021-12-07",
          "2021-12-08",
          "2021-12-09",
          "2021-12-10",
          "2021-12-11",
          "2021-12-12",
          "2021-12-13",
          "2021-12-14",
          "2021-12-15",
          "2021-12-16",
          "2021-12-17",
          "2021-12-18",
          "2021-12-19",
          "2021-12-20",
          "2021-12-21",
          "2021-12-22",
          "2021-12-23",
          "2021-12-24",
          "2021-12-25",
          "2021-12-26",
          "2021-12-27",
          "2021-12-28",
          "2021-12-29",
          "2021-12-30",
          "2021-12-31",
          "2022-01-01",
          "2022-01-02",
          "2022-01-03",
          "2022-01-04",
          "2022-01-05",
          "2022-01-06",
          "2022-01-07",
          "2022-01-08",
          "2022-01-09",
          "2022-01-10",
          "2022-01-11",
          "2022-01-12",
          "2022-01-13",
          "2022-01-14",
          "2022-01-15",
          "2022-01-16",
          "2022-01-17",
          "2022-01-18",
          "2022-01-19",
          "2022-01-20",
          "2022-01-21",
          "2022-01-22",
          "2022-01-23",
          "2022-01-24",
          "2022-01-25",
          "2022-01-26",
          "2022-01-27",
          "2022-01-28",
          "2022-01-29",
          "2022-01-30",
          "2022-01-31",
          "2022-02-01",
          "2022-02-02",
          "2022-02-03",
          "2022-02-04",
          "2022-02-05",
          "2022-02-06",
          "2022-02-07",
          "2022-02-08",
          "2022-02-09",
          "2022-02-10",
          "2022-02-11",
          "2022-02-12",
          "2022-02-13",
          "2022-02-14",
          "2022-02-15",
          "2022-02-16",
          "2022-02-17",
          "2022-02-18",
          "2022-02-19",
          "2022-02-20",
          "2022-02-21",
          "2022-02-22",
          "2022-02-23",
          "2022-02-24",
          "2022-02-25",
          "2022-02-26",
          "2022-02-27",
          "2022-02-28",
          "2022-03-01",
          "2022-03-02",
          "2022-03-03",
          "2022-03-04",
          "2022-03-05",
          "2022-03-06",
          "2022-03-07",
          "2022-03-08",
          "2022-03-09",
          "2022-03-10",
          "2022-03-11",
          "2022-03-12",
          "2022-03-13",
          "2022-03-14",
          "2022-03-15",
          "2022-03-16",
          "2022-03-17",
          "2022-03-18",
          "2022-03-19",
          "2022-03-20",
          "2022-03-21",
          "2022-03-22",
          "2022-03-23",
          "2022-03-24",
          "2022-03-25",
          "2022-03-26",
          "2022-03-27",
          "2022-03-28",
          "2022-03-29",
          "2022-03-30",
          "2022-03-31",
          "2022-04-01",
          "2022-04-02",
          "2022-04-03",
          "2022-04-04",
          "2022-04-05",
          "2022-04-06",
          "2022-04-07",
          "2022-04-08",
          "2022-04-09",
          "2022-04-10",
          "2022-04-11",
          "2022-04-12",
          "2022-04-13",
          "2022-04-14",
          "2022-04-15",
          "2022-04-16",
          "2022-04-17",
          "2022-04-18",
          "2022-04-19",
          "2022-04-20",
          "2022-04-21",
          "2022-04-22",
          "2022-04-23",
          "2022-04-24",
          "2022-04-25",
          "2022-04-26",
          "2022-04-27",
          "2022-04-28",
          "2022-04-29",
          "2022-04-30",
          "2022-05-01",
          "2022-05-02",
          "2022-05-03",
          "2022-05-04",
          "2022-05-05",
          "2022-05-06",
          "2022-05-07",
          "2022-05-08",
          "2022-05-09",
          "2022-05-10",
          "2022-05-11",
          "2022-05-12",
          "2022-05-13",
          "2022-05-14",
          "2022-05-15",
          "2022-05-16",
          "2022-05-17",
          "2022-05-18",
          "2022-05-19",
          "2022-05-20",
          "2022-05-21",
          "2022-05-22",
          "2022-05-23",
          "2022-05-24",
          "2022-05-25",
          "2022-05-26",
          "2022-05-27",
          "2022-05-28",
          "2022-05-29",
          "2022-05-30",
          "2022-05-31",
          "2022-06-01",
          "2022-06-02",
          "2022-06-03",
          "2022-06-04",
          "2022-06-05",
          "2022-06-06",
          "2022-06-07",
          "2022-06-08",
          "2022-06-09",
          "2022-06-10",
          "2022-06-11",
          "2022-06-12",
          "2022-06-13",
          "2022-06-14",
          "2022-06-15",
          "2022-06-16",
          "2022-06-17",
          "2022-06-18",
          "2022-06-19",
          "2022-06-20",
          "2022-06-21",
          "2022-06-22",
          "2022-06-23",
          "2022-06-24",
          "2022-06-25",
          "2022-06-26",
          "2022-06-27",
          "2022-06-28",
          "2022-06-29",
          "2022-06-30",
          "2022-07-01",
          "2022-07-02",
          "2022-07-03",
          "2022-07-04",
          "2022-07-05",
          "2022-07-06",
          "2022-07-07",
          "2022-07-08",
          "2022-07-09",
          "2022-07-10",
          "2022-07-11",
          "2022-07-12",
          "2022-07-13",
          "2022-07-14",
          "2022-07-15",
          "2022-07-16",
          "2022-07-17",
          "2022-07-18",
          "2022-07-19",
          "2022-07-20",
          "2022-07-21",
          "2022-07-22",
          "2022-07-23",
          "2022-07-24",
          "2022-07-25",
          "2022-07-26",
          "2022-07-27",
          "2022-07-28",
          "2022-07-29",
          "2022-07-30",
          "2022-07-31",
          "2022-08-01",
          "2022-08-02",
          "2022-08-03",
          "2022-08-04",
          "2022-08-05",
          "2022-08-06",
          "2022-08-07",
          "2022-08-08",
          "2022-08-09",
          "2022-08-10",
          "2022-08-11",
          "2022-08-12",
          "2022-08-13",
          "2022-08-14",
          "2022-08-15",
          "2022-08-16",
          "2022-08-17",
          "2022-08-18",
          "2022-08-19",
          "2022-08-20",
          "2022-08-21",
          "2022-08-22",
          "2022-08-23",
          "2022-08-24",
          "2022-08-25",
          "2022-08-26",
          "2022-08-27",
          "2022-08-28",
          "2022-08-29",
          "2022-08-30",
          "2022-08-31",
          "2022-09-01",
          "2022-09-02",
          "2022-09-03",
          "2022-09-04",
          "2022-09-05",
          "2022-09-06",
          "2022-09-07",
          "2022-09-08",
          "2022-09-09",
          "2022-09-10",
          "2022-09-11",
          "2022-09-12",
          "2022-09-13",
          "2022-09-14",
          "2022-09-15",
          "2022-09-16",
          "2022-09-17",
          "2022-09-18",
          "2022-09-19",
          "2022-09-20",
          "2022-09-21",
          "2022-09-22",
          "2022-09-23",
          "2022-09-24",
          "2022-09-25",
          "2022-09-26",
          "2022-09-27",
          "2022-09-28",
          "2022-09-29",
          "2022-09-30",
          "2022-10-01",
          "2022-10-02",
          "2022-10-03",
          "2022-10-04",
          "2022-10-05",
          "2022-10-06",
          "2022-10-07",
          "2022-10-08",
          "2022-10-09",
          "2022-10-10",
          "2022-10-11",
          "2022-10-12",
          "2022-10-13",
          "2022-10-14",
          "2022-10-15",
          "2022-10-16",
          "2022-10-17",
          "2022-10-18",
          "2022-10-19",
          "2022-10-20",
          "2022-10-21",
          "2022-10-22",
          "2022-10-23",
          "2022-10-24",
          "2022-10-25",
          "2022-10-26",
          "2022-10-27",
          "2022-10-28",
          "2022-10-29",
          "2022-10-30",
          "2022-10-31",
          "2022-11-01",
          "2022-11-02",
          "2022-11-03",
          "2022-11-04",
          "2022-11-05",
          "2022-11-06",
          "2022-11-07",
          "2022-11-08",
          "2022-11-09",
          "2022-11-10",
          "2022-11-11",
          "2022-11-12",
          "2022-11-13",
          "2022-11-14",
          "2022-11-15",
          "2022-11-16",
          "2022-11-17",
          "2022-11-18",
          "2022-11-19",
          "2022-11-20",
          "2022-11-21",
          "2022-11-22",
          "2022-11-23"
         ],
         "xaxis": "x",
         "y": [
          null,
          null,
          null,
          null,
          null,
          null,
          null,
          null,
          null,
          null,
          null,
          null,
          null,
          null,
          null,
          null,
          null,
          null,
          null,
          null,
          null,
          null,
          null,
          null,
          null,
          null,
          null,
          null,
          null,
          7.937222521140581,
          7.937222521140581,
          7.937222521140581,
          8.833101369389512,
          8.833101369389512,
          8.833101369389512,
          7.837476208846383,
          7.837476208846383,
          7.837476208846383,
          7.7751959514057525,
          7.7751959514057525,
          7.7751959514057525,
          7.7751959514057525,
          7.7751959514057525,
          7.7751959514057525,
          7.7751959514057525,
          7.114007673135979,
          7.114007673135979,
          7.114007673135979,
          7.114007673135979,
          6.189368617148945,
          6.189368617148945,
          7.271228793603008,
          7.271228793603008,
          6.234703298456397,
          6.234703298456397,
          6.234703298456397,
          5.020185414477115,
          5.020185414477115,
          5.020185414477115,
          5.020185414477115,
          5.020185414477115,
          5.020185414477115,
          3.488074922742723,
          3.488074922742723,
          3.488074922742723,
          3.488074922742723,
          3.488074922742723,
          3.488074922742723,
          3.488074922742723,
          3.488074922742723,
          4.998640440754956,
          6.2378404893107495,
          6.2378404893107495,
          6.407255538325229,
          6.407255538325229,
          6.407255538325229,
          6.407255538325229,
          6.407255538325229,
          7.116123881067014,
          7.116123881067014,
          7.116123881067014,
          5.987523148530308,
          5.987523148530308,
          5.987523148530308,
          5.987523148530308,
          5.987523148530308,
          6.145774675867224,
          6.145774675867224,
          7.250908114111455,
          7.250908114111455,
          7.250908114111455,
          8.226957297611278,
          8.226957297611278,
          8.226957297611278,
          8.72923954268964,
          8.72923954268964,
          8.72923954268964,
          8.72923954268964,
          9.332580969349767,
          9.332580969349767,
          8.340701717743023,
          7.306898893426984,
          7.306898893426984,
          7.166846853477736,
          7.166846853477736,
          7.166846853477736,
          7.166846853477736,
          7.166846853477736,
          6.569168387284057,
          6.569168387284057,
          6.569168387284057,
          6.569168387284057,
          7.5653179920412645,
          7.5653179920412645,
          7.585137005317959,
          7.585137005317959,
          8.435225126388152,
          9.178568068649456,
          9.18730364243725,
          9.18730364243725,
          9.18730364243725,
          8.377583223748651,
          8.377583223748651,
          8.377583223748651,
          8.648133383521433,
          8.648133383521433,
          8.648133383521433,
          8.648133383521433,
          7.997902520188124,
          9.00277714633668,
          9.95782202016763,
          9.95782202016763,
          9.95782202016763,
          9.95782202016763,
          9.95782202016763,
          9.95782202016763,
          9.799148809663821,
          9.799148809663821,
          9.799148809663821,
          10.73449409411881,
          10.73449409411881,
          10.73449409411881,
          9.827426075258845,
          9.827426075258845,
          9.808888561749514,
          9.808888561749514,
          8.974851918895904,
          8.158830020491846,
          7.112579327659813,
          7.116376692216125,
          7.116376692216125,
          7.116376692216125,
          8.114519101481788,
          8.114519101481788,
          7.079285321972348,
          7.079285321972348,
          7.079285321972348,
          7.079285321972348,
          7.079285321972348,
          5.944739908821199,
          4.697170929919626,
          5.338089114639896,
          5.338089114639896,
          5.338089114639896,
          5.338089114639896,
          6.537508880576727,
          7.319387757452812,
          7.319387757452812,
          7.90192316021382,
          7.164938695674699,
          7.164938695674699,
          7.164938695674699,
          7.164938695674699,
          8.086268054092415,
          8.086268054092415,
          8.086268054092415,
          8.086268054092415,
          8.086268054092415,
          8.086268054092415,
          8.081586787310231,
          8.081586787310231,
          8.081586787310231,
          7.030048906084791,
          7.030048906084791,
          7.030048906084791,
          7.030048906084791,
          7.030048906084791,
          7.057864660286991,
          7.057864660286991,
          7.057864660286991,
          7.057864660286991,
          6.414707551734326,
          6.414707551734326,
          6.414707551734326,
          6.414707551734326,
          6.43451550848211,
          6.521598735824262,
          6.521598735824262,
          5.752814397286239,
          5.748652608043576,
          5.748652608043576,
          5.748652608043576,
          5.748652608043576,
          4.997716073730862,
          4.997716073730862,
          4.997716073730862,
          4.997716073730862,
          4.997716073730862,
          4.997716073730862,
          4.997716073730862,
          4.997716073730862,
          4.997716073730862,
          4.997716073730862,
          4.997716073730862,
          5.056065467818759,
          5.056065467818759,
          5.056065467818759,
          4.997202131248832,
          4.997202131248832,
          4.997202131248832,
          4.997202131248832,
          4.997202131248832,
          4.997202131248832,
          4.9418081675181975,
          4.928260343441314,
          3.5222893719121733,
          0.8484759453240428,
          0.8484759453240428,
          0.8484759453240428,
          -0.3998221612874563,
          -0.3998221612874563,
          3.4668660303231364,
          3.4668660303231364,
          3.4668660303231364,
          3.4668660303231364,
          3.4668660303231364,
          3.4668660303231364,
          3.4668660303231364,
          3.4668660303231364,
          3.4668660303231364,
          3.4668660303231364,
          3.4668660303231364,
          3.4668660303231364,
          4.058533942919298,
          3.9494571340891813,
          4.597331784863929,
          5.310508199926929,
          5.310508199926929,
          5.310508199926929,
          5.310508199926929,
          5.310508199926929,
          5.310508199926929,
          5.310508199926929,
          6.449093590941791,
          6.45540612535697,
          6.45540612535697,
          7.5145259820540256,
          7.5145259820540256,
          7.5145259820540256,
          7.577905452313333,
          7.577905452313333,
          6.943770736143786,
          6.943770736143786,
          7.365171933732617,
          7.365171933732617,
          7.365171933732617,
          7.365171933732617,
          7.365171933732617,
          7.562706310007033,
          7.562706310007033,
          7.562706310007033,
          7.658211991963824,
          7.658211991963824,
          7.565793517827894,
          7.565793517827894,
          6.549921733892566,
          6.195970966764886,
          6.195970966764886,
          6.179757007083408,
          6.179757007083408,
          6.179757007083408,
          6.179757007083408,
          6.179757007083408,
          5.076337469824724,
          5.076337469824724,
          5.076337469824724,
          3.850266733972275,
          5.133110173858348,
          5.133110173858348,
          5.089276554606705,
          5.089276554606705,
          5.089276554606705,
          4.9825263802945905,
          5.283333273402797,
          6.489725459409444,
          6.489725459409444,
          6.489725459409444,
          6.489725459409444,
          6.234037164366552,
          6.234037164366552,
          6.234037164366552,
          6.100687133651774,
          6.100687133651774,
          7.152678009135919,
          7.152678009135919,
          7.152678009135919,
          7.810717004365475,
          7.810717004365475,
          8.201775148174262,
          9.090799776084491,
          9.090799776084491,
          10.062017059043422,
          11.012703110410097,
          11.012703110410097,
          11.012703110410097,
          11.012703110410097,
          11.301381702248651,
          10.443585566976875,
          10.443585566976875,
          10.851217703009617,
          10.851217703009617,
          11.813455861849917,
          11.97858537618836,
          11.094287488274023,
          10.263610829678516,
          10.899660431069233,
          10.899660431069233,
          10.899660431069233,
          10.872380976221368,
          10.872380976221368,
          10.872380976221368,
          11.6443759606614,
          11.6443759606614,
          10.682070716595312,
          11.211619614733266,
          11.211619614733266,
          11.227631423657346,
          11.227631423657346,
          10.854612083237097,
          9.988482353227097,
          9.988482353227097,
          9.020382705626766,
          8.195483621650501,
          8.1954836216505,
          8.4779309620711,
          8.4779309620711,
          8.170590350562009,
          8.166250510269213,
          8.166250510269213,
          7.766360502035682,
          7.766360502035682,
          6.733696531574909,
          6.733696531574909,
          6.733696531574909,
          6.733696531574909,
          6.162507840684223,
          6.162507840684223,
          6.162507840684223,
          6.168498090528134,
          6.168498090528134,
          6.168498090528134,
          4.9127671710640595,
          4.9127671710640595,
          4.9127671710640595,
          5.415699403460523,
          5.415699403460523,
          5.111211390524949,
          5.111211390524949,
          6.330038320270646,
          6.330038320270646,
          7.194190830166102,
          7.194190830166102,
          6.990599647911256,
          6.990599647911256,
          6.659872298731833,
          6.659872298731833,
          6.659872298731833,
          6.659872298731833,
          6.659872298731833,
          6.659872298731833,
          6.659872298731833,
          7.265963895126411,
          7.265963895126411,
          7.265963895126411,
          7.265963895126411,
          7.298655297287978,
          7.298655297287978,
          7.298655297287978,
          7.2914362851442664,
          7.2914362851442664,
          7.2914362851442664,
          7.2914362851442664,
          7.2914362851442664,
          7.2914362851442664,
          6.220774123932206,
          6.220774123932206,
          5.564167769131683,
          5.564167769131685,
          5.600100198861701,
          5.600100198861701,
          4.232094915194293,
          4.232094915194293,
          4.232094915194293,
          4.263637330958103,
          3.74783912876887,
          3.74783912876887,
          3.74783912876887,
          3.74783912876887,
          3.74783912876887,
          3.74783912876887,
          3.74783912876887,
          3.0437865551921477,
          3.072635742396235,
          3.072635742396235,
          4.23008026953096,
          4.196423191406004,
          4.196423191406004,
          4.196423191406004,
          4.196423191406004,
          4.196423191406004,
          4.196423191406004,
          4.196423191406004,
          4.196423191406004,
          5.4259730673823965,
          5.4259730673823965,
          5.4259730673823965,
          5.4259730673823965,
          5.4259730673823965,
          4.262472610262873,
          4.262472610262873,
          4.262472610262873,
          4.262472610262873,
          4.262472610262873,
          4.176440705693899,
          4.0582061486994325,
          4.0582061486994325,
          4.934615282953961,
          4.934615282953961,
          4.934615282953961,
          4.934615282953961,
          4.934615282953961,
          6.128369902031232,
          6.111823050488177,
          6.111823050488177,
          5.403785494115765,
          5.836033156684958,
          5.836033156684958,
          5.836033156684958,
          5.930511445298071
         ],
         "yaxis": "y"
        }
       ],
       "layout": {
        "legend": {
         "tracegroupgap": 0
        },
        "margin": {
         "t": 60
        },
        "template": {
         "data": {
          "bar": [
           {
            "error_x": {
             "color": "#2a3f5f"
            },
            "error_y": {
             "color": "#2a3f5f"
            },
            "marker": {
             "line": {
              "color": "#E5ECF6",
              "width": 0.5
             },
             "pattern": {
              "fillmode": "overlay",
              "size": 10,
              "solidity": 0.2
             }
            },
            "type": "bar"
           }
          ],
          "barpolar": [
           {
            "marker": {
             "line": {
              "color": "#E5ECF6",
              "width": 0.5
             },
             "pattern": {
              "fillmode": "overlay",
              "size": 10,
              "solidity": 0.2
             }
            },
            "type": "barpolar"
           }
          ],
          "carpet": [
           {
            "aaxis": {
             "endlinecolor": "#2a3f5f",
             "gridcolor": "white",
             "linecolor": "white",
             "minorgridcolor": "white",
             "startlinecolor": "#2a3f5f"
            },
            "baxis": {
             "endlinecolor": "#2a3f5f",
             "gridcolor": "white",
             "linecolor": "white",
             "minorgridcolor": "white",
             "startlinecolor": "#2a3f5f"
            },
            "type": "carpet"
           }
          ],
          "choropleth": [
           {
            "colorbar": {
             "outlinewidth": 0,
             "ticks": ""
            },
            "type": "choropleth"
           }
          ],
          "contour": [
           {
            "colorbar": {
             "outlinewidth": 0,
             "ticks": ""
            },
            "colorscale": [
             [
              0,
              "#0d0887"
             ],
             [
              0.1111111111111111,
              "#46039f"
             ],
             [
              0.2222222222222222,
              "#7201a8"
             ],
             [
              0.3333333333333333,
              "#9c179e"
             ],
             [
              0.4444444444444444,
              "#bd3786"
             ],
             [
              0.5555555555555556,
              "#d8576b"
             ],
             [
              0.6666666666666666,
              "#ed7953"
             ],
             [
              0.7777777777777778,
              "#fb9f3a"
             ],
             [
              0.8888888888888888,
              "#fdca26"
             ],
             [
              1,
              "#f0f921"
             ]
            ],
            "type": "contour"
           }
          ],
          "contourcarpet": [
           {
            "colorbar": {
             "outlinewidth": 0,
             "ticks": ""
            },
            "type": "contourcarpet"
           }
          ],
          "heatmap": [
           {
            "colorbar": {
             "outlinewidth": 0,
             "ticks": ""
            },
            "colorscale": [
             [
              0,
              "#0d0887"
             ],
             [
              0.1111111111111111,
              "#46039f"
             ],
             [
              0.2222222222222222,
              "#7201a8"
             ],
             [
              0.3333333333333333,
              "#9c179e"
             ],
             [
              0.4444444444444444,
              "#bd3786"
             ],
             [
              0.5555555555555556,
              "#d8576b"
             ],
             [
              0.6666666666666666,
              "#ed7953"
             ],
             [
              0.7777777777777778,
              "#fb9f3a"
             ],
             [
              0.8888888888888888,
              "#fdca26"
             ],
             [
              1,
              "#f0f921"
             ]
            ],
            "type": "heatmap"
           }
          ],
          "heatmapgl": [
           {
            "colorbar": {
             "outlinewidth": 0,
             "ticks": ""
            },
            "colorscale": [
             [
              0,
              "#0d0887"
             ],
             [
              0.1111111111111111,
              "#46039f"
             ],
             [
              0.2222222222222222,
              "#7201a8"
             ],
             [
              0.3333333333333333,
              "#9c179e"
             ],
             [
              0.4444444444444444,
              "#bd3786"
             ],
             [
              0.5555555555555556,
              "#d8576b"
             ],
             [
              0.6666666666666666,
              "#ed7953"
             ],
             [
              0.7777777777777778,
              "#fb9f3a"
             ],
             [
              0.8888888888888888,
              "#fdca26"
             ],
             [
              1,
              "#f0f921"
             ]
            ],
            "type": "heatmapgl"
           }
          ],
          "histogram": [
           {
            "marker": {
             "pattern": {
              "fillmode": "overlay",
              "size": 10,
              "solidity": 0.2
             }
            },
            "type": "histogram"
           }
          ],
          "histogram2d": [
           {
            "colorbar": {
             "outlinewidth": 0,
             "ticks": ""
            },
            "colorscale": [
             [
              0,
              "#0d0887"
             ],
             [
              0.1111111111111111,
              "#46039f"
             ],
             [
              0.2222222222222222,
              "#7201a8"
             ],
             [
              0.3333333333333333,
              "#9c179e"
             ],
             [
              0.4444444444444444,
              "#bd3786"
             ],
             [
              0.5555555555555556,
              "#d8576b"
             ],
             [
              0.6666666666666666,
              "#ed7953"
             ],
             [
              0.7777777777777778,
              "#fb9f3a"
             ],
             [
              0.8888888888888888,
              "#fdca26"
             ],
             [
              1,
              "#f0f921"
             ]
            ],
            "type": "histogram2d"
           }
          ],
          "histogram2dcontour": [
           {
            "colorbar": {
             "outlinewidth": 0,
             "ticks": ""
            },
            "colorscale": [
             [
              0,
              "#0d0887"
             ],
             [
              0.1111111111111111,
              "#46039f"
             ],
             [
              0.2222222222222222,
              "#7201a8"
             ],
             [
              0.3333333333333333,
              "#9c179e"
             ],
             [
              0.4444444444444444,
              "#bd3786"
             ],
             [
              0.5555555555555556,
              "#d8576b"
             ],
             [
              0.6666666666666666,
              "#ed7953"
             ],
             [
              0.7777777777777778,
              "#fb9f3a"
             ],
             [
              0.8888888888888888,
              "#fdca26"
             ],
             [
              1,
              "#f0f921"
             ]
            ],
            "type": "histogram2dcontour"
           }
          ],
          "mesh3d": [
           {
            "colorbar": {
             "outlinewidth": 0,
             "ticks": ""
            },
            "type": "mesh3d"
           }
          ],
          "parcoords": [
           {
            "line": {
             "colorbar": {
              "outlinewidth": 0,
              "ticks": ""
             }
            },
            "type": "parcoords"
           }
          ],
          "pie": [
           {
            "automargin": true,
            "type": "pie"
           }
          ],
          "scatter": [
           {
            "fillpattern": {
             "fillmode": "overlay",
             "size": 10,
             "solidity": 0.2
            },
            "type": "scatter"
           }
          ],
          "scatter3d": [
           {
            "line": {
             "colorbar": {
              "outlinewidth": 0,
              "ticks": ""
             }
            },
            "marker": {
             "colorbar": {
              "outlinewidth": 0,
              "ticks": ""
             }
            },
            "type": "scatter3d"
           }
          ],
          "scattercarpet": [
           {
            "marker": {
             "colorbar": {
              "outlinewidth": 0,
              "ticks": ""
             }
            },
            "type": "scattercarpet"
           }
          ],
          "scattergeo": [
           {
            "marker": {
             "colorbar": {
              "outlinewidth": 0,
              "ticks": ""
             }
            },
            "type": "scattergeo"
           }
          ],
          "scattergl": [
           {
            "marker": {
             "colorbar": {
              "outlinewidth": 0,
              "ticks": ""
             }
            },
            "type": "scattergl"
           }
          ],
          "scattermapbox": [
           {
            "marker": {
             "colorbar": {
              "outlinewidth": 0,
              "ticks": ""
             }
            },
            "type": "scattermapbox"
           }
          ],
          "scatterpolar": [
           {
            "marker": {
             "colorbar": {
              "outlinewidth": 0,
              "ticks": ""
             }
            },
            "type": "scatterpolar"
           }
          ],
          "scatterpolargl": [
           {
            "marker": {
             "colorbar": {
              "outlinewidth": 0,
              "ticks": ""
             }
            },
            "type": "scatterpolargl"
           }
          ],
          "scatterternary": [
           {
            "marker": {
             "colorbar": {
              "outlinewidth": 0,
              "ticks": ""
             }
            },
            "type": "scatterternary"
           }
          ],
          "surface": [
           {
            "colorbar": {
             "outlinewidth": 0,
             "ticks": ""
            },
            "colorscale": [
             [
              0,
              "#0d0887"
             ],
             [
              0.1111111111111111,
              "#46039f"
             ],
             [
              0.2222222222222222,
              "#7201a8"
             ],
             [
              0.3333333333333333,
              "#9c179e"
             ],
             [
              0.4444444444444444,
              "#bd3786"
             ],
             [
              0.5555555555555556,
              "#d8576b"
             ],
             [
              0.6666666666666666,
              "#ed7953"
             ],
             [
              0.7777777777777778,
              "#fb9f3a"
             ],
             [
              0.8888888888888888,
              "#fdca26"
             ],
             [
              1,
              "#f0f921"
             ]
            ],
            "type": "surface"
           }
          ],
          "table": [
           {
            "cells": {
             "fill": {
              "color": "#EBF0F8"
             },
             "line": {
              "color": "white"
             }
            },
            "header": {
             "fill": {
              "color": "#C8D4E3"
             },
             "line": {
              "color": "white"
             }
            },
            "type": "table"
           }
          ]
         },
         "layout": {
          "annotationdefaults": {
           "arrowcolor": "#2a3f5f",
           "arrowhead": 0,
           "arrowwidth": 1
          },
          "autotypenumbers": "strict",
          "coloraxis": {
           "colorbar": {
            "outlinewidth": 0,
            "ticks": ""
           }
          },
          "colorscale": {
           "diverging": [
            [
             0,
             "#8e0152"
            ],
            [
             0.1,
             "#c51b7d"
            ],
            [
             0.2,
             "#de77ae"
            ],
            [
             0.3,
             "#f1b6da"
            ],
            [
             0.4,
             "#fde0ef"
            ],
            [
             0.5,
             "#f7f7f7"
            ],
            [
             0.6,
             "#e6f5d0"
            ],
            [
             0.7,
             "#b8e186"
            ],
            [
             0.8,
             "#7fbc41"
            ],
            [
             0.9,
             "#4d9221"
            ],
            [
             1,
             "#276419"
            ]
           ],
           "sequential": [
            [
             0,
             "#0d0887"
            ],
            [
             0.1111111111111111,
             "#46039f"
            ],
            [
             0.2222222222222222,
             "#7201a8"
            ],
            [
             0.3333333333333333,
             "#9c179e"
            ],
            [
             0.4444444444444444,
             "#bd3786"
            ],
            [
             0.5555555555555556,
             "#d8576b"
            ],
            [
             0.6666666666666666,
             "#ed7953"
            ],
            [
             0.7777777777777778,
             "#fb9f3a"
            ],
            [
             0.8888888888888888,
             "#fdca26"
            ],
            [
             1,
             "#f0f921"
            ]
           ],
           "sequentialminus": [
            [
             0,
             "#0d0887"
            ],
            [
             0.1111111111111111,
             "#46039f"
            ],
            [
             0.2222222222222222,
             "#7201a8"
            ],
            [
             0.3333333333333333,
             "#9c179e"
            ],
            [
             0.4444444444444444,
             "#bd3786"
            ],
            [
             0.5555555555555556,
             "#d8576b"
            ],
            [
             0.6666666666666666,
             "#ed7953"
            ],
            [
             0.7777777777777778,
             "#fb9f3a"
            ],
            [
             0.8888888888888888,
             "#fdca26"
            ],
            [
             1,
             "#f0f921"
            ]
           ]
          },
          "colorway": [
           "#636efa",
           "#EF553B",
           "#00cc96",
           "#ab63fa",
           "#FFA15A",
           "#19d3f3",
           "#FF6692",
           "#B6E880",
           "#FF97FF",
           "#FECB52"
          ],
          "font": {
           "color": "#2a3f5f"
          },
          "geo": {
           "bgcolor": "white",
           "lakecolor": "white",
           "landcolor": "#E5ECF6",
           "showlakes": true,
           "showland": true,
           "subunitcolor": "white"
          },
          "hoverlabel": {
           "align": "left"
          },
          "hovermode": "closest",
          "mapbox": {
           "style": "light"
          },
          "paper_bgcolor": "white",
          "plot_bgcolor": "#E5ECF6",
          "polar": {
           "angularaxis": {
            "gridcolor": "white",
            "linecolor": "white",
            "ticks": ""
           },
           "bgcolor": "#E5ECF6",
           "radialaxis": {
            "gridcolor": "white",
            "linecolor": "white",
            "ticks": ""
           }
          },
          "scene": {
           "xaxis": {
            "backgroundcolor": "#E5ECF6",
            "gridcolor": "white",
            "gridwidth": 2,
            "linecolor": "white",
            "showbackground": true,
            "ticks": "",
            "zerolinecolor": "white"
           },
           "yaxis": {
            "backgroundcolor": "#E5ECF6",
            "gridcolor": "white",
            "gridwidth": 2,
            "linecolor": "white",
            "showbackground": true,
            "ticks": "",
            "zerolinecolor": "white"
           },
           "zaxis": {
            "backgroundcolor": "#E5ECF6",
            "gridcolor": "white",
            "gridwidth": 2,
            "linecolor": "white",
            "showbackground": true,
            "ticks": "",
            "zerolinecolor": "white"
           }
          },
          "shapedefaults": {
           "line": {
            "color": "#2a3f5f"
           }
          },
          "ternary": {
           "aaxis": {
            "gridcolor": "white",
            "linecolor": "white",
            "ticks": ""
           },
           "baxis": {
            "gridcolor": "white",
            "linecolor": "white",
            "ticks": ""
           },
           "bgcolor": "#E5ECF6",
           "caxis": {
            "gridcolor": "white",
            "linecolor": "white",
            "ticks": ""
           }
          },
          "title": {
           "x": 0.05
          },
          "xaxis": {
           "automargin": true,
           "gridcolor": "white",
           "linecolor": "white",
           "ticks": "",
           "title": {
            "standoff": 15
           },
           "zerolinecolor": "white",
           "zerolinewidth": 2
          },
          "yaxis": {
           "automargin": true,
           "gridcolor": "white",
           "linecolor": "white",
           "ticks": "",
           "title": {
            "standoff": 15
           },
           "zerolinecolor": "white",
           "zerolinewidth": 2
          }
         }
        },
        "xaxis": {
         "anchor": "y",
         "domain": [
          0,
          1
         ],
         "title": {
          "text": "dates"
         }
        },
        "yaxis": {
         "anchor": "x",
         "domain": [
          0,
          1
         ],
         "title": {
          "text": "rolling_annualized_sharpe"
         }
        }
       }
      },
      "text/html": [
       "<div>                            <div id=\"6ff5beda-37be-4747-8783-5d86090214aa\" class=\"plotly-graph-div\" style=\"height:525px; width:100%;\"></div>            <script type=\"text/javascript\">                require([\"plotly\"], function(Plotly) {                    window.PLOTLYENV=window.PLOTLYENV || {};                                    if (document.getElementById(\"6ff5beda-37be-4747-8783-5d86090214aa\")) {                    Plotly.newPlot(                        \"6ff5beda-37be-4747-8783-5d86090214aa\",                        [{\"hovertemplate\":\"dates=%{x}<br>rolling_annualized_sharpe=%{y}<extra></extra>\",\"legendgroup\":\"\",\"line\":{\"color\":\"#636efa\",\"dash\":\"solid\"},\"marker\":{\"symbol\":\"circle\"},\"mode\":\"lines\",\"name\":\"\",\"orientation\":\"v\",\"showlegend\":false,\"x\":[\"2021-09-01\",\"2021-09-02\",\"2021-09-03\",\"2021-09-04\",\"2021-09-05\",\"2021-09-06\",\"2021-09-07\",\"2021-09-08\",\"2021-09-09\",\"2021-09-10\",\"2021-09-11\",\"2021-09-12\",\"2021-09-13\",\"2021-09-14\",\"2021-09-15\",\"2021-09-16\",\"2021-09-17\",\"2021-09-18\",\"2021-09-19\",\"2021-09-20\",\"2021-09-21\",\"2021-09-22\",\"2021-09-23\",\"2021-09-24\",\"2021-09-25\",\"2021-09-26\",\"2021-09-27\",\"2021-09-28\",\"2021-09-29\",\"2021-09-30\",\"2021-10-01\",\"2021-10-02\",\"2021-10-03\",\"2021-10-04\",\"2021-10-05\",\"2021-10-06\",\"2021-10-07\",\"2021-10-08\",\"2021-10-09\",\"2021-10-10\",\"2021-10-11\",\"2021-10-12\",\"2021-10-13\",\"2021-10-14\",\"2021-10-15\",\"2021-10-16\",\"2021-10-17\",\"2021-10-18\",\"2021-10-19\",\"2021-10-20\",\"2021-10-21\",\"2021-10-22\",\"2021-10-23\",\"2021-10-24\",\"2021-10-25\",\"2021-10-26\",\"2021-10-27\",\"2021-10-28\",\"2021-10-29\",\"2021-10-30\",\"2021-10-31\",\"2021-11-01\",\"2021-11-02\",\"2021-11-03\",\"2021-11-04\",\"2021-11-05\",\"2021-11-06\",\"2021-11-07\",\"2021-11-08\",\"2021-11-09\",\"2021-11-10\",\"2021-11-11\",\"2021-11-12\",\"2021-11-13\",\"2021-11-14\",\"2021-11-15\",\"2021-11-16\",\"2021-11-17\",\"2021-11-18\",\"2021-11-19\",\"2021-11-20\",\"2021-11-21\",\"2021-11-22\",\"2021-11-23\",\"2021-11-24\",\"2021-11-25\",\"2021-11-26\",\"2021-11-27\",\"2021-11-28\",\"2021-11-29\",\"2021-11-30\",\"2021-12-01\",\"2021-12-02\",\"2021-12-03\",\"2021-12-04\",\"2021-12-05\",\"2021-12-06\",\"2021-12-07\",\"2021-12-08\",\"2021-12-09\",\"2021-12-10\",\"2021-12-11\",\"2021-12-12\",\"2021-12-13\",\"2021-12-14\",\"2021-12-15\",\"2021-12-16\",\"2021-12-17\",\"2021-12-18\",\"2021-12-19\",\"2021-12-20\",\"2021-12-21\",\"2021-12-22\",\"2021-12-23\",\"2021-12-24\",\"2021-12-25\",\"2021-12-26\",\"2021-12-27\",\"2021-12-28\",\"2021-12-29\",\"2021-12-30\",\"2021-12-31\",\"2022-01-01\",\"2022-01-02\",\"2022-01-03\",\"2022-01-04\",\"2022-01-05\",\"2022-01-06\",\"2022-01-07\",\"2022-01-08\",\"2022-01-09\",\"2022-01-10\",\"2022-01-11\",\"2022-01-12\",\"2022-01-13\",\"2022-01-14\",\"2022-01-15\",\"2022-01-16\",\"2022-01-17\",\"2022-01-18\",\"2022-01-19\",\"2022-01-20\",\"2022-01-21\",\"2022-01-22\",\"2022-01-23\",\"2022-01-24\",\"2022-01-25\",\"2022-01-26\",\"2022-01-27\",\"2022-01-28\",\"2022-01-29\",\"2022-01-30\",\"2022-01-31\",\"2022-02-01\",\"2022-02-02\",\"2022-02-03\",\"2022-02-04\",\"2022-02-05\",\"2022-02-06\",\"2022-02-07\",\"2022-02-08\",\"2022-02-09\",\"2022-02-10\",\"2022-02-11\",\"2022-02-12\",\"2022-02-13\",\"2022-02-14\",\"2022-02-15\",\"2022-02-16\",\"2022-02-17\",\"2022-02-18\",\"2022-02-19\",\"2022-02-20\",\"2022-02-21\",\"2022-02-22\",\"2022-02-23\",\"2022-02-24\",\"2022-02-25\",\"2022-02-26\",\"2022-02-27\",\"2022-02-28\",\"2022-03-01\",\"2022-03-02\",\"2022-03-03\",\"2022-03-04\",\"2022-03-05\",\"2022-03-06\",\"2022-03-07\",\"2022-03-08\",\"2022-03-09\",\"2022-03-10\",\"2022-03-11\",\"2022-03-12\",\"2022-03-13\",\"2022-03-14\",\"2022-03-15\",\"2022-03-16\",\"2022-03-17\",\"2022-03-18\",\"2022-03-19\",\"2022-03-20\",\"2022-03-21\",\"2022-03-22\",\"2022-03-23\",\"2022-03-24\",\"2022-03-25\",\"2022-03-26\",\"2022-03-27\",\"2022-03-28\",\"2022-03-29\",\"2022-03-30\",\"2022-03-31\",\"2022-04-01\",\"2022-04-02\",\"2022-04-03\",\"2022-04-04\",\"2022-04-05\",\"2022-04-06\",\"2022-04-07\",\"2022-04-08\",\"2022-04-09\",\"2022-04-10\",\"2022-04-11\",\"2022-04-12\",\"2022-04-13\",\"2022-04-14\",\"2022-04-15\",\"2022-04-16\",\"2022-04-17\",\"2022-04-18\",\"2022-04-19\",\"2022-04-20\",\"2022-04-21\",\"2022-04-22\",\"2022-04-23\",\"2022-04-24\",\"2022-04-25\",\"2022-04-26\",\"2022-04-27\",\"2022-04-28\",\"2022-04-29\",\"2022-04-30\",\"2022-05-01\",\"2022-05-02\",\"2022-05-03\",\"2022-05-04\",\"2022-05-05\",\"2022-05-06\",\"2022-05-07\",\"2022-05-08\",\"2022-05-09\",\"2022-05-10\",\"2022-05-11\",\"2022-05-12\",\"2022-05-13\",\"2022-05-14\",\"2022-05-15\",\"2022-05-16\",\"2022-05-17\",\"2022-05-18\",\"2022-05-19\",\"2022-05-20\",\"2022-05-21\",\"2022-05-22\",\"2022-05-23\",\"2022-05-24\",\"2022-05-25\",\"2022-05-26\",\"2022-05-27\",\"2022-05-28\",\"2022-05-29\",\"2022-05-30\",\"2022-05-31\",\"2022-06-01\",\"2022-06-02\",\"2022-06-03\",\"2022-06-04\",\"2022-06-05\",\"2022-06-06\",\"2022-06-07\",\"2022-06-08\",\"2022-06-09\",\"2022-06-10\",\"2022-06-11\",\"2022-06-12\",\"2022-06-13\",\"2022-06-14\",\"2022-06-15\",\"2022-06-16\",\"2022-06-17\",\"2022-06-18\",\"2022-06-19\",\"2022-06-20\",\"2022-06-21\",\"2022-06-22\",\"2022-06-23\",\"2022-06-24\",\"2022-06-25\",\"2022-06-26\",\"2022-06-27\",\"2022-06-28\",\"2022-06-29\",\"2022-06-30\",\"2022-07-01\",\"2022-07-02\",\"2022-07-03\",\"2022-07-04\",\"2022-07-05\",\"2022-07-06\",\"2022-07-07\",\"2022-07-08\",\"2022-07-09\",\"2022-07-10\",\"2022-07-11\",\"2022-07-12\",\"2022-07-13\",\"2022-07-14\",\"2022-07-15\",\"2022-07-16\",\"2022-07-17\",\"2022-07-18\",\"2022-07-19\",\"2022-07-20\",\"2022-07-21\",\"2022-07-22\",\"2022-07-23\",\"2022-07-24\",\"2022-07-25\",\"2022-07-26\",\"2022-07-27\",\"2022-07-28\",\"2022-07-29\",\"2022-07-30\",\"2022-07-31\",\"2022-08-01\",\"2022-08-02\",\"2022-08-03\",\"2022-08-04\",\"2022-08-05\",\"2022-08-06\",\"2022-08-07\",\"2022-08-08\",\"2022-08-09\",\"2022-08-10\",\"2022-08-11\",\"2022-08-12\",\"2022-08-13\",\"2022-08-14\",\"2022-08-15\",\"2022-08-16\",\"2022-08-17\",\"2022-08-18\",\"2022-08-19\",\"2022-08-20\",\"2022-08-21\",\"2022-08-22\",\"2022-08-23\",\"2022-08-24\",\"2022-08-25\",\"2022-08-26\",\"2022-08-27\",\"2022-08-28\",\"2022-08-29\",\"2022-08-30\",\"2022-08-31\",\"2022-09-01\",\"2022-09-02\",\"2022-09-03\",\"2022-09-04\",\"2022-09-05\",\"2022-09-06\",\"2022-09-07\",\"2022-09-08\",\"2022-09-09\",\"2022-09-10\",\"2022-09-11\",\"2022-09-12\",\"2022-09-13\",\"2022-09-14\",\"2022-09-15\",\"2022-09-16\",\"2022-09-17\",\"2022-09-18\",\"2022-09-19\",\"2022-09-20\",\"2022-09-21\",\"2022-09-22\",\"2022-09-23\",\"2022-09-24\",\"2022-09-25\",\"2022-09-26\",\"2022-09-27\",\"2022-09-28\",\"2022-09-29\",\"2022-09-30\",\"2022-10-01\",\"2022-10-02\",\"2022-10-03\",\"2022-10-04\",\"2022-10-05\",\"2022-10-06\",\"2022-10-07\",\"2022-10-08\",\"2022-10-09\",\"2022-10-10\",\"2022-10-11\",\"2022-10-12\",\"2022-10-13\",\"2022-10-14\",\"2022-10-15\",\"2022-10-16\",\"2022-10-17\",\"2022-10-18\",\"2022-10-19\",\"2022-10-20\",\"2022-10-21\",\"2022-10-22\",\"2022-10-23\",\"2022-10-24\",\"2022-10-25\",\"2022-10-26\",\"2022-10-27\",\"2022-10-28\",\"2022-10-29\",\"2022-10-30\",\"2022-10-31\",\"2022-11-01\",\"2022-11-02\",\"2022-11-03\",\"2022-11-04\",\"2022-11-05\",\"2022-11-06\",\"2022-11-07\",\"2022-11-08\",\"2022-11-09\",\"2022-11-10\",\"2022-11-11\",\"2022-11-12\",\"2022-11-13\",\"2022-11-14\",\"2022-11-15\",\"2022-11-16\",\"2022-11-17\",\"2022-11-18\",\"2022-11-19\",\"2022-11-20\",\"2022-11-21\",\"2022-11-22\",\"2022-11-23\"],\"xaxis\":\"x\",\"y\":[null,null,null,null,null,null,null,null,null,null,null,null,null,null,null,null,null,null,null,null,null,null,null,null,null,null,null,null,null,7.937222521140581,7.937222521140581,7.937222521140581,8.833101369389512,8.833101369389512,8.833101369389512,7.837476208846383,7.837476208846383,7.837476208846383,7.7751959514057525,7.7751959514057525,7.7751959514057525,7.7751959514057525,7.7751959514057525,7.7751959514057525,7.7751959514057525,7.114007673135979,7.114007673135979,7.114007673135979,7.114007673135979,6.189368617148945,6.189368617148945,7.271228793603008,7.271228793603008,6.234703298456397,6.234703298456397,6.234703298456397,5.020185414477115,5.020185414477115,5.020185414477115,5.020185414477115,5.020185414477115,5.020185414477115,3.488074922742723,3.488074922742723,3.488074922742723,3.488074922742723,3.488074922742723,3.488074922742723,3.488074922742723,3.488074922742723,4.998640440754956,6.2378404893107495,6.2378404893107495,6.407255538325229,6.407255538325229,6.407255538325229,6.407255538325229,6.407255538325229,7.116123881067014,7.116123881067014,7.116123881067014,5.987523148530308,5.987523148530308,5.987523148530308,5.987523148530308,5.987523148530308,6.145774675867224,6.145774675867224,7.250908114111455,7.250908114111455,7.250908114111455,8.226957297611278,8.226957297611278,8.226957297611278,8.72923954268964,8.72923954268964,8.72923954268964,8.72923954268964,9.332580969349767,9.332580969349767,8.340701717743023,7.306898893426984,7.306898893426984,7.166846853477736,7.166846853477736,7.166846853477736,7.166846853477736,7.166846853477736,6.569168387284057,6.569168387284057,6.569168387284057,6.569168387284057,7.5653179920412645,7.5653179920412645,7.585137005317959,7.585137005317959,8.435225126388152,9.178568068649456,9.18730364243725,9.18730364243725,9.18730364243725,8.377583223748651,8.377583223748651,8.377583223748651,8.648133383521433,8.648133383521433,8.648133383521433,8.648133383521433,7.997902520188124,9.00277714633668,9.95782202016763,9.95782202016763,9.95782202016763,9.95782202016763,9.95782202016763,9.95782202016763,9.799148809663821,9.799148809663821,9.799148809663821,10.73449409411881,10.73449409411881,10.73449409411881,9.827426075258845,9.827426075258845,9.808888561749514,9.808888561749514,8.974851918895904,8.158830020491846,7.112579327659813,7.116376692216125,7.116376692216125,7.116376692216125,8.114519101481788,8.114519101481788,7.079285321972348,7.079285321972348,7.079285321972348,7.079285321972348,7.079285321972348,5.944739908821199,4.697170929919626,5.338089114639896,5.338089114639896,5.338089114639896,5.338089114639896,6.537508880576727,7.319387757452812,7.319387757452812,7.90192316021382,7.164938695674699,7.164938695674699,7.164938695674699,7.164938695674699,8.086268054092415,8.086268054092415,8.086268054092415,8.086268054092415,8.086268054092415,8.086268054092415,8.081586787310231,8.081586787310231,8.081586787310231,7.030048906084791,7.030048906084791,7.030048906084791,7.030048906084791,7.030048906084791,7.057864660286991,7.057864660286991,7.057864660286991,7.057864660286991,6.414707551734326,6.414707551734326,6.414707551734326,6.414707551734326,6.43451550848211,6.521598735824262,6.521598735824262,5.752814397286239,5.748652608043576,5.748652608043576,5.748652608043576,5.748652608043576,4.997716073730862,4.997716073730862,4.997716073730862,4.997716073730862,4.997716073730862,4.997716073730862,4.997716073730862,4.997716073730862,4.997716073730862,4.997716073730862,4.997716073730862,5.056065467818759,5.056065467818759,5.056065467818759,4.997202131248832,4.997202131248832,4.997202131248832,4.997202131248832,4.997202131248832,4.997202131248832,4.9418081675181975,4.928260343441314,3.5222893719121733,0.8484759453240428,0.8484759453240428,0.8484759453240428,-0.3998221612874563,-0.3998221612874563,3.4668660303231364,3.4668660303231364,3.4668660303231364,3.4668660303231364,3.4668660303231364,3.4668660303231364,3.4668660303231364,3.4668660303231364,3.4668660303231364,3.4668660303231364,3.4668660303231364,3.4668660303231364,4.058533942919298,3.9494571340891813,4.597331784863929,5.310508199926929,5.310508199926929,5.310508199926929,5.310508199926929,5.310508199926929,5.310508199926929,5.310508199926929,6.449093590941791,6.45540612535697,6.45540612535697,7.5145259820540256,7.5145259820540256,7.5145259820540256,7.577905452313333,7.577905452313333,6.943770736143786,6.943770736143786,7.365171933732617,7.365171933732617,7.365171933732617,7.365171933732617,7.365171933732617,7.562706310007033,7.562706310007033,7.562706310007033,7.658211991963824,7.658211991963824,7.565793517827894,7.565793517827894,6.549921733892566,6.195970966764886,6.195970966764886,6.179757007083408,6.179757007083408,6.179757007083408,6.179757007083408,6.179757007083408,5.076337469824724,5.076337469824724,5.076337469824724,3.850266733972275,5.133110173858348,5.133110173858348,5.089276554606705,5.089276554606705,5.089276554606705,4.9825263802945905,5.283333273402797,6.489725459409444,6.489725459409444,6.489725459409444,6.489725459409444,6.234037164366552,6.234037164366552,6.234037164366552,6.100687133651774,6.100687133651774,7.152678009135919,7.152678009135919,7.152678009135919,7.810717004365475,7.810717004365475,8.201775148174262,9.090799776084491,9.090799776084491,10.062017059043422,11.012703110410097,11.012703110410097,11.012703110410097,11.012703110410097,11.301381702248651,10.443585566976875,10.443585566976875,10.851217703009617,10.851217703009617,11.813455861849917,11.97858537618836,11.094287488274023,10.263610829678516,10.899660431069233,10.899660431069233,10.899660431069233,10.872380976221368,10.872380976221368,10.872380976221368,11.6443759606614,11.6443759606614,10.682070716595312,11.211619614733266,11.211619614733266,11.227631423657346,11.227631423657346,10.854612083237097,9.988482353227097,9.988482353227097,9.020382705626766,8.195483621650501,8.1954836216505,8.4779309620711,8.4779309620711,8.170590350562009,8.166250510269213,8.166250510269213,7.766360502035682,7.766360502035682,6.733696531574909,6.733696531574909,6.733696531574909,6.733696531574909,6.162507840684223,6.162507840684223,6.162507840684223,6.168498090528134,6.168498090528134,6.168498090528134,4.9127671710640595,4.9127671710640595,4.9127671710640595,5.415699403460523,5.415699403460523,5.111211390524949,5.111211390524949,6.330038320270646,6.330038320270646,7.194190830166102,7.194190830166102,6.990599647911256,6.990599647911256,6.659872298731833,6.659872298731833,6.659872298731833,6.659872298731833,6.659872298731833,6.659872298731833,6.659872298731833,7.265963895126411,7.265963895126411,7.265963895126411,7.265963895126411,7.298655297287978,7.298655297287978,7.298655297287978,7.2914362851442664,7.2914362851442664,7.2914362851442664,7.2914362851442664,7.2914362851442664,7.2914362851442664,6.220774123932206,6.220774123932206,5.564167769131683,5.564167769131685,5.600100198861701,5.600100198861701,4.232094915194293,4.232094915194293,4.232094915194293,4.263637330958103,3.74783912876887,3.74783912876887,3.74783912876887,3.74783912876887,3.74783912876887,3.74783912876887,3.74783912876887,3.0437865551921477,3.072635742396235,3.072635742396235,4.23008026953096,4.196423191406004,4.196423191406004,4.196423191406004,4.196423191406004,4.196423191406004,4.196423191406004,4.196423191406004,4.196423191406004,5.4259730673823965,5.4259730673823965,5.4259730673823965,5.4259730673823965,5.4259730673823965,4.262472610262873,4.262472610262873,4.262472610262873,4.262472610262873,4.262472610262873,4.176440705693899,4.0582061486994325,4.0582061486994325,4.934615282953961,4.934615282953961,4.934615282953961,4.934615282953961,4.934615282953961,6.128369902031232,6.111823050488177,6.111823050488177,5.403785494115765,5.836033156684958,5.836033156684958,5.836033156684958,5.930511445298071],\"yaxis\":\"y\",\"type\":\"scatter\"}],                        {\"template\":{\"data\":{\"histogram2dcontour\":[{\"type\":\"histogram2dcontour\",\"colorbar\":{\"outlinewidth\":0,\"ticks\":\"\"},\"colorscale\":[[0.0,\"#0d0887\"],[0.1111111111111111,\"#46039f\"],[0.2222222222222222,\"#7201a8\"],[0.3333333333333333,\"#9c179e\"],[0.4444444444444444,\"#bd3786\"],[0.5555555555555556,\"#d8576b\"],[0.6666666666666666,\"#ed7953\"],[0.7777777777777778,\"#fb9f3a\"],[0.8888888888888888,\"#fdca26\"],[1.0,\"#f0f921\"]]}],\"choropleth\":[{\"type\":\"choropleth\",\"colorbar\":{\"outlinewidth\":0,\"ticks\":\"\"}}],\"histogram2d\":[{\"type\":\"histogram2d\",\"colorbar\":{\"outlinewidth\":0,\"ticks\":\"\"},\"colorscale\":[[0.0,\"#0d0887\"],[0.1111111111111111,\"#46039f\"],[0.2222222222222222,\"#7201a8\"],[0.3333333333333333,\"#9c179e\"],[0.4444444444444444,\"#bd3786\"],[0.5555555555555556,\"#d8576b\"],[0.6666666666666666,\"#ed7953\"],[0.7777777777777778,\"#fb9f3a\"],[0.8888888888888888,\"#fdca26\"],[1.0,\"#f0f921\"]]}],\"heatmap\":[{\"type\":\"heatmap\",\"colorbar\":{\"outlinewidth\":0,\"ticks\":\"\"},\"colorscale\":[[0.0,\"#0d0887\"],[0.1111111111111111,\"#46039f\"],[0.2222222222222222,\"#7201a8\"],[0.3333333333333333,\"#9c179e\"],[0.4444444444444444,\"#bd3786\"],[0.5555555555555556,\"#d8576b\"],[0.6666666666666666,\"#ed7953\"],[0.7777777777777778,\"#fb9f3a\"],[0.8888888888888888,\"#fdca26\"],[1.0,\"#f0f921\"]]}],\"heatmapgl\":[{\"type\":\"heatmapgl\",\"colorbar\":{\"outlinewidth\":0,\"ticks\":\"\"},\"colorscale\":[[0.0,\"#0d0887\"],[0.1111111111111111,\"#46039f\"],[0.2222222222222222,\"#7201a8\"],[0.3333333333333333,\"#9c179e\"],[0.4444444444444444,\"#bd3786\"],[0.5555555555555556,\"#d8576b\"],[0.6666666666666666,\"#ed7953\"],[0.7777777777777778,\"#fb9f3a\"],[0.8888888888888888,\"#fdca26\"],[1.0,\"#f0f921\"]]}],\"contourcarpet\":[{\"type\":\"contourcarpet\",\"colorbar\":{\"outlinewidth\":0,\"ticks\":\"\"}}],\"contour\":[{\"type\":\"contour\",\"colorbar\":{\"outlinewidth\":0,\"ticks\":\"\"},\"colorscale\":[[0.0,\"#0d0887\"],[0.1111111111111111,\"#46039f\"],[0.2222222222222222,\"#7201a8\"],[0.3333333333333333,\"#9c179e\"],[0.4444444444444444,\"#bd3786\"],[0.5555555555555556,\"#d8576b\"],[0.6666666666666666,\"#ed7953\"],[0.7777777777777778,\"#fb9f3a\"],[0.8888888888888888,\"#fdca26\"],[1.0,\"#f0f921\"]]}],\"surface\":[{\"type\":\"surface\",\"colorbar\":{\"outlinewidth\":0,\"ticks\":\"\"},\"colorscale\":[[0.0,\"#0d0887\"],[0.1111111111111111,\"#46039f\"],[0.2222222222222222,\"#7201a8\"],[0.3333333333333333,\"#9c179e\"],[0.4444444444444444,\"#bd3786\"],[0.5555555555555556,\"#d8576b\"],[0.6666666666666666,\"#ed7953\"],[0.7777777777777778,\"#fb9f3a\"],[0.8888888888888888,\"#fdca26\"],[1.0,\"#f0f921\"]]}],\"mesh3d\":[{\"type\":\"mesh3d\",\"colorbar\":{\"outlinewidth\":0,\"ticks\":\"\"}}],\"scatter\":[{\"fillpattern\":{\"fillmode\":\"overlay\",\"size\":10,\"solidity\":0.2},\"type\":\"scatter\"}],\"parcoords\":[{\"type\":\"parcoords\",\"line\":{\"colorbar\":{\"outlinewidth\":0,\"ticks\":\"\"}}}],\"scatterpolargl\":[{\"type\":\"scatterpolargl\",\"marker\":{\"colorbar\":{\"outlinewidth\":0,\"ticks\":\"\"}}}],\"bar\":[{\"error_x\":{\"color\":\"#2a3f5f\"},\"error_y\":{\"color\":\"#2a3f5f\"},\"marker\":{\"line\":{\"color\":\"#E5ECF6\",\"width\":0.5},\"pattern\":{\"fillmode\":\"overlay\",\"size\":10,\"solidity\":0.2}},\"type\":\"bar\"}],\"scattergeo\":[{\"type\":\"scattergeo\",\"marker\":{\"colorbar\":{\"outlinewidth\":0,\"ticks\":\"\"}}}],\"scatterpolar\":[{\"type\":\"scatterpolar\",\"marker\":{\"colorbar\":{\"outlinewidth\":0,\"ticks\":\"\"}}}],\"histogram\":[{\"marker\":{\"pattern\":{\"fillmode\":\"overlay\",\"size\":10,\"solidity\":0.2}},\"type\":\"histogram\"}],\"scattergl\":[{\"type\":\"scattergl\",\"marker\":{\"colorbar\":{\"outlinewidth\":0,\"ticks\":\"\"}}}],\"scatter3d\":[{\"type\":\"scatter3d\",\"line\":{\"colorbar\":{\"outlinewidth\":0,\"ticks\":\"\"}},\"marker\":{\"colorbar\":{\"outlinewidth\":0,\"ticks\":\"\"}}}],\"scattermapbox\":[{\"type\":\"scattermapbox\",\"marker\":{\"colorbar\":{\"outlinewidth\":0,\"ticks\":\"\"}}}],\"scatterternary\":[{\"type\":\"scatterternary\",\"marker\":{\"colorbar\":{\"outlinewidth\":0,\"ticks\":\"\"}}}],\"scattercarpet\":[{\"type\":\"scattercarpet\",\"marker\":{\"colorbar\":{\"outlinewidth\":0,\"ticks\":\"\"}}}],\"carpet\":[{\"aaxis\":{\"endlinecolor\":\"#2a3f5f\",\"gridcolor\":\"white\",\"linecolor\":\"white\",\"minorgridcolor\":\"white\",\"startlinecolor\":\"#2a3f5f\"},\"baxis\":{\"endlinecolor\":\"#2a3f5f\",\"gridcolor\":\"white\",\"linecolor\":\"white\",\"minorgridcolor\":\"white\",\"startlinecolor\":\"#2a3f5f\"},\"type\":\"carpet\"}],\"table\":[{\"cells\":{\"fill\":{\"color\":\"#EBF0F8\"},\"line\":{\"color\":\"white\"}},\"header\":{\"fill\":{\"color\":\"#C8D4E3\"},\"line\":{\"color\":\"white\"}},\"type\":\"table\"}],\"barpolar\":[{\"marker\":{\"line\":{\"color\":\"#E5ECF6\",\"width\":0.5},\"pattern\":{\"fillmode\":\"overlay\",\"size\":10,\"solidity\":0.2}},\"type\":\"barpolar\"}],\"pie\":[{\"automargin\":true,\"type\":\"pie\"}]},\"layout\":{\"autotypenumbers\":\"strict\",\"colorway\":[\"#636efa\",\"#EF553B\",\"#00cc96\",\"#ab63fa\",\"#FFA15A\",\"#19d3f3\",\"#FF6692\",\"#B6E880\",\"#FF97FF\",\"#FECB52\"],\"font\":{\"color\":\"#2a3f5f\"},\"hovermode\":\"closest\",\"hoverlabel\":{\"align\":\"left\"},\"paper_bgcolor\":\"white\",\"plot_bgcolor\":\"#E5ECF6\",\"polar\":{\"bgcolor\":\"#E5ECF6\",\"angularaxis\":{\"gridcolor\":\"white\",\"linecolor\":\"white\",\"ticks\":\"\"},\"radialaxis\":{\"gridcolor\":\"white\",\"linecolor\":\"white\",\"ticks\":\"\"}},\"ternary\":{\"bgcolor\":\"#E5ECF6\",\"aaxis\":{\"gridcolor\":\"white\",\"linecolor\":\"white\",\"ticks\":\"\"},\"baxis\":{\"gridcolor\":\"white\",\"linecolor\":\"white\",\"ticks\":\"\"},\"caxis\":{\"gridcolor\":\"white\",\"linecolor\":\"white\",\"ticks\":\"\"}},\"coloraxis\":{\"colorbar\":{\"outlinewidth\":0,\"ticks\":\"\"}},\"colorscale\":{\"sequential\":[[0.0,\"#0d0887\"],[0.1111111111111111,\"#46039f\"],[0.2222222222222222,\"#7201a8\"],[0.3333333333333333,\"#9c179e\"],[0.4444444444444444,\"#bd3786\"],[0.5555555555555556,\"#d8576b\"],[0.6666666666666666,\"#ed7953\"],[0.7777777777777778,\"#fb9f3a\"],[0.8888888888888888,\"#fdca26\"],[1.0,\"#f0f921\"]],\"sequentialminus\":[[0.0,\"#0d0887\"],[0.1111111111111111,\"#46039f\"],[0.2222222222222222,\"#7201a8\"],[0.3333333333333333,\"#9c179e\"],[0.4444444444444444,\"#bd3786\"],[0.5555555555555556,\"#d8576b\"],[0.6666666666666666,\"#ed7953\"],[0.7777777777777778,\"#fb9f3a\"],[0.8888888888888888,\"#fdca26\"],[1.0,\"#f0f921\"]],\"diverging\":[[0,\"#8e0152\"],[0.1,\"#c51b7d\"],[0.2,\"#de77ae\"],[0.3,\"#f1b6da\"],[0.4,\"#fde0ef\"],[0.5,\"#f7f7f7\"],[0.6,\"#e6f5d0\"],[0.7,\"#b8e186\"],[0.8,\"#7fbc41\"],[0.9,\"#4d9221\"],[1,\"#276419\"]]},\"xaxis\":{\"gridcolor\":\"white\",\"linecolor\":\"white\",\"ticks\":\"\",\"title\":{\"standoff\":15},\"zerolinecolor\":\"white\",\"automargin\":true,\"zerolinewidth\":2},\"yaxis\":{\"gridcolor\":\"white\",\"linecolor\":\"white\",\"ticks\":\"\",\"title\":{\"standoff\":15},\"zerolinecolor\":\"white\",\"automargin\":true,\"zerolinewidth\":2},\"scene\":{\"xaxis\":{\"backgroundcolor\":\"#E5ECF6\",\"gridcolor\":\"white\",\"linecolor\":\"white\",\"showbackground\":true,\"ticks\":\"\",\"zerolinecolor\":\"white\",\"gridwidth\":2},\"yaxis\":{\"backgroundcolor\":\"#E5ECF6\",\"gridcolor\":\"white\",\"linecolor\":\"white\",\"showbackground\":true,\"ticks\":\"\",\"zerolinecolor\":\"white\",\"gridwidth\":2},\"zaxis\":{\"backgroundcolor\":\"#E5ECF6\",\"gridcolor\":\"white\",\"linecolor\":\"white\",\"showbackground\":true,\"ticks\":\"\",\"zerolinecolor\":\"white\",\"gridwidth\":2}},\"shapedefaults\":{\"line\":{\"color\":\"#2a3f5f\"}},\"annotationdefaults\":{\"arrowcolor\":\"#2a3f5f\",\"arrowhead\":0,\"arrowwidth\":1},\"geo\":{\"bgcolor\":\"white\",\"landcolor\":\"#E5ECF6\",\"subunitcolor\":\"white\",\"showland\":true,\"showlakes\":true,\"lakecolor\":\"white\"},\"title\":{\"x\":0.05},\"mapbox\":{\"style\":\"light\"}}},\"xaxis\":{\"anchor\":\"y\",\"domain\":[0.0,1.0],\"title\":{\"text\":\"dates\"}},\"yaxis\":{\"anchor\":\"x\",\"domain\":[0.0,1.0],\"title\":{\"text\":\"rolling_annualized_sharpe\"}},\"legend\":{\"tracegroupgap\":0},\"margin\":{\"t\":60}},                        {\"responsive\": true}                    ).then(function(){\n",
       "                            \n",
       "var gd = document.getElementById('6ff5beda-37be-4747-8783-5d86090214aa');\n",
       "var x = new MutationObserver(function (mutations, observer) {{\n",
       "        var display = window.getComputedStyle(gd).display;\n",
       "        if (!display || display === 'none') {{\n",
       "            console.log([gd, 'removed!']);\n",
       "            Plotly.purge(gd);\n",
       "            observer.disconnect();\n",
       "        }}\n",
       "}});\n",
       "\n",
       "// Listen for the removal of the full notebook cells\n",
       "var notebookContainer = gd.closest('#notebook-container');\n",
       "if (notebookContainer) {{\n",
       "    x.observe(notebookContainer, {childList: true});\n",
       "}}\n",
       "\n",
       "// Listen for the clearing of the current output cell\n",
       "var outputEl = gd.closest('.output');\n",
       "if (outputEl) {{\n",
       "    x.observe(outputEl, {childList: true});\n",
       "}}\n",
       "\n",
       "                        })                };                });            </script>        </div>"
      ]
     },
     "metadata": {},
     "output_type": "display_data"
    }
   ],
   "source": [
    "px.line(df, x = \"dates\", y = \"rolling_annualized_sharpe\")"
   ]
  },
  {
   "cell_type": "code",
   "execution_count": null,
   "metadata": {},
   "outputs": [
    {
     "data": {
      "application/vnd.plotly.v1+json": {
       "config": {
        "plotlyServerURL": "https://plot.ly"
       },
       "data": [
        {
         "autobinx": false,
         "histnorm": "probability density",
         "legendgroup": "profit_ratio",
         "marker": {
          "color": "rgb(31, 119, 180)"
         },
         "name": "profit_ratio",
         "opacity": 0.7,
         "type": "histogram",
         "x": [
          0,
          0.00021353,
          0.010007,
          0.00035429,
          0,
          0,
          0.00463775,
          0.00765109,
          0.00847603,
          0.01192079,
          0.009993,
          0,
          0,
          0,
          0.00715455,
          0.00116271,
          0,
          0.00836098,
          0,
          0,
          0.009993,
          0.010007,
          0,
          0.0007174,
          0,
          0.00357594,
          0.00060171,
          0.00962602,
          0,
          0.00650204,
          0.00609049,
          0.01039323,
          0.00396855,
          0,
          0,
          0.00786962,
          0.00010196,
          0.00912956,
          0.00498964,
          0.00566151,
          0.010007,
          0.00878942,
          -0.00029504,
          0.00877082,
          0.010007,
          -0.00078137,
          0.00868222,
          0.00328942,
          0.00001794,
          0.00782218,
          0.00282728,
          0.009993,
          0,
          0.00302804,
          0.00005587,
          0.00287306,
          0.00006544,
          0,
          0.009993,
          0,
          0.00010066,
          0.00537792,
          0.00352764,
          0,
          0.00005267,
          0,
          0.00009973,
          0.0032339,
          -0.00009291,
          -0.00002293,
          0.00058748,
          0,
          0,
          0.009993,
          0.00236949,
          0.01001611,
          0,
          0.010007,
          0.00026686,
          0.00018308,
          0.009993,
          0.009993,
          0.00045176,
          0,
          0.00084525,
          0.00060684,
          0,
          -0.0000995,
          0,
          0,
          0.01097643,
          0.00179335,
          -0.00063224,
          0,
          0.00794652,
          0.00974974,
          0,
          0,
          0.00009453,
          0.00755395,
          0.0036852,
          0.00181605,
          0.00010018,
          0.0044409,
          0.00130205,
          0.00797224,
          0.00960271,
          0.0013947,
          0.00190014,
          0.00001824,
          0.007304,
          0.0027951,
          0.010007,
          0.01287464,
          0.00380377,
          0.00026781,
          0,
          0.00047823,
          0.00005243,
          0.00010011,
          0.00111551,
          0,
          0,
          0.00002517,
          0.00860523,
          0.00235439,
          0.00559778,
          0,
          0.009993,
          0,
          0,
          0.00255621,
          0.00011476,
          0,
          -0.00153983,
          0.00291898,
          0.00850932,
          0,
          0.00010043,
          -0.00009161,
          0,
          0.00008538,
          0.0000082,
          0,
          0.00486233,
          0.00646457,
          0,
          -0.00175314,
          0.00798209,
          0.009993,
          0,
          0.01057962,
          0,
          0.00269328,
          0.00053932
         ],
         "xaxis": "x",
         "xbins": {
          "end": 0.01287464,
          "size": 0.0005,
          "start": -0.00175314
         },
         "yaxis": "y"
        },
        {
         "legendgroup": "profit_ratio",
         "marker": {
          "color": "rgb(31, 119, 180)"
         },
         "mode": "lines",
         "name": "profit_ratio",
         "showlegend": false,
         "type": "scatter",
         "x": [
          -0.00175314,
          -0.00172388444,
          -0.00169462888,
          -0.00166537332,
          -0.00163611776,
          -0.0016068622,
          -0.00157760664,
          -0.00154835108,
          -0.0015190955200000001,
          -0.00148983996,
          -0.0014605844,
          -0.00143132884,
          -0.00140207328,
          -0.00137281772,
          -0.0013435621600000002,
          -0.0013143066,
          -0.00128505104,
          -0.00125579548,
          -0.00122653992,
          -0.0011972843600000001,
          -0.0011680288,
          -0.00113877324,
          -0.00110951768,
          -0.00108026212,
          -0.00105100656,
          -0.001021751,
          -0.00099249544,
          -0.00096323988,
          -0.0009339843200000001,
          -0.00090472876,
          -0.0008754732,
          -0.00084621764,
          -0.0008169620800000001,
          -0.0007877065200000001,
          -0.00075845096,
          -0.0007291953999999999,
          -0.00069993984,
          -0.0006706842800000001,
          -0.00064142872,
          -0.0006121731600000002,
          -0.0005829175999999998,
          -0.00055366204,
          -0.0005244064800000001,
          -0.00049515092,
          -0.0004658953600000001,
          -0.0004366398000000002,
          -0.0004073842399999999,
          -0.00037812868000000003,
          -0.00034887312000000015,
          -0.00031961756000000005,
          -0.00029036200000000017,
          -0.00026110643999999986,
          -0.00023185087999999998,
          -0.0002025953200000001,
          -0.00017333976,
          -0.00014408420000000012,
          -0.00011482864000000024,
          -0.00008557307999999993,
          -0.000056317520000000046,
          -0.00002706195999999995,
          0.000002193599999999931,
          0.00003144915999999981,
          0.000060704720000000125,
          0.00008996028,
          0.00011921583999999989,
          0.00014847139999999998,
          0.00017772695999999986,
          0.00020698251999999996,
          0.00023623808000000006,
          0.00026549364000000015,
          0.00029474920000000025,
          0.0003240047599999999,
          0.00035326032,
          0.0003825158799999997,
          0.00041177143999999977,
          0.0004410270000000003,
          0.00047028255999999997,
          0.0004995381200000001,
          0.0005287936799999997,
          0.0005580492399999998,
          0.0005873048000000004,
          0.00061656036,
          0.0006458159200000001,
          0.0006750714799999998,
          0.0007043270399999999,
          0.0007335825999999995,
          0.0007628381600000001,
          0.0007920937200000002,
          0.0008213492799999998,
          0.0008506048399999999,
          0.0008798603999999996,
          0.0009091159600000001,
          0.0009383715200000002,
          0.0009676270799999999,
          0.00099688264,
          0.0010261381999999996,
          0.0010553937599999997,
          0.0010846493200000003,
          0.00111390488,
          0.00114316044,
          0.0011724159999999997,
          0.0012016715599999998,
          0.0012309271200000003,
          0.00126018268,
          0.00128943824,
          0.0013186937999999997,
          0.0013479493599999998,
          0.0013772049200000004,
          0.00140646048,
          0.0014357160400000001,
          0.0014649715999999998,
          0.00149422716,
          0.0015234827199999996,
          0.00155273828,
          0.0015819938400000002,
          0.0016112493999999998,
          0.00164050496,
          0.0016697605199999996,
          0.0016990160800000001,
          0.0017282716400000002,
          0.0017575272,
          0.00178678276,
          0.0018160383199999997,
          0.0018452938799999998,
          0.0018745494400000003,
          0.001903805,
          0.00193306056,
          0.00196231612,
          0.00199157168,
          0.00202082724,
          0.0020500828000000002,
          0.0020793383600000003,
          0.0021085939199999995,
          0.0021378494799999996,
          0.0021671050399999997,
          0.0021963606,
          0.00222561616,
          0.002254871719999999,
          0.00228412728,
          0.0023133828400000002,
          0.0023426384000000003,
          0.0023718939599999996,
          0.0024011495199999996,
          0.0024304050799999997,
          0.00245966064,
          0.0024889162,
          0.002518171759999999,
          0.0025474273199999993,
          0.0025766828799999994,
          0.0026059384400000003,
          0.0026351940000000004,
          0.0026644495599999997,
          0.0026937051199999998,
          0.00272296068,
          0.00275221624,
          0.0027814718,
          0.0028107273599999993,
          0.0028399829199999994,
          0.0028692384799999995,
          0.0028984940399999996,
          0.0029277496000000005,
          0.0029570051599999998,
          0.00298626072,
          0.00301551628,
          0.00304477184,
          0.0030740273999999993,
          0.0031032829599999994,
          0.0031325385199999995,
          0.0031617940799999996,
          0.0031910496399999997,
          0.003220305199999999,
          0.00324956076,
          0.00327881632,
          0.00330807188,
          0.00333732744,
          0.0033665829999999994,
          0.0033958385599999995,
          0.0034250941199999996,
          0.0034543496799999997,
          0.0034836052399999998,
          0.003512860799999999,
          0.003542116359999999,
          0.00357137192,
          0.00360062748,
          0.0036298830400000003,
          0.0036591385999999995,
          0.0036883941599999996,
          0.0037176497199999997,
          0.0037469052799999998,
          0.00377616084,
          0.003805416399999999,
          0.003834671959999999,
          0.0038639275199999993,
          0.0038931830800000003,
          0.00392243864,
          0.0039516942,
          0.00398094976,
          0.00401020532,
          0.00403946088,
          0.00406871644,
          0.004097971999999999,
          0.004127227559999999,
          0.004156483119999999,
          0.00418573868,
          0.0042149942400000005,
          0.0042442498,
          0.00427350536,
          0.00430276092,
          0.00433201648,
          0.00436127204,
          0.004390527599999999,
          0.004419783159999999,
          0.0044490387199999995,
          0.00447829428,
          0.0045075498400000006,
          0.0045368054,
          0.00456606096,
          0.00459531652,
          0.00462457208,
          0.00465382764,
          0.004683083199999999,
          0.0047123387599999995,
          0.00474159432,
          0.00477084988,
          0.004800105439999999,
          0.004829360999999999,
          0.00485861656,
          0.00488787212,
          0.00491712768,
          0.004946383239999999,
          0.0049756387999999995,
          0.00500489436,
          0.00503414992,
          0.00506340548,
          0.005092661039999999,
          0.005121916599999999,
          0.00515117216,
          0.00518042772,
          0.00520968328,
          0.0052389388399999995,
          0.0052681944,
          0.00529744996,
          0.00532670552,
          0.00535596108,
          0.005385216639999999,
          0.005414472199999999,
          0.005443727759999999,
          0.00547298332,
          0.00550223888,
          0.00553149444,
          0.00556075,
          0.00559000556,
          0.00561926112,
          0.00564851668,
          0.005677772239999999,
          0.005707027799999999,
          0.0057362833599999994,
          0.0057655389199999995,
          0.0057947944800000005,
          0.00582405004,
          0.0058533056,
          0.00588256116,
          0.00591181672,
          0.00594107228,
          0.005970327839999999,
          0.0059995833999999994,
          0.0060288389599999995,
          0.00605809452,
          0.00608735008,
          0.00611660564,
          0.0061458612,
          0.00617511676,
          0.00620437232,
          0.00623362788,
          0.006262883439999999,
          0.006292139,
          0.0063213945600000005,
          0.006350650119999999,
          0.006379905680000001,
          0.006409161239999999,
          0.006438416800000001,
          0.006467672359999999,
          0.006496927919999999,
          0.0065261834799999995,
          0.0065554390399999996,
          0.0065846946,
          0.00661395016,
          0.00664320572,
          0.00667246128,
          0.00670171684,
          0.0067309724,
          0.00676022796,
          0.006789483519999999,
          0.00681873908,
          0.006847994639999999,
          0.006877250200000001,
          0.006906505759999999,
          0.006935761319999999,
          0.006965016880000001,
          0.006994272439999999,
          0.007023528000000001,
          0.0070527835599999995,
          0.0070820391199999996,
          0.00711129468,
          0.00714055024,
          0.0071698058,
          0.00719906136,
          0.007228316919999998,
          0.00725757248,
          0.00728682804,
          0.0073160836,
          0.0073453391600000004,
          0.007374594719999999,
          0.007403850280000001,
          0.007433105839999999,
          0.007462361400000001,
          0.007491616959999999,
          0.007520872519999999,
          0.007550128079999999,
          0.0075793836399999995,
          0.007608639200000001,
          0.00763789476,
          0.00766715032,
          0.00769640588,
          0.00772566144,
          0.007754916999999998,
          0.00778417256,
          0.007813428119999999,
          0.00784268368,
          0.007871939239999999,
          0.007901194799999999,
          0.00793045036,
          0.007959705919999999,
          0.00798896148,
          0.00801821704,
          0.0080474726,
          0.00807672816,
          0.00810598372,
          0.00813523928,
          0.00816449484,
          0.008193750399999998,
          0.00822300596,
          0.00825226152,
          0.00828151708,
          0.00831077264,
          0.008340028199999999,
          0.00836928376,
          0.008398539319999999,
          0.00842779488,
          0.008457050439999999,
          0.008486305999999999,
          0.008515561559999999,
          0.00854481712,
          0.008574072680000001,
          0.00860332824,
          0.0086325838,
          0.00866183936,
          0.00869109492,
          0.00872035048,
          0.00874960604,
          0.008778861599999998,
          0.00880811716,
          0.008837372719999998,
          0.00886662828,
          0.00889588384,
          0.008925139399999999,
          0.00895439496,
          0.008983650519999999,
          0.00901290608,
          0.009042161639999999,
          0.0090714172,
          0.00910067276,
          0.00912992832,
          0.009159183880000001,
          0.00918843944,
          0.009217695,
          0.00924695056,
          0.00927620612,
          0.00930546168,
          0.00933471724,
          0.009363972799999998,
          0.00939322836,
          0.009422483919999999,
          0.00945173948,
          0.009480995039999999,
          0.009510250599999999,
          0.00953950616,
          0.00956876172,
          0.009598017280000001,
          0.00962727284,
          0.0096565284,
          0.00968578396,
          0.00971503952,
          0.00974429508,
          0.00977355064,
          0.009802806199999998,
          0.00983206176,
          0.00986131732,
          0.00989057288,
          0.00991982844,
          0.009949083999999999,
          0.00997833956,
          0.010007595119999999,
          0.01003685068,
          0.010066106239999999,
          0.0100953618,
          0.010124617360000001,
          0.01015387292,
          0.010183128480000001,
          0.01021238404,
          0.0102416396,
          0.01027089516,
          0.01030015072,
          0.01032940628,
          0.01035866184,
          0.010387917399999998,
          0.01041717296,
          0.010446428519999999,
          0.01047568408,
          0.01050493964,
          0.010534195199999999,
          0.01056345076,
          0.010592706319999999,
          0.010621961880000001,
          0.01065121744,
          0.010680473,
          0.01070972856,
          0.01073898412,
          0.010768239680000001,
          0.01079749524,
          0.0108267508,
          0.01085600636,
          0.01088526192,
          0.01091451748,
          0.01094377304,
          0.010973028599999999,
          0.01100228416,
          0.011031539719999999,
          0.01106079528,
          0.01109005084,
          0.011119306399999999,
          0.011148561960000001,
          0.01117781752,
          0.011207073080000001,
          0.01123632864,
          0.0112655842,
          0.01129483976,
          0.01132409532,
          0.011353350879999998,
          0.01138260644,
          0.011411861999999998,
          0.01144111756,
          0.01147037312,
          0.011499628679999999,
          0.01152888424,
          0.011558139799999999,
          0.01158739536,
          0.011616650919999999,
          0.011645906479999999,
          0.01167516204,
          0.0117044176,
          0.011733673160000001,
          0.01176292872,
          0.01179218428,
          0.01182143984,
          0.0118506954,
          0.01187995096,
          0.01190920652,
          0.011938462079999998,
          0.01196771764,
          0.011996973199999999,
          0.01202622876,
          0.01205548432,
          0.012084739879999999,
          0.01211399544,
          0.012143250999999999,
          0.01217250656,
          0.01220176212,
          0.01223101768,
          0.01226027324,
          0.0122895288,
          0.01231878436,
          0.01234803992,
          0.012377295479999998,
          0.01240655104,
          0.0124358066,
          0.01246506216,
          0.01249431772,
          0.012523573279999999,
          0.01255282884,
          0.012582084399999999,
          0.01261133996,
          0.012640595519999999,
          0.012669851079999999,
          0.01269910664,
          0.0127283622,
          0.012757617760000001,
          0.01278687332,
          0.01281612888,
          0.01284538444
         ],
         "xaxis": "x",
         "y": [
          69.70018360558795,
          71.31618829129472,
          72.94415038357556,
          74.58317588472136,
          76.23233892491231,
          77.89068245611453,
          79.55721902168776,
          81.23093160164129,
          82.9107745332713,
          84.59567450669498,
          86.28453163458774,
          87.97622059520604,
          89.66959184756254,
          91.36347291739783,
          93.0566697523705,
          94.7479681446693,
          96.43613521902711,
          98.1199209839032,
          99.79805994338041,
          101.46927276711689,
          103.13226801548042,
          104.78574391679645,
          106.42839019343859,
          108.05888993330984,
          109.67592150306979,
          111.27816049930341,
          112.86428173365151,
          114.43296124777339,
          115.9828783538709,
          117.51271769636725,
          119.02117133021116,
          120.50694081117796,
          121.96873929343046,
          123.40529362953413,
          124.81534646804613,
          126.19765834374047,
          127.55100975550783,
          128.87420322692572,
          130.16606534450216,
          131.42544876859543,
          132.65123421203901,
          133.84233238153496,
          134.99768587694268,
          136.1162710436472,
          137.19709977329313,
          138.2392212482557,
          139.24172362535177,
          140.20373565441545,
          141.1244282275124,
          142.00301585473304,
          142.8387580626696,
          143.6309607118786,
          144.37897722982797,
          145.08220975603732,
          145.7401101963521,
          146.35218118351668,
          146.9179769414686,
          147.4371040510152,
          147.90922211483283,
          148.3340443199822,
          148.71133789642124,
          149.04092447027233,
          149.32268031088896,
          149.55653647105348,
          149.74247881993375,
          149.88054796872052,
          149.97083908915138,
          150.0135016254381,
          150.0087389003878,
          149.95680761681268,
          149.85801725559838,
          149.7127293720884,
          149.52135679271456,
          149.28436271407554,
          149.0022597069225,
          148.67560862776963,
          148.30501744108696,
          147.89113995527094,
          147.43467447580608,
          146.93636237925105,
          146.39698661187225,
          145.81737011694213,
          145.19837419488846,
          144.54089680064328,
          143.84587078267947,
          143.1142620683599,
          142.34706780033056,
          141.54531442879468,
          140.7100557645845,
          139.8423709980143,
          138.94336268855048,
          138.01415473036982,
          137.05589029889313,
          136.06972978338658,
          135.05684871071034,
          134.01843566526225,
          132.9556902101219,
          131.86982081434138,
          130.7620427912539,
          129.63357625258178,
          128.4856440830239,
          127.3194699398885,
          126.13627628220368,
          124.93728243360277,
          123.72370268312454,
          122.49674442790618,
          121.25760636157767,
          120.00747671197514,
          118.74753153160545,
          117.4789330440946,
          116.2028280496408,
          114.92034639228771,
          113.63259949160886,
          112.34067894117513,
          111.04565517595039,
          109.74857621052918,
          108.450466449902,
          107.15232557420094,
          105.85512749864058,
          104.55981940964618,
          103.26732087792112,
          101.9785230489832,
          100.69428791146787,
          99.41544764327956,
          98.1428040354492,
          96.87712799334415,
          95.61915911467082,
          94.36960534350634,
          93.1291426993989,
          91.89841508039659,
          90.67803413867327,
          89.46857922725798,
          88.27059741620579,
          87.08460357639837,
          85.91108052901153,
          84.75047925855885,
          83.60321918729095,
          82.46968850861585,
          81.35024457710135,
          80.24521435252595,
          79.15489489535959,
          78.07955391098245,
          77.01943033988692,
          75.97473499105416,
          74.9456512156559,
          73.93233561819518,
          72.9349188021837,
          71.95350614743407,
          70.98817861604746,
          70.03899358418066,
          69.10598569669017,
          68.18916774178105,
          67.28853154281154,
          66.40404886445387,
          65.53567233045322,
          64.68333635028422,
          63.846958052068715,
          63.0264382191811,
          62.22166222805017,
          61.432500984738326,
          60.65881185796862,
          59.900439606360514,
          59.157217297724095,
          58.42896721836631,
          57.715501770457664,
          57.0166243556157,
          56.3321302429636,
          55.66180742003361,
          55.005437424989665,
          54.362796158757845,
          53.73365467575932,
          53.117779952055315,
          52.51493562982016,
          51.92488273717084,
          51.34738038248793,
          50.78218642247254,
          50.22905810328547,
          49.68775267422377,
          49.15802797348512,
          48.639642985674065,
          48.13235837079658,
          47.63593696458324,
          47.150144250071854,
          46.674748800463476,
          46.209522693351055,
          45.754241896496524,
          45.30868662540649,
          44.87264167302889,
          44.44589671195719,
          44.0282465695926,
          43.61949147677156,
          43.2194372904191,
          42.82789569083957,
          42.444684354300115,
          42.06962710160202,
          41.70255402337385,
          41.34330158285124,
          40.991712696936645,
          40.64763679635601,
          40.31092986575202,
          39.98145446456577,
          39.65907972957663,
          39.34368135997493,
          39.035141585850106,
          38.733349120979994,
          38.43819910080304,
          38.14959300645639,
          37.86743857575242,
          37.591649701958765,
          37.32214632123532,
          37.0588542895685,
          36.80170525002466,
          36.55063649113037,
          36.305590797163994,
          36.0665162911237,
          35.83336627111471,
          35.606099040872586,
          35.384677735116504,
          35.16907014039912,
          34.95924851209384,
          34.75518938813195,
          34.55687340007538,
          34.364285082082034,
          34.177412678292654,
          33.996247949140006,
          33.82078597705196,
          33.6510249719942,
          33.48696607726758,
          33.32861317595033,
          33.17597269834716,
          33.029053430781524,
          32.88786632604105,
          32.752424315762255,
          32.6227421250154,
          32.498836089328805,
          32.3807239743662,
          32.26842479845402,
          32.16195865813049,
          32.06134655687121,
          31.96661023712724,
          31.877772015793315,
          31.794854623207183,
          31.717881045766894,
          31.646874372236507,
          31.581857643797765,
          31.52285370789369,
          31.469885075895196,
          31.42297378461501,
          31.382141261680648,
          31.34740819476858,
          31.318794404695435,
          31.29631872235403,
          31.279998869472443,
          31.269851343172263,
          31.265891304294083,
          31.268132469453057,
          31.27658700678482,
          31.291265435336314,
          31.312176528053236,
          31.33932721831341,
          31.3727225099513,
          31.41236539071812,
          31.458256749118032,
          31.51039529456211,
          31.568777480775264,
          31.633397432396308,
          31.704246874704413,
          31.781315066407036,
          31.86458873542384,
          31.954052017597427,
          32.04968639826504,
          32.15147065662132,
          32.259380812802156,
          32.373390077621636,
          32.493468804890185,
          32.61958444624375,
          32.75170150841325,
          32.88978151286175,
          33.033782957719914,
          33.18366128194582,
          33.339368831639156,
          33.500854828437916,
          33.66806533992697,
          33.84094325198656,
          34.019428243013266,
          34.20345675994228,
          34.39296199600491,
          34.587873870154134,
          34.78811900809393,
          34.993620724850146,
          35.20429900882322,
          35.42007050726397,
          35.64084851312082,
          35.86654295320512,
          36.0970603776311,
          36.33230395048544,
          36.57217344169167,
          36.81656522003586,
          37.06537224732893,
          37.31848407368439,
          37.5757868339006,
          37.83716324493927,
          38.10249260450454,
          38.37165079073153,
          38.64451026300232,
          38.920940063919126,
          39.20080582246886,
          39.483969758428124,
          39.7702906880637,
          40.05962403119518,
          40.351821819698706,
          40.646732707537716,
          40.94420198242105,
          41.24407157919642,
          41.54618009510117,
          41.85036280700029,
          42.15645169075394,
          42.46427544286672,
          42.773659504581026,
          43.08442608858621,
          43.39639420852619,
          43.70937971149495,
          44.02319531371906,
          44.33765063963385,
          44.65255226456624,
          44.96770376124376,
          45.28290575035422,
          45.59795595538456,
          45.91264926197182,
          46.22677778199866,
          46.54013092266918,
          46.852495460799496,
          47.163655622555574,
          47.47339316886768,
          47.781487486747125,
          48.087715686724756,
          48.391852706622124,
          48.69367142185919,
          48.9929427624914,
          49.28943583715486,
          49.582918064089064,
          49.87315530938722,
          50.159912032609945,
          50.442951439879174,
          50.72203564455059,
          50.99692583553881,
          51.26738245335181,
          51.53316537386055,
          51.79403409981251,
          52.04974796006415,
          52.30006631648342,
          52.54474877844528,
          52.78355542481147,
          53.01624703325599,
          53.242585316768235,
          53.462333167131405,
          53.675254905142054,
          53.88111653730706,
          54.079686018715606,
          54.27073352175681,
          54.45403171031592,
          54.62935601905242,
          54.796484937330085,
          54.955200297335686,
          55.105287565894656,
          55.24653613946018,
          55.37873964172163,
          55.50169622325302,
          55.615208862593605,
          55.719085668125835,
          55.81314018009627,
          55.89719167209746,
          55.9710654513149,
          56.034593156818325,
          56.087613055166756,
          56.12997033257845,
          56.16151738290739,
          56.182114090659525,
          56.191628108274436,
          56.189935126894056,
          56.17691913984176,
          56.1524726980326,
          56.116497156543936,
          56.06890291158029,
          56.009609627079385,
          55.93854645021605,
          55.855652215079566,
          55.760875633817605,
          55.6541754745614,
          55.535520725472864,
          55.404890744279214,
          55.262275392693645,
          55.10767515514995,
          54.941101241314776,
          54.76257567188297,
          54.57213134719304,
          54.36981209824826,
          54.155672719771076,
          53.92977898496139,
          53.69220764168167,
          53.443046389835786,
          53.182393839761474,
          52.9103594515081,
          52.62706345492173,
          52.3326367505154,
          52.027220791152956,
          51.71096744463248,
          51.38403883730862,
          51.046607178944356,
          50.698854569042695,
          50.34097278495796,
          49.973163052140166,
          49.59563579691981,
          49.20861038229055,
          48.8123148271966,
          48.40698550988006,
          47.9928668558926,
          47.57021101141721,
          47.13927750259169,
          46.70033288156575,
          46.25365036005942,
          45.79950943123208,
          45.338195480700165,
          44.869999387573415,
          44.39521711640909,
          43.914149301007434,
          43.427100820993964,
          42.934380372152184,
          42.436300031488614,
          41.93317481802062,
          41.42532225029173,
          40.913061901620544,
          40.39671495409501,
          39.87660375232327,
          39.35305135794591,
          38.82638110591208,
          38.29691616350624,
          37.764979093104486,
          37.2308914196193,
          36.69497320357312,
          36.15754262072164,
          35.618915549117034,
          35.07940516448172,
          34.5393215447243,
          33.99897128440543,
          33.4586571199187,
          32.918677566121076,
          32.37932656510523,
          31.84089314776535,
          31.303661108767503,
          30.767908695491325,
          30.233908311462603,
          29.70192623475477,
          29.172222351785184,
          28.64504990688799,
          28.12065526799584,
          27.599277708713334,
          27.08114920701736,
          26.566494260769574,
          26.055529720179056,
          25.548464637302242,
          25.04550013262228,
          24.54682927870065,
          24.052637000847295,
          23.563099994713212,
          23.078386660660428,
          22.5986570547249,
          22.124062855944782,
          21.654747349787023,
          21.19084542736519,
          20.732483600107336,
          20.27978002949466,
          19.832844571461855,
          19.391778835015653,
          18.95667625460318,
          18.52762217573054,
          18.104693953310694,
          17.687961062195836,
          17.277485219329574,
          16.873320516936197,
          16.475513566148642,
          16.08410365046375,
          15.699122888401657,
          15.320596404738,
          14.94854250967043,
          14.582972885276762,
          14.223892778620037,
          13.871301200854571,
          13.525191131690663,
          13.185549728577628,
          12.852358539972297,
          12.52559372206579,
          12.205226258353466,
          11.891222181440641,
          11.583542796492777,
          11.282144905750416,
          10.986981033545563,
          10.697999651274225,
          10.415145401795666,
          10.13835932275024
         ],
         "yaxis": "y"
        },
        {
         "legendgroup": "profit_ratio",
         "marker": {
          "color": "rgb(31, 119, 180)",
          "symbol": "line-ns-open"
         },
         "mode": "markers",
         "name": "profit_ratio",
         "showlegend": false,
         "type": "scatter",
         "x": [
          0,
          0.00021353,
          0.010007,
          0.00035429,
          0,
          0,
          0.00463775,
          0.00765109,
          0.00847603,
          0.01192079,
          0.009993,
          0,
          0,
          0,
          0.00715455,
          0.00116271,
          0,
          0.00836098,
          0,
          0,
          0.009993,
          0.010007,
          0,
          0.0007174,
          0,
          0.00357594,
          0.00060171,
          0.00962602,
          0,
          0.00650204,
          0.00609049,
          0.01039323,
          0.00396855,
          0,
          0,
          0.00786962,
          0.00010196,
          0.00912956,
          0.00498964,
          0.00566151,
          0.010007,
          0.00878942,
          -0.00029504,
          0.00877082,
          0.010007,
          -0.00078137,
          0.00868222,
          0.00328942,
          0.00001794,
          0.00782218,
          0.00282728,
          0.009993,
          0,
          0.00302804,
          0.00005587,
          0.00287306,
          0.00006544,
          0,
          0.009993,
          0,
          0.00010066,
          0.00537792,
          0.00352764,
          0,
          0.00005267,
          0,
          0.00009973,
          0.0032339,
          -0.00009291,
          -0.00002293,
          0.00058748,
          0,
          0,
          0.009993,
          0.00236949,
          0.01001611,
          0,
          0.010007,
          0.00026686,
          0.00018308,
          0.009993,
          0.009993,
          0.00045176,
          0,
          0.00084525,
          0.00060684,
          0,
          -0.0000995,
          0,
          0,
          0.01097643,
          0.00179335,
          -0.00063224,
          0,
          0.00794652,
          0.00974974,
          0,
          0,
          0.00009453,
          0.00755395,
          0.0036852,
          0.00181605,
          0.00010018,
          0.0044409,
          0.00130205,
          0.00797224,
          0.00960271,
          0.0013947,
          0.00190014,
          0.00001824,
          0.007304,
          0.0027951,
          0.010007,
          0.01287464,
          0.00380377,
          0.00026781,
          0,
          0.00047823,
          0.00005243,
          0.00010011,
          0.00111551,
          0,
          0,
          0.00002517,
          0.00860523,
          0.00235439,
          0.00559778,
          0,
          0.009993,
          0,
          0,
          0.00255621,
          0.00011476,
          0,
          -0.00153983,
          0.00291898,
          0.00850932,
          0,
          0.00010043,
          -0.00009161,
          0,
          0.00008538,
          0.0000082,
          0,
          0.00486233,
          0.00646457,
          0,
          -0.00175314,
          0.00798209,
          0.009993,
          0,
          0.01057962,
          0,
          0.00269328,
          0.00053932
         ],
         "xaxis": "x",
         "y": [
          "profit_ratio",
          "profit_ratio",
          "profit_ratio",
          "profit_ratio",
          "profit_ratio",
          "profit_ratio",
          "profit_ratio",
          "profit_ratio",
          "profit_ratio",
          "profit_ratio",
          "profit_ratio",
          "profit_ratio",
          "profit_ratio",
          "profit_ratio",
          "profit_ratio",
          "profit_ratio",
          "profit_ratio",
          "profit_ratio",
          "profit_ratio",
          "profit_ratio",
          "profit_ratio",
          "profit_ratio",
          "profit_ratio",
          "profit_ratio",
          "profit_ratio",
          "profit_ratio",
          "profit_ratio",
          "profit_ratio",
          "profit_ratio",
          "profit_ratio",
          "profit_ratio",
          "profit_ratio",
          "profit_ratio",
          "profit_ratio",
          "profit_ratio",
          "profit_ratio",
          "profit_ratio",
          "profit_ratio",
          "profit_ratio",
          "profit_ratio",
          "profit_ratio",
          "profit_ratio",
          "profit_ratio",
          "profit_ratio",
          "profit_ratio",
          "profit_ratio",
          "profit_ratio",
          "profit_ratio",
          "profit_ratio",
          "profit_ratio",
          "profit_ratio",
          "profit_ratio",
          "profit_ratio",
          "profit_ratio",
          "profit_ratio",
          "profit_ratio",
          "profit_ratio",
          "profit_ratio",
          "profit_ratio",
          "profit_ratio",
          "profit_ratio",
          "profit_ratio",
          "profit_ratio",
          "profit_ratio",
          "profit_ratio",
          "profit_ratio",
          "profit_ratio",
          "profit_ratio",
          "profit_ratio",
          "profit_ratio",
          "profit_ratio",
          "profit_ratio",
          "profit_ratio",
          "profit_ratio",
          "profit_ratio",
          "profit_ratio",
          "profit_ratio",
          "profit_ratio",
          "profit_ratio",
          "profit_ratio",
          "profit_ratio",
          "profit_ratio",
          "profit_ratio",
          "profit_ratio",
          "profit_ratio",
          "profit_ratio",
          "profit_ratio",
          "profit_ratio",
          "profit_ratio",
          "profit_ratio",
          "profit_ratio",
          "profit_ratio",
          "profit_ratio",
          "profit_ratio",
          "profit_ratio",
          "profit_ratio",
          "profit_ratio",
          "profit_ratio",
          "profit_ratio",
          "profit_ratio",
          "profit_ratio",
          "profit_ratio",
          "profit_ratio",
          "profit_ratio",
          "profit_ratio",
          "profit_ratio",
          "profit_ratio",
          "profit_ratio",
          "profit_ratio",
          "profit_ratio",
          "profit_ratio",
          "profit_ratio",
          "profit_ratio",
          "profit_ratio",
          "profit_ratio",
          "profit_ratio",
          "profit_ratio",
          "profit_ratio",
          "profit_ratio",
          "profit_ratio",
          "profit_ratio",
          "profit_ratio",
          "profit_ratio",
          "profit_ratio",
          "profit_ratio",
          "profit_ratio",
          "profit_ratio",
          "profit_ratio",
          "profit_ratio",
          "profit_ratio",
          "profit_ratio",
          "profit_ratio",
          "profit_ratio",
          "profit_ratio",
          "profit_ratio",
          "profit_ratio",
          "profit_ratio",
          "profit_ratio",
          "profit_ratio",
          "profit_ratio",
          "profit_ratio",
          "profit_ratio",
          "profit_ratio",
          "profit_ratio",
          "profit_ratio",
          "profit_ratio",
          "profit_ratio",
          "profit_ratio",
          "profit_ratio",
          "profit_ratio",
          "profit_ratio",
          "profit_ratio",
          "profit_ratio",
          "profit_ratio",
          "profit_ratio"
         ],
         "yaxis": "y2"
        }
       ],
       "layout": {
        "barmode": "overlay",
        "hovermode": "closest",
        "legend": {
         "traceorder": "reversed"
        },
        "template": {
         "data": {
          "bar": [
           {
            "error_x": {
             "color": "#2a3f5f"
            },
            "error_y": {
             "color": "#2a3f5f"
            },
            "marker": {
             "line": {
              "color": "#E5ECF6",
              "width": 0.5
             },
             "pattern": {
              "fillmode": "overlay",
              "size": 10,
              "solidity": 0.2
             }
            },
            "type": "bar"
           }
          ],
          "barpolar": [
           {
            "marker": {
             "line": {
              "color": "#E5ECF6",
              "width": 0.5
             },
             "pattern": {
              "fillmode": "overlay",
              "size": 10,
              "solidity": 0.2
             }
            },
            "type": "barpolar"
           }
          ],
          "carpet": [
           {
            "aaxis": {
             "endlinecolor": "#2a3f5f",
             "gridcolor": "white",
             "linecolor": "white",
             "minorgridcolor": "white",
             "startlinecolor": "#2a3f5f"
            },
            "baxis": {
             "endlinecolor": "#2a3f5f",
             "gridcolor": "white",
             "linecolor": "white",
             "minorgridcolor": "white",
             "startlinecolor": "#2a3f5f"
            },
            "type": "carpet"
           }
          ],
          "choropleth": [
           {
            "colorbar": {
             "outlinewidth": 0,
             "ticks": ""
            },
            "type": "choropleth"
           }
          ],
          "contour": [
           {
            "colorbar": {
             "outlinewidth": 0,
             "ticks": ""
            },
            "colorscale": [
             [
              0,
              "#0d0887"
             ],
             [
              0.1111111111111111,
              "#46039f"
             ],
             [
              0.2222222222222222,
              "#7201a8"
             ],
             [
              0.3333333333333333,
              "#9c179e"
             ],
             [
              0.4444444444444444,
              "#bd3786"
             ],
             [
              0.5555555555555556,
              "#d8576b"
             ],
             [
              0.6666666666666666,
              "#ed7953"
             ],
             [
              0.7777777777777778,
              "#fb9f3a"
             ],
             [
              0.8888888888888888,
              "#fdca26"
             ],
             [
              1,
              "#f0f921"
             ]
            ],
            "type": "contour"
           }
          ],
          "contourcarpet": [
           {
            "colorbar": {
             "outlinewidth": 0,
             "ticks": ""
            },
            "type": "contourcarpet"
           }
          ],
          "heatmap": [
           {
            "colorbar": {
             "outlinewidth": 0,
             "ticks": ""
            },
            "colorscale": [
             [
              0,
              "#0d0887"
             ],
             [
              0.1111111111111111,
              "#46039f"
             ],
             [
              0.2222222222222222,
              "#7201a8"
             ],
             [
              0.3333333333333333,
              "#9c179e"
             ],
             [
              0.4444444444444444,
              "#bd3786"
             ],
             [
              0.5555555555555556,
              "#d8576b"
             ],
             [
              0.6666666666666666,
              "#ed7953"
             ],
             [
              0.7777777777777778,
              "#fb9f3a"
             ],
             [
              0.8888888888888888,
              "#fdca26"
             ],
             [
              1,
              "#f0f921"
             ]
            ],
            "type": "heatmap"
           }
          ],
          "heatmapgl": [
           {
            "colorbar": {
             "outlinewidth": 0,
             "ticks": ""
            },
            "colorscale": [
             [
              0,
              "#0d0887"
             ],
             [
              0.1111111111111111,
              "#46039f"
             ],
             [
              0.2222222222222222,
              "#7201a8"
             ],
             [
              0.3333333333333333,
              "#9c179e"
             ],
             [
              0.4444444444444444,
              "#bd3786"
             ],
             [
              0.5555555555555556,
              "#d8576b"
             ],
             [
              0.6666666666666666,
              "#ed7953"
             ],
             [
              0.7777777777777778,
              "#fb9f3a"
             ],
             [
              0.8888888888888888,
              "#fdca26"
             ],
             [
              1,
              "#f0f921"
             ]
            ],
            "type": "heatmapgl"
           }
          ],
          "histogram": [
           {
            "marker": {
             "pattern": {
              "fillmode": "overlay",
              "size": 10,
              "solidity": 0.2
             }
            },
            "type": "histogram"
           }
          ],
          "histogram2d": [
           {
            "colorbar": {
             "outlinewidth": 0,
             "ticks": ""
            },
            "colorscale": [
             [
              0,
              "#0d0887"
             ],
             [
              0.1111111111111111,
              "#46039f"
             ],
             [
              0.2222222222222222,
              "#7201a8"
             ],
             [
              0.3333333333333333,
              "#9c179e"
             ],
             [
              0.4444444444444444,
              "#bd3786"
             ],
             [
              0.5555555555555556,
              "#d8576b"
             ],
             [
              0.6666666666666666,
              "#ed7953"
             ],
             [
              0.7777777777777778,
              "#fb9f3a"
             ],
             [
              0.8888888888888888,
              "#fdca26"
             ],
             [
              1,
              "#f0f921"
             ]
            ],
            "type": "histogram2d"
           }
          ],
          "histogram2dcontour": [
           {
            "colorbar": {
             "outlinewidth": 0,
             "ticks": ""
            },
            "colorscale": [
             [
              0,
              "#0d0887"
             ],
             [
              0.1111111111111111,
              "#46039f"
             ],
             [
              0.2222222222222222,
              "#7201a8"
             ],
             [
              0.3333333333333333,
              "#9c179e"
             ],
             [
              0.4444444444444444,
              "#bd3786"
             ],
             [
              0.5555555555555556,
              "#d8576b"
             ],
             [
              0.6666666666666666,
              "#ed7953"
             ],
             [
              0.7777777777777778,
              "#fb9f3a"
             ],
             [
              0.8888888888888888,
              "#fdca26"
             ],
             [
              1,
              "#f0f921"
             ]
            ],
            "type": "histogram2dcontour"
           }
          ],
          "mesh3d": [
           {
            "colorbar": {
             "outlinewidth": 0,
             "ticks": ""
            },
            "type": "mesh3d"
           }
          ],
          "parcoords": [
           {
            "line": {
             "colorbar": {
              "outlinewidth": 0,
              "ticks": ""
             }
            },
            "type": "parcoords"
           }
          ],
          "pie": [
           {
            "automargin": true,
            "type": "pie"
           }
          ],
          "scatter": [
           {
            "fillpattern": {
             "fillmode": "overlay",
             "size": 10,
             "solidity": 0.2
            },
            "type": "scatter"
           }
          ],
          "scatter3d": [
           {
            "line": {
             "colorbar": {
              "outlinewidth": 0,
              "ticks": ""
             }
            },
            "marker": {
             "colorbar": {
              "outlinewidth": 0,
              "ticks": ""
             }
            },
            "type": "scatter3d"
           }
          ],
          "scattercarpet": [
           {
            "marker": {
             "colorbar": {
              "outlinewidth": 0,
              "ticks": ""
             }
            },
            "type": "scattercarpet"
           }
          ],
          "scattergeo": [
           {
            "marker": {
             "colorbar": {
              "outlinewidth": 0,
              "ticks": ""
             }
            },
            "type": "scattergeo"
           }
          ],
          "scattergl": [
           {
            "marker": {
             "colorbar": {
              "outlinewidth": 0,
              "ticks": ""
             }
            },
            "type": "scattergl"
           }
          ],
          "scattermapbox": [
           {
            "marker": {
             "colorbar": {
              "outlinewidth": 0,
              "ticks": ""
             }
            },
            "type": "scattermapbox"
           }
          ],
          "scatterpolar": [
           {
            "marker": {
             "colorbar": {
              "outlinewidth": 0,
              "ticks": ""
             }
            },
            "type": "scatterpolar"
           }
          ],
          "scatterpolargl": [
           {
            "marker": {
             "colorbar": {
              "outlinewidth": 0,
              "ticks": ""
             }
            },
            "type": "scatterpolargl"
           }
          ],
          "scatterternary": [
           {
            "marker": {
             "colorbar": {
              "outlinewidth": 0,
              "ticks": ""
             }
            },
            "type": "scatterternary"
           }
          ],
          "surface": [
           {
            "colorbar": {
             "outlinewidth": 0,
             "ticks": ""
            },
            "colorscale": [
             [
              0,
              "#0d0887"
             ],
             [
              0.1111111111111111,
              "#46039f"
             ],
             [
              0.2222222222222222,
              "#7201a8"
             ],
             [
              0.3333333333333333,
              "#9c179e"
             ],
             [
              0.4444444444444444,
              "#bd3786"
             ],
             [
              0.5555555555555556,
              "#d8576b"
             ],
             [
              0.6666666666666666,
              "#ed7953"
             ],
             [
              0.7777777777777778,
              "#fb9f3a"
             ],
             [
              0.8888888888888888,
              "#fdca26"
             ],
             [
              1,
              "#f0f921"
             ]
            ],
            "type": "surface"
           }
          ],
          "table": [
           {
            "cells": {
             "fill": {
              "color": "#EBF0F8"
             },
             "line": {
              "color": "white"
             }
            },
            "header": {
             "fill": {
              "color": "#C8D4E3"
             },
             "line": {
              "color": "white"
             }
            },
            "type": "table"
           }
          ]
         },
         "layout": {
          "annotationdefaults": {
           "arrowcolor": "#2a3f5f",
           "arrowhead": 0,
           "arrowwidth": 1
          },
          "autotypenumbers": "strict",
          "coloraxis": {
           "colorbar": {
            "outlinewidth": 0,
            "ticks": ""
           }
          },
          "colorscale": {
           "diverging": [
            [
             0,
             "#8e0152"
            ],
            [
             0.1,
             "#c51b7d"
            ],
            [
             0.2,
             "#de77ae"
            ],
            [
             0.3,
             "#f1b6da"
            ],
            [
             0.4,
             "#fde0ef"
            ],
            [
             0.5,
             "#f7f7f7"
            ],
            [
             0.6,
             "#e6f5d0"
            ],
            [
             0.7,
             "#b8e186"
            ],
            [
             0.8,
             "#7fbc41"
            ],
            [
             0.9,
             "#4d9221"
            ],
            [
             1,
             "#276419"
            ]
           ],
           "sequential": [
            [
             0,
             "#0d0887"
            ],
            [
             0.1111111111111111,
             "#46039f"
            ],
            [
             0.2222222222222222,
             "#7201a8"
            ],
            [
             0.3333333333333333,
             "#9c179e"
            ],
            [
             0.4444444444444444,
             "#bd3786"
            ],
            [
             0.5555555555555556,
             "#d8576b"
            ],
            [
             0.6666666666666666,
             "#ed7953"
            ],
            [
             0.7777777777777778,
             "#fb9f3a"
            ],
            [
             0.8888888888888888,
             "#fdca26"
            ],
            [
             1,
             "#f0f921"
            ]
           ],
           "sequentialminus": [
            [
             0,
             "#0d0887"
            ],
            [
             0.1111111111111111,
             "#46039f"
            ],
            [
             0.2222222222222222,
             "#7201a8"
            ],
            [
             0.3333333333333333,
             "#9c179e"
            ],
            [
             0.4444444444444444,
             "#bd3786"
            ],
            [
             0.5555555555555556,
             "#d8576b"
            ],
            [
             0.6666666666666666,
             "#ed7953"
            ],
            [
             0.7777777777777778,
             "#fb9f3a"
            ],
            [
             0.8888888888888888,
             "#fdca26"
            ],
            [
             1,
             "#f0f921"
            ]
           ]
          },
          "colorway": [
           "#636efa",
           "#EF553B",
           "#00cc96",
           "#ab63fa",
           "#FFA15A",
           "#19d3f3",
           "#FF6692",
           "#B6E880",
           "#FF97FF",
           "#FECB52"
          ],
          "font": {
           "color": "#2a3f5f"
          },
          "geo": {
           "bgcolor": "white",
           "lakecolor": "white",
           "landcolor": "#E5ECF6",
           "showlakes": true,
           "showland": true,
           "subunitcolor": "white"
          },
          "hoverlabel": {
           "align": "left"
          },
          "hovermode": "closest",
          "mapbox": {
           "style": "light"
          },
          "paper_bgcolor": "white",
          "plot_bgcolor": "#E5ECF6",
          "polar": {
           "angularaxis": {
            "gridcolor": "white",
            "linecolor": "white",
            "ticks": ""
           },
           "bgcolor": "#E5ECF6",
           "radialaxis": {
            "gridcolor": "white",
            "linecolor": "white",
            "ticks": ""
           }
          },
          "scene": {
           "xaxis": {
            "backgroundcolor": "#E5ECF6",
            "gridcolor": "white",
            "gridwidth": 2,
            "linecolor": "white",
            "showbackground": true,
            "ticks": "",
            "zerolinecolor": "white"
           },
           "yaxis": {
            "backgroundcolor": "#E5ECF6",
            "gridcolor": "white",
            "gridwidth": 2,
            "linecolor": "white",
            "showbackground": true,
            "ticks": "",
            "zerolinecolor": "white"
           },
           "zaxis": {
            "backgroundcolor": "#E5ECF6",
            "gridcolor": "white",
            "gridwidth": 2,
            "linecolor": "white",
            "showbackground": true,
            "ticks": "",
            "zerolinecolor": "white"
           }
          },
          "shapedefaults": {
           "line": {
            "color": "#2a3f5f"
           }
          },
          "ternary": {
           "aaxis": {
            "gridcolor": "white",
            "linecolor": "white",
            "ticks": ""
           },
           "baxis": {
            "gridcolor": "white",
            "linecolor": "white",
            "ticks": ""
           },
           "bgcolor": "#E5ECF6",
           "caxis": {
            "gridcolor": "white",
            "linecolor": "white",
            "ticks": ""
           }
          },
          "title": {
           "x": 0.05
          },
          "xaxis": {
           "automargin": true,
           "gridcolor": "white",
           "linecolor": "white",
           "ticks": "",
           "title": {
            "standoff": 15
           },
           "zerolinecolor": "white",
           "zerolinewidth": 2
          },
          "yaxis": {
           "automargin": true,
           "gridcolor": "white",
           "linecolor": "white",
           "ticks": "",
           "title": {
            "standoff": 15
           },
           "zerolinecolor": "white",
           "zerolinewidth": 2
          }
         }
        },
        "xaxis": {
         "anchor": "y2",
         "domain": [
          0,
          1
         ],
         "zeroline": false
        },
        "yaxis": {
         "anchor": "free",
         "domain": [
          0.35,
          1
         ],
         "position": 0
        },
        "yaxis2": {
         "anchor": "x",
         "domain": [
          0,
          0.25
         ],
         "dtick": 1,
         "showticklabels": false
        }
       }
      },
      "text/html": [
       "<div>                            <div id=\"51e3dcca-5cd4-4f38-b700-12ad6c930d39\" class=\"plotly-graph-div\" style=\"height:525px; width:100%;\"></div>            <script type=\"text/javascript\">                require([\"plotly\"], function(Plotly) {                    window.PLOTLYENV=window.PLOTLYENV || {};                                    if (document.getElementById(\"51e3dcca-5cd4-4f38-b700-12ad6c930d39\")) {                    Plotly.newPlot(                        \"51e3dcca-5cd4-4f38-b700-12ad6c930d39\",                        [{\"autobinx\":false,\"histnorm\":\"probability density\",\"legendgroup\":\"profit_ratio\",\"marker\":{\"color\":\"rgb(31, 119, 180)\"},\"name\":\"profit_ratio\",\"opacity\":0.7,\"x\":[0.0,0.00021353,0.010007,0.00035429,0.0,-0.0,0.00463775,0.00765109,0.00847603,0.01192079,0.009993,0.0,0.0,-0.0,0.00715455,0.00116271,-0.0,0.00836098,-0.0,0.0,0.009993,0.010007,-0.0,0.0007174,0.0,0.00357594,0.00060171,0.00962602,0.0,0.00650204,0.00609049,0.01039323,0.00396855,-0.0,0.0,0.00786962,0.00010196,0.00912956,0.00498964,0.00566151,0.010007,0.00878942,-0.00029504,0.00877082,0.010007,-0.00078137,0.00868222,0.00328942,0.00001794,0.00782218,0.00282728,0.009993,-0.0,0.00302804,0.00005587,0.00287306,0.00006544,0.0,0.009993,0.0,0.00010066,0.00537792,0.00352764,-0.0,0.00005267,-0.0,0.00009973,0.0032339,-0.00009291,-0.00002293,0.00058748,0.0,0.0,0.009993,0.00236949,0.01001611,0.0,0.010007,0.00026686,0.00018308,0.009993,0.009993,0.00045176,-0.0,0.00084525,0.00060684,0.0,-0.0000995,0.0,-0.0,0.01097643,0.00179335,-0.00063224,-0.0,0.00794652,0.00974974,0.0,0.0,0.00009453,0.00755395,0.0036852,0.00181605,0.00010018,0.0044409,0.00130205,0.00797224,0.00960271,0.0013947,0.00190014,0.00001824,0.007304,0.0027951,0.010007,0.01287464,0.00380377,0.00026781,-0.0,0.00047823,0.00005243,0.00010011,0.00111551,0.0,0.0,0.00002517,0.00860523,0.00235439,0.00559778,-0.0,0.009993,-0.0,0.0,0.00255621,0.00011476,0.0,-0.00153983,0.00291898,0.00850932,0.0,0.00010043,-0.00009161,-0.0,0.00008538,8.2e-6,-0.0,0.00486233,0.00646457,0.0,-0.00175314,0.00798209,0.009993,0.0,0.01057962,0.0,0.00269328,0.00053932],\"xaxis\":\"x\",\"xbins\":{\"end\":0.01287464,\"size\":0.0005,\"start\":-0.00175314},\"yaxis\":\"y\",\"type\":\"histogram\"},{\"legendgroup\":\"profit_ratio\",\"marker\":{\"color\":\"rgb(31, 119, 180)\"},\"mode\":\"lines\",\"name\":\"profit_ratio\",\"showlegend\":false,\"x\":[-0.00175314,-0.00172388444,-0.00169462888,-0.00166537332,-0.00163611776,-0.0016068622,-0.00157760664,-0.00154835108,-0.0015190955200000001,-0.00148983996,-0.0014605844,-0.00143132884,-0.00140207328,-0.00137281772,-0.0013435621600000002,-0.0013143066,-0.00128505104,-0.00125579548,-0.00122653992,-0.0011972843600000001,-0.0011680288,-0.00113877324,-0.00110951768,-0.00108026212,-0.00105100656,-0.001021751,-0.00099249544,-0.00096323988,-0.0009339843200000001,-0.00090472876,-0.0008754732,-0.00084621764,-0.0008169620800000001,-0.0007877065200000001,-0.00075845096,-0.0007291953999999999,-0.00069993984,-0.0006706842800000001,-0.00064142872,-0.0006121731600000002,-0.0005829175999999998,-0.00055366204,-0.0005244064800000001,-0.00049515092,-0.0004658953600000001,-0.0004366398000000002,-0.0004073842399999999,-0.00037812868000000003,-0.00034887312000000015,-0.00031961756000000005,-0.00029036200000000017,-0.00026110643999999986,-0.00023185087999999998,-0.0002025953200000001,-0.00017333976,-0.00014408420000000012,-0.00011482864000000024,-0.00008557307999999993,-0.000056317520000000046,-0.00002706195999999995,2.193599999999931e-6,0.00003144915999999981,0.000060704720000000125,0.00008996028,0.00011921583999999989,0.00014847139999999998,0.00017772695999999986,0.00020698251999999996,0.00023623808000000006,0.00026549364000000015,0.00029474920000000025,0.0003240047599999999,0.00035326032,0.0003825158799999997,0.00041177143999999977,0.0004410270000000003,0.00047028255999999997,0.0004995381200000001,0.0005287936799999997,0.0005580492399999998,0.0005873048000000004,0.00061656036,0.0006458159200000001,0.0006750714799999998,0.0007043270399999999,0.0007335825999999995,0.0007628381600000001,0.0007920937200000002,0.0008213492799999998,0.0008506048399999999,0.0008798603999999996,0.0009091159600000001,0.0009383715200000002,0.0009676270799999999,0.00099688264,0.0010261381999999996,0.0010553937599999997,0.0010846493200000003,0.00111390488,0.00114316044,0.0011724159999999997,0.0012016715599999998,0.0012309271200000003,0.00126018268,0.00128943824,0.0013186937999999997,0.0013479493599999998,0.0013772049200000004,0.00140646048,0.0014357160400000001,0.0014649715999999998,0.00149422716,0.0015234827199999996,0.00155273828,0.0015819938400000002,0.0016112493999999998,0.00164050496,0.0016697605199999996,0.0016990160800000001,0.0017282716400000002,0.0017575272,0.00178678276,0.0018160383199999997,0.0018452938799999998,0.0018745494400000003,0.001903805,0.00193306056,0.00196231612,0.00199157168,0.00202082724,0.0020500828000000002,0.0020793383600000003,0.0021085939199999995,0.0021378494799999996,0.0021671050399999997,0.0021963606,0.00222561616,0.002254871719999999,0.00228412728,0.0023133828400000002,0.0023426384000000003,0.0023718939599999996,0.0024011495199999996,0.0024304050799999997,0.00245966064,0.0024889162,0.002518171759999999,0.0025474273199999993,0.0025766828799999994,0.0026059384400000003,0.0026351940000000004,0.0026644495599999997,0.0026937051199999998,0.00272296068,0.00275221624,0.0027814718,0.0028107273599999993,0.0028399829199999994,0.0028692384799999995,0.0028984940399999996,0.0029277496000000005,0.0029570051599999998,0.00298626072,0.00301551628,0.00304477184,0.0030740273999999993,0.0031032829599999994,0.0031325385199999995,0.0031617940799999996,0.0031910496399999997,0.003220305199999999,0.00324956076,0.00327881632,0.00330807188,0.00333732744,0.0033665829999999994,0.0033958385599999995,0.0034250941199999996,0.0034543496799999997,0.0034836052399999998,0.003512860799999999,0.003542116359999999,0.00357137192,0.00360062748,0.0036298830400000003,0.0036591385999999995,0.0036883941599999996,0.0037176497199999997,0.0037469052799999998,0.00377616084,0.003805416399999999,0.003834671959999999,0.0038639275199999993,0.0038931830800000003,0.00392243864,0.0039516942,0.00398094976,0.00401020532,0.00403946088,0.00406871644,0.004097971999999999,0.004127227559999999,0.004156483119999999,0.00418573868,0.0042149942400000005,0.0042442498,0.00427350536,0.00430276092,0.00433201648,0.00436127204,0.004390527599999999,0.004419783159999999,0.0044490387199999995,0.00447829428,0.0045075498400000006,0.0045368054,0.00456606096,0.00459531652,0.00462457208,0.00465382764,0.004683083199999999,0.0047123387599999995,0.00474159432,0.00477084988,0.004800105439999999,0.004829360999999999,0.00485861656,0.00488787212,0.00491712768,0.004946383239999999,0.0049756387999999995,0.00500489436,0.00503414992,0.00506340548,0.005092661039999999,0.005121916599999999,0.00515117216,0.00518042772,0.00520968328,0.0052389388399999995,0.0052681944,0.00529744996,0.00532670552,0.00535596108,0.005385216639999999,0.005414472199999999,0.005443727759999999,0.00547298332,0.00550223888,0.00553149444,0.00556075,0.00559000556,0.00561926112,0.00564851668,0.005677772239999999,0.005707027799999999,0.0057362833599999994,0.0057655389199999995,0.0057947944800000005,0.00582405004,0.0058533056,0.00588256116,0.00591181672,0.00594107228,0.005970327839999999,0.0059995833999999994,0.0060288389599999995,0.00605809452,0.00608735008,0.00611660564,0.0061458612,0.00617511676,0.00620437232,0.00623362788,0.006262883439999999,0.006292139,0.0063213945600000005,0.006350650119999999,0.006379905680000001,0.006409161239999999,0.006438416800000001,0.006467672359999999,0.006496927919999999,0.0065261834799999995,0.0065554390399999996,0.0065846946,0.00661395016,0.00664320572,0.00667246128,0.00670171684,0.0067309724,0.00676022796,0.006789483519999999,0.00681873908,0.006847994639999999,0.006877250200000001,0.006906505759999999,0.006935761319999999,0.006965016880000001,0.006994272439999999,0.007023528000000001,0.0070527835599999995,0.0070820391199999996,0.00711129468,0.00714055024,0.0071698058,0.00719906136,0.007228316919999998,0.00725757248,0.00728682804,0.0073160836,0.0073453391600000004,0.007374594719999999,0.007403850280000001,0.007433105839999999,0.007462361400000001,0.007491616959999999,0.007520872519999999,0.007550128079999999,0.0075793836399999995,0.007608639200000001,0.00763789476,0.00766715032,0.00769640588,0.00772566144,0.007754916999999998,0.00778417256,0.007813428119999999,0.00784268368,0.007871939239999999,0.007901194799999999,0.00793045036,0.007959705919999999,0.00798896148,0.00801821704,0.0080474726,0.00807672816,0.00810598372,0.00813523928,0.00816449484,0.008193750399999998,0.00822300596,0.00825226152,0.00828151708,0.00831077264,0.008340028199999999,0.00836928376,0.008398539319999999,0.00842779488,0.008457050439999999,0.008486305999999999,0.008515561559999999,0.00854481712,0.008574072680000001,0.00860332824,0.0086325838,0.00866183936,0.00869109492,0.00872035048,0.00874960604,0.008778861599999998,0.00880811716,0.008837372719999998,0.00886662828,0.00889588384,0.008925139399999999,0.00895439496,0.008983650519999999,0.00901290608,0.009042161639999999,0.0090714172,0.00910067276,0.00912992832,0.009159183880000001,0.00918843944,0.009217695,0.00924695056,0.00927620612,0.00930546168,0.00933471724,0.009363972799999998,0.00939322836,0.009422483919999999,0.00945173948,0.009480995039999999,0.009510250599999999,0.00953950616,0.00956876172,0.009598017280000001,0.00962727284,0.0096565284,0.00968578396,0.00971503952,0.00974429508,0.00977355064,0.009802806199999998,0.00983206176,0.00986131732,0.00989057288,0.00991982844,0.009949083999999999,0.00997833956,0.010007595119999999,0.01003685068,0.010066106239999999,0.0100953618,0.010124617360000001,0.01015387292,0.010183128480000001,0.01021238404,0.0102416396,0.01027089516,0.01030015072,0.01032940628,0.01035866184,0.010387917399999998,0.01041717296,0.010446428519999999,0.01047568408,0.01050493964,0.010534195199999999,0.01056345076,0.010592706319999999,0.010621961880000001,0.01065121744,0.010680473,0.01070972856,0.01073898412,0.010768239680000001,0.01079749524,0.0108267508,0.01085600636,0.01088526192,0.01091451748,0.01094377304,0.010973028599999999,0.01100228416,0.011031539719999999,0.01106079528,0.01109005084,0.011119306399999999,0.011148561960000001,0.01117781752,0.011207073080000001,0.01123632864,0.0112655842,0.01129483976,0.01132409532,0.011353350879999998,0.01138260644,0.011411861999999998,0.01144111756,0.01147037312,0.011499628679999999,0.01152888424,0.011558139799999999,0.01158739536,0.011616650919999999,0.011645906479999999,0.01167516204,0.0117044176,0.011733673160000001,0.01176292872,0.01179218428,0.01182143984,0.0118506954,0.01187995096,0.01190920652,0.011938462079999998,0.01196771764,0.011996973199999999,0.01202622876,0.01205548432,0.012084739879999999,0.01211399544,0.012143250999999999,0.01217250656,0.01220176212,0.01223101768,0.01226027324,0.0122895288,0.01231878436,0.01234803992,0.012377295479999998,0.01240655104,0.0124358066,0.01246506216,0.01249431772,0.012523573279999999,0.01255282884,0.012582084399999999,0.01261133996,0.012640595519999999,0.012669851079999999,0.01269910664,0.0127283622,0.012757617760000001,0.01278687332,0.01281612888,0.01284538444],\"xaxis\":\"x\",\"y\":[69.70018360558795,71.31618829129472,72.94415038357556,74.58317588472136,76.23233892491231,77.89068245611453,79.55721902168776,81.23093160164129,82.9107745332713,84.59567450669498,86.28453163458774,87.97622059520604,89.66959184756254,91.36347291739783,93.0566697523705,94.7479681446693,96.43613521902711,98.1199209839032,99.79805994338041,101.46927276711689,103.13226801548042,104.78574391679645,106.42839019343859,108.05888993330984,109.67592150306979,111.27816049930341,112.86428173365151,114.43296124777339,115.9828783538709,117.51271769636725,119.02117133021116,120.50694081117796,121.96873929343046,123.40529362953413,124.81534646804613,126.19765834374047,127.55100975550783,128.87420322692572,130.16606534450216,131.42544876859543,132.65123421203901,133.84233238153496,134.99768587694268,136.1162710436472,137.19709977329313,138.2392212482557,139.24172362535177,140.20373565441545,141.1244282275124,142.00301585473304,142.8387580626696,143.6309607118786,144.37897722982797,145.08220975603732,145.7401101963521,146.35218118351668,146.9179769414686,147.4371040510152,147.90922211483283,148.3340443199822,148.71133789642124,149.04092447027233,149.32268031088896,149.55653647105348,149.74247881993375,149.88054796872052,149.97083908915138,150.0135016254381,150.0087389003878,149.95680761681268,149.85801725559838,149.7127293720884,149.52135679271456,149.28436271407554,149.0022597069225,148.67560862776963,148.30501744108696,147.89113995527094,147.43467447580608,146.93636237925105,146.39698661187225,145.81737011694213,145.19837419488846,144.54089680064328,143.84587078267947,143.1142620683599,142.34706780033056,141.54531442879468,140.7100557645845,139.8423709980143,138.94336268855048,138.01415473036982,137.05589029889313,136.06972978338658,135.05684871071034,134.01843566526225,132.9556902101219,131.86982081434138,130.7620427912539,129.63357625258178,128.4856440830239,127.3194699398885,126.13627628220368,124.93728243360277,123.72370268312454,122.49674442790618,121.25760636157767,120.00747671197514,118.74753153160545,117.4789330440946,116.2028280496408,114.92034639228771,113.63259949160886,112.34067894117513,111.04565517595039,109.74857621052918,108.450466449902,107.15232557420094,105.85512749864058,104.55981940964618,103.26732087792112,101.9785230489832,100.69428791146787,99.41544764327956,98.1428040354492,96.87712799334415,95.61915911467082,94.36960534350634,93.1291426993989,91.89841508039659,90.67803413867327,89.46857922725798,88.27059741620579,87.08460357639837,85.91108052901153,84.75047925855885,83.60321918729095,82.46968850861585,81.35024457710135,80.24521435252595,79.15489489535959,78.07955391098245,77.01943033988692,75.97473499105416,74.9456512156559,73.93233561819518,72.9349188021837,71.95350614743407,70.98817861604746,70.03899358418066,69.10598569669017,68.18916774178105,67.28853154281154,66.40404886445387,65.53567233045322,64.68333635028422,63.846958052068715,63.0264382191811,62.22166222805017,61.432500984738326,60.65881185796862,59.900439606360514,59.157217297724095,58.42896721836631,57.715501770457664,57.0166243556157,56.3321302429636,55.66180742003361,55.005437424989665,54.362796158757845,53.73365467575932,53.117779952055315,52.51493562982016,51.92488273717084,51.34738038248793,50.78218642247254,50.22905810328547,49.68775267422377,49.15802797348512,48.639642985674065,48.13235837079658,47.63593696458324,47.150144250071854,46.674748800463476,46.209522693351055,45.754241896496524,45.30868662540649,44.87264167302889,44.44589671195719,44.0282465695926,43.61949147677156,43.2194372904191,42.82789569083957,42.444684354300115,42.06962710160202,41.70255402337385,41.34330158285124,40.991712696936645,40.64763679635601,40.31092986575202,39.98145446456577,39.65907972957663,39.34368135997493,39.035141585850106,38.733349120979994,38.43819910080304,38.14959300645639,37.86743857575242,37.591649701958765,37.32214632123532,37.0588542895685,36.80170525002466,36.55063649113037,36.305590797163994,36.0665162911237,35.83336627111471,35.606099040872586,35.384677735116504,35.16907014039912,34.95924851209384,34.75518938813195,34.55687340007538,34.364285082082034,34.177412678292654,33.996247949140006,33.82078597705196,33.6510249719942,33.48696607726758,33.32861317595033,33.17597269834716,33.029053430781524,32.88786632604105,32.752424315762255,32.6227421250154,32.498836089328805,32.3807239743662,32.26842479845402,32.16195865813049,32.06134655687121,31.96661023712724,31.877772015793315,31.794854623207183,31.717881045766894,31.646874372236507,31.581857643797765,31.52285370789369,31.469885075895196,31.42297378461501,31.382141261680648,31.34740819476858,31.318794404695435,31.29631872235403,31.279998869472443,31.269851343172263,31.265891304294083,31.268132469453057,31.27658700678482,31.291265435336314,31.312176528053236,31.33932721831341,31.3727225099513,31.41236539071812,31.458256749118032,31.51039529456211,31.568777480775264,31.633397432396308,31.704246874704413,31.781315066407036,31.86458873542384,31.954052017597427,32.04968639826504,32.15147065662132,32.259380812802156,32.373390077621636,32.493468804890185,32.61958444624375,32.75170150841325,32.88978151286175,33.033782957719914,33.18366128194582,33.339368831639156,33.500854828437916,33.66806533992697,33.84094325198656,34.019428243013266,34.20345675994228,34.39296199600491,34.587873870154134,34.78811900809393,34.993620724850146,35.20429900882322,35.42007050726397,35.64084851312082,35.86654295320512,36.0970603776311,36.33230395048544,36.57217344169167,36.81656522003586,37.06537224732893,37.31848407368439,37.5757868339006,37.83716324493927,38.10249260450454,38.37165079073153,38.64451026300232,38.920940063919126,39.20080582246886,39.483969758428124,39.7702906880637,40.05962403119518,40.351821819698706,40.646732707537716,40.94420198242105,41.24407157919642,41.54618009510117,41.85036280700029,42.15645169075394,42.46427544286672,42.773659504581026,43.08442608858621,43.39639420852619,43.70937971149495,44.02319531371906,44.33765063963385,44.65255226456624,44.96770376124376,45.28290575035422,45.59795595538456,45.91264926197182,46.22677778199866,46.54013092266918,46.852495460799496,47.163655622555574,47.47339316886768,47.781487486747125,48.087715686724756,48.391852706622124,48.69367142185919,48.9929427624914,49.28943583715486,49.582918064089064,49.87315530938722,50.159912032609945,50.442951439879174,50.72203564455059,50.99692583553881,51.26738245335181,51.53316537386055,51.79403409981251,52.04974796006415,52.30006631648342,52.54474877844528,52.78355542481147,53.01624703325599,53.242585316768235,53.462333167131405,53.675254905142054,53.88111653730706,54.079686018715606,54.27073352175681,54.45403171031592,54.62935601905242,54.796484937330085,54.955200297335686,55.105287565894656,55.24653613946018,55.37873964172163,55.50169622325302,55.615208862593605,55.719085668125835,55.81314018009627,55.89719167209746,55.9710654513149,56.034593156818325,56.087613055166756,56.12997033257845,56.16151738290739,56.182114090659525,56.191628108274436,56.189935126894056,56.17691913984176,56.1524726980326,56.116497156543936,56.06890291158029,56.009609627079385,55.93854645021605,55.855652215079566,55.760875633817605,55.6541754745614,55.535520725472864,55.404890744279214,55.262275392693645,55.10767515514995,54.941101241314776,54.76257567188297,54.57213134719304,54.36981209824826,54.155672719771076,53.92977898496139,53.69220764168167,53.443046389835786,53.182393839761474,52.9103594515081,52.62706345492173,52.3326367505154,52.027220791152956,51.71096744463248,51.38403883730862,51.046607178944356,50.698854569042695,50.34097278495796,49.973163052140166,49.59563579691981,49.20861038229055,48.8123148271966,48.40698550988006,47.9928668558926,47.57021101141721,47.13927750259169,46.70033288156575,46.25365036005942,45.79950943123208,45.338195480700165,44.869999387573415,44.39521711640909,43.914149301007434,43.427100820993964,42.934380372152184,42.436300031488614,41.93317481802062,41.42532225029173,40.913061901620544,40.39671495409501,39.87660375232327,39.35305135794591,38.82638110591208,38.29691616350624,37.764979093104486,37.2308914196193,36.69497320357312,36.15754262072164,35.618915549117034,35.07940516448172,34.5393215447243,33.99897128440543,33.4586571199187,32.918677566121076,32.37932656510523,31.84089314776535,31.303661108767503,30.767908695491325,30.233908311462603,29.70192623475477,29.172222351785184,28.64504990688799,28.12065526799584,27.599277708713334,27.08114920701736,26.566494260769574,26.055529720179056,25.548464637302242,25.04550013262228,24.54682927870065,24.052637000847295,23.563099994713212,23.078386660660428,22.5986570547249,22.124062855944782,21.654747349787023,21.19084542736519,20.732483600107336,20.27978002949466,19.832844571461855,19.391778835015653,18.95667625460318,18.52762217573054,18.104693953310694,17.687961062195836,17.277485219329574,16.873320516936197,16.475513566148642,16.08410365046375,15.699122888401657,15.320596404738,14.94854250967043,14.582972885276762,14.223892778620037,13.871301200854571,13.525191131690663,13.185549728577628,12.852358539972297,12.52559372206579,12.205226258353466,11.891222181440641,11.583542796492777,11.282144905750416,10.986981033545563,10.697999651274225,10.415145401795666,10.13835932275024],\"yaxis\":\"y\",\"type\":\"scatter\"},{\"legendgroup\":\"profit_ratio\",\"marker\":{\"color\":\"rgb(31, 119, 180)\",\"symbol\":\"line-ns-open\"},\"mode\":\"markers\",\"name\":\"profit_ratio\",\"showlegend\":false,\"x\":[0.0,0.00021353,0.010007,0.00035429,0.0,-0.0,0.00463775,0.00765109,0.00847603,0.01192079,0.009993,0.0,0.0,-0.0,0.00715455,0.00116271,-0.0,0.00836098,-0.0,0.0,0.009993,0.010007,-0.0,0.0007174,0.0,0.00357594,0.00060171,0.00962602,0.0,0.00650204,0.00609049,0.01039323,0.00396855,-0.0,0.0,0.00786962,0.00010196,0.00912956,0.00498964,0.00566151,0.010007,0.00878942,-0.00029504,0.00877082,0.010007,-0.00078137,0.00868222,0.00328942,0.00001794,0.00782218,0.00282728,0.009993,-0.0,0.00302804,0.00005587,0.00287306,0.00006544,0.0,0.009993,0.0,0.00010066,0.00537792,0.00352764,-0.0,0.00005267,-0.0,0.00009973,0.0032339,-0.00009291,-0.00002293,0.00058748,0.0,0.0,0.009993,0.00236949,0.01001611,0.0,0.010007,0.00026686,0.00018308,0.009993,0.009993,0.00045176,-0.0,0.00084525,0.00060684,0.0,-0.0000995,0.0,-0.0,0.01097643,0.00179335,-0.00063224,-0.0,0.00794652,0.00974974,0.0,0.0,0.00009453,0.00755395,0.0036852,0.00181605,0.00010018,0.0044409,0.00130205,0.00797224,0.00960271,0.0013947,0.00190014,0.00001824,0.007304,0.0027951,0.010007,0.01287464,0.00380377,0.00026781,-0.0,0.00047823,0.00005243,0.00010011,0.00111551,0.0,0.0,0.00002517,0.00860523,0.00235439,0.00559778,-0.0,0.009993,-0.0,0.0,0.00255621,0.00011476,0.0,-0.00153983,0.00291898,0.00850932,0.0,0.00010043,-0.00009161,-0.0,0.00008538,8.2e-6,-0.0,0.00486233,0.00646457,0.0,-0.00175314,0.00798209,0.009993,0.0,0.01057962,0.0,0.00269328,0.00053932],\"xaxis\":\"x\",\"y\":[\"profit_ratio\",\"profit_ratio\",\"profit_ratio\",\"profit_ratio\",\"profit_ratio\",\"profit_ratio\",\"profit_ratio\",\"profit_ratio\",\"profit_ratio\",\"profit_ratio\",\"profit_ratio\",\"profit_ratio\",\"profit_ratio\",\"profit_ratio\",\"profit_ratio\",\"profit_ratio\",\"profit_ratio\",\"profit_ratio\",\"profit_ratio\",\"profit_ratio\",\"profit_ratio\",\"profit_ratio\",\"profit_ratio\",\"profit_ratio\",\"profit_ratio\",\"profit_ratio\",\"profit_ratio\",\"profit_ratio\",\"profit_ratio\",\"profit_ratio\",\"profit_ratio\",\"profit_ratio\",\"profit_ratio\",\"profit_ratio\",\"profit_ratio\",\"profit_ratio\",\"profit_ratio\",\"profit_ratio\",\"profit_ratio\",\"profit_ratio\",\"profit_ratio\",\"profit_ratio\",\"profit_ratio\",\"profit_ratio\",\"profit_ratio\",\"profit_ratio\",\"profit_ratio\",\"profit_ratio\",\"profit_ratio\",\"profit_ratio\",\"profit_ratio\",\"profit_ratio\",\"profit_ratio\",\"profit_ratio\",\"profit_ratio\",\"profit_ratio\",\"profit_ratio\",\"profit_ratio\",\"profit_ratio\",\"profit_ratio\",\"profit_ratio\",\"profit_ratio\",\"profit_ratio\",\"profit_ratio\",\"profit_ratio\",\"profit_ratio\",\"profit_ratio\",\"profit_ratio\",\"profit_ratio\",\"profit_ratio\",\"profit_ratio\",\"profit_ratio\",\"profit_ratio\",\"profit_ratio\",\"profit_ratio\",\"profit_ratio\",\"profit_ratio\",\"profit_ratio\",\"profit_ratio\",\"profit_ratio\",\"profit_ratio\",\"profit_ratio\",\"profit_ratio\",\"profit_ratio\",\"profit_ratio\",\"profit_ratio\",\"profit_ratio\",\"profit_ratio\",\"profit_ratio\",\"profit_ratio\",\"profit_ratio\",\"profit_ratio\",\"profit_ratio\",\"profit_ratio\",\"profit_ratio\",\"profit_ratio\",\"profit_ratio\",\"profit_ratio\",\"profit_ratio\",\"profit_ratio\",\"profit_ratio\",\"profit_ratio\",\"profit_ratio\",\"profit_ratio\",\"profit_ratio\",\"profit_ratio\",\"profit_ratio\",\"profit_ratio\",\"profit_ratio\",\"profit_ratio\",\"profit_ratio\",\"profit_ratio\",\"profit_ratio\",\"profit_ratio\",\"profit_ratio\",\"profit_ratio\",\"profit_ratio\",\"profit_ratio\",\"profit_ratio\",\"profit_ratio\",\"profit_ratio\",\"profit_ratio\",\"profit_ratio\",\"profit_ratio\",\"profit_ratio\",\"profit_ratio\",\"profit_ratio\",\"profit_ratio\",\"profit_ratio\",\"profit_ratio\",\"profit_ratio\",\"profit_ratio\",\"profit_ratio\",\"profit_ratio\",\"profit_ratio\",\"profit_ratio\",\"profit_ratio\",\"profit_ratio\",\"profit_ratio\",\"profit_ratio\",\"profit_ratio\",\"profit_ratio\",\"profit_ratio\",\"profit_ratio\",\"profit_ratio\",\"profit_ratio\",\"profit_ratio\",\"profit_ratio\",\"profit_ratio\",\"profit_ratio\",\"profit_ratio\",\"profit_ratio\",\"profit_ratio\",\"profit_ratio\",\"profit_ratio\"],\"yaxis\":\"y2\",\"type\":\"scatter\"}],                        {\"barmode\":\"overlay\",\"hovermode\":\"closest\",\"legend\":{\"traceorder\":\"reversed\"},\"xaxis\":{\"anchor\":\"y2\",\"domain\":[0.0,1.0],\"zeroline\":false},\"yaxis\":{\"anchor\":\"free\",\"domain\":[0.35,1],\"position\":0.0},\"yaxis2\":{\"anchor\":\"x\",\"domain\":[0,0.25],\"dtick\":1,\"showticklabels\":false},\"template\":{\"data\":{\"histogram2dcontour\":[{\"type\":\"histogram2dcontour\",\"colorbar\":{\"outlinewidth\":0,\"ticks\":\"\"},\"colorscale\":[[0.0,\"#0d0887\"],[0.1111111111111111,\"#46039f\"],[0.2222222222222222,\"#7201a8\"],[0.3333333333333333,\"#9c179e\"],[0.4444444444444444,\"#bd3786\"],[0.5555555555555556,\"#d8576b\"],[0.6666666666666666,\"#ed7953\"],[0.7777777777777778,\"#fb9f3a\"],[0.8888888888888888,\"#fdca26\"],[1.0,\"#f0f921\"]]}],\"choropleth\":[{\"type\":\"choropleth\",\"colorbar\":{\"outlinewidth\":0,\"ticks\":\"\"}}],\"histogram2d\":[{\"type\":\"histogram2d\",\"colorbar\":{\"outlinewidth\":0,\"ticks\":\"\"},\"colorscale\":[[0.0,\"#0d0887\"],[0.1111111111111111,\"#46039f\"],[0.2222222222222222,\"#7201a8\"],[0.3333333333333333,\"#9c179e\"],[0.4444444444444444,\"#bd3786\"],[0.5555555555555556,\"#d8576b\"],[0.6666666666666666,\"#ed7953\"],[0.7777777777777778,\"#fb9f3a\"],[0.8888888888888888,\"#fdca26\"],[1.0,\"#f0f921\"]]}],\"heatmap\":[{\"type\":\"heatmap\",\"colorbar\":{\"outlinewidth\":0,\"ticks\":\"\"},\"colorscale\":[[0.0,\"#0d0887\"],[0.1111111111111111,\"#46039f\"],[0.2222222222222222,\"#7201a8\"],[0.3333333333333333,\"#9c179e\"],[0.4444444444444444,\"#bd3786\"],[0.5555555555555556,\"#d8576b\"],[0.6666666666666666,\"#ed7953\"],[0.7777777777777778,\"#fb9f3a\"],[0.8888888888888888,\"#fdca26\"],[1.0,\"#f0f921\"]]}],\"heatmapgl\":[{\"type\":\"heatmapgl\",\"colorbar\":{\"outlinewidth\":0,\"ticks\":\"\"},\"colorscale\":[[0.0,\"#0d0887\"],[0.1111111111111111,\"#46039f\"],[0.2222222222222222,\"#7201a8\"],[0.3333333333333333,\"#9c179e\"],[0.4444444444444444,\"#bd3786\"],[0.5555555555555556,\"#d8576b\"],[0.6666666666666666,\"#ed7953\"],[0.7777777777777778,\"#fb9f3a\"],[0.8888888888888888,\"#fdca26\"],[1.0,\"#f0f921\"]]}],\"contourcarpet\":[{\"type\":\"contourcarpet\",\"colorbar\":{\"outlinewidth\":0,\"ticks\":\"\"}}],\"contour\":[{\"type\":\"contour\",\"colorbar\":{\"outlinewidth\":0,\"ticks\":\"\"},\"colorscale\":[[0.0,\"#0d0887\"],[0.1111111111111111,\"#46039f\"],[0.2222222222222222,\"#7201a8\"],[0.3333333333333333,\"#9c179e\"],[0.4444444444444444,\"#bd3786\"],[0.5555555555555556,\"#d8576b\"],[0.6666666666666666,\"#ed7953\"],[0.7777777777777778,\"#fb9f3a\"],[0.8888888888888888,\"#fdca26\"],[1.0,\"#f0f921\"]]}],\"surface\":[{\"type\":\"surface\",\"colorbar\":{\"outlinewidth\":0,\"ticks\":\"\"},\"colorscale\":[[0.0,\"#0d0887\"],[0.1111111111111111,\"#46039f\"],[0.2222222222222222,\"#7201a8\"],[0.3333333333333333,\"#9c179e\"],[0.4444444444444444,\"#bd3786\"],[0.5555555555555556,\"#d8576b\"],[0.6666666666666666,\"#ed7953\"],[0.7777777777777778,\"#fb9f3a\"],[0.8888888888888888,\"#fdca26\"],[1.0,\"#f0f921\"]]}],\"mesh3d\":[{\"type\":\"mesh3d\",\"colorbar\":{\"outlinewidth\":0,\"ticks\":\"\"}}],\"scatter\":[{\"fillpattern\":{\"fillmode\":\"overlay\",\"size\":10,\"solidity\":0.2},\"type\":\"scatter\"}],\"parcoords\":[{\"type\":\"parcoords\",\"line\":{\"colorbar\":{\"outlinewidth\":0,\"ticks\":\"\"}}}],\"scatterpolargl\":[{\"type\":\"scatterpolargl\",\"marker\":{\"colorbar\":{\"outlinewidth\":0,\"ticks\":\"\"}}}],\"bar\":[{\"error_x\":{\"color\":\"#2a3f5f\"},\"error_y\":{\"color\":\"#2a3f5f\"},\"marker\":{\"line\":{\"color\":\"#E5ECF6\",\"width\":0.5},\"pattern\":{\"fillmode\":\"overlay\",\"size\":10,\"solidity\":0.2}},\"type\":\"bar\"}],\"scattergeo\":[{\"type\":\"scattergeo\",\"marker\":{\"colorbar\":{\"outlinewidth\":0,\"ticks\":\"\"}}}],\"scatterpolar\":[{\"type\":\"scatterpolar\",\"marker\":{\"colorbar\":{\"outlinewidth\":0,\"ticks\":\"\"}}}],\"histogram\":[{\"marker\":{\"pattern\":{\"fillmode\":\"overlay\",\"size\":10,\"solidity\":0.2}},\"type\":\"histogram\"}],\"scattergl\":[{\"type\":\"scattergl\",\"marker\":{\"colorbar\":{\"outlinewidth\":0,\"ticks\":\"\"}}}],\"scatter3d\":[{\"type\":\"scatter3d\",\"line\":{\"colorbar\":{\"outlinewidth\":0,\"ticks\":\"\"}},\"marker\":{\"colorbar\":{\"outlinewidth\":0,\"ticks\":\"\"}}}],\"scattermapbox\":[{\"type\":\"scattermapbox\",\"marker\":{\"colorbar\":{\"outlinewidth\":0,\"ticks\":\"\"}}}],\"scatterternary\":[{\"type\":\"scatterternary\",\"marker\":{\"colorbar\":{\"outlinewidth\":0,\"ticks\":\"\"}}}],\"scattercarpet\":[{\"type\":\"scattercarpet\",\"marker\":{\"colorbar\":{\"outlinewidth\":0,\"ticks\":\"\"}}}],\"carpet\":[{\"aaxis\":{\"endlinecolor\":\"#2a3f5f\",\"gridcolor\":\"white\",\"linecolor\":\"white\",\"minorgridcolor\":\"white\",\"startlinecolor\":\"#2a3f5f\"},\"baxis\":{\"endlinecolor\":\"#2a3f5f\",\"gridcolor\":\"white\",\"linecolor\":\"white\",\"minorgridcolor\":\"white\",\"startlinecolor\":\"#2a3f5f\"},\"type\":\"carpet\"}],\"table\":[{\"cells\":{\"fill\":{\"color\":\"#EBF0F8\"},\"line\":{\"color\":\"white\"}},\"header\":{\"fill\":{\"color\":\"#C8D4E3\"},\"line\":{\"color\":\"white\"}},\"type\":\"table\"}],\"barpolar\":[{\"marker\":{\"line\":{\"color\":\"#E5ECF6\",\"width\":0.5},\"pattern\":{\"fillmode\":\"overlay\",\"size\":10,\"solidity\":0.2}},\"type\":\"barpolar\"}],\"pie\":[{\"automargin\":true,\"type\":\"pie\"}]},\"layout\":{\"autotypenumbers\":\"strict\",\"colorway\":[\"#636efa\",\"#EF553B\",\"#00cc96\",\"#ab63fa\",\"#FFA15A\",\"#19d3f3\",\"#FF6692\",\"#B6E880\",\"#FF97FF\",\"#FECB52\"],\"font\":{\"color\":\"#2a3f5f\"},\"hovermode\":\"closest\",\"hoverlabel\":{\"align\":\"left\"},\"paper_bgcolor\":\"white\",\"plot_bgcolor\":\"#E5ECF6\",\"polar\":{\"bgcolor\":\"#E5ECF6\",\"angularaxis\":{\"gridcolor\":\"white\",\"linecolor\":\"white\",\"ticks\":\"\"},\"radialaxis\":{\"gridcolor\":\"white\",\"linecolor\":\"white\",\"ticks\":\"\"}},\"ternary\":{\"bgcolor\":\"#E5ECF6\",\"aaxis\":{\"gridcolor\":\"white\",\"linecolor\":\"white\",\"ticks\":\"\"},\"baxis\":{\"gridcolor\":\"white\",\"linecolor\":\"white\",\"ticks\":\"\"},\"caxis\":{\"gridcolor\":\"white\",\"linecolor\":\"white\",\"ticks\":\"\"}},\"coloraxis\":{\"colorbar\":{\"outlinewidth\":0,\"ticks\":\"\"}},\"colorscale\":{\"sequential\":[[0.0,\"#0d0887\"],[0.1111111111111111,\"#46039f\"],[0.2222222222222222,\"#7201a8\"],[0.3333333333333333,\"#9c179e\"],[0.4444444444444444,\"#bd3786\"],[0.5555555555555556,\"#d8576b\"],[0.6666666666666666,\"#ed7953\"],[0.7777777777777778,\"#fb9f3a\"],[0.8888888888888888,\"#fdca26\"],[1.0,\"#f0f921\"]],\"sequentialminus\":[[0.0,\"#0d0887\"],[0.1111111111111111,\"#46039f\"],[0.2222222222222222,\"#7201a8\"],[0.3333333333333333,\"#9c179e\"],[0.4444444444444444,\"#bd3786\"],[0.5555555555555556,\"#d8576b\"],[0.6666666666666666,\"#ed7953\"],[0.7777777777777778,\"#fb9f3a\"],[0.8888888888888888,\"#fdca26\"],[1.0,\"#f0f921\"]],\"diverging\":[[0,\"#8e0152\"],[0.1,\"#c51b7d\"],[0.2,\"#de77ae\"],[0.3,\"#f1b6da\"],[0.4,\"#fde0ef\"],[0.5,\"#f7f7f7\"],[0.6,\"#e6f5d0\"],[0.7,\"#b8e186\"],[0.8,\"#7fbc41\"],[0.9,\"#4d9221\"],[1,\"#276419\"]]},\"xaxis\":{\"gridcolor\":\"white\",\"linecolor\":\"white\",\"ticks\":\"\",\"title\":{\"standoff\":15},\"zerolinecolor\":\"white\",\"automargin\":true,\"zerolinewidth\":2},\"yaxis\":{\"gridcolor\":\"white\",\"linecolor\":\"white\",\"ticks\":\"\",\"title\":{\"standoff\":15},\"zerolinecolor\":\"white\",\"automargin\":true,\"zerolinewidth\":2},\"scene\":{\"xaxis\":{\"backgroundcolor\":\"#E5ECF6\",\"gridcolor\":\"white\",\"linecolor\":\"white\",\"showbackground\":true,\"ticks\":\"\",\"zerolinecolor\":\"white\",\"gridwidth\":2},\"yaxis\":{\"backgroundcolor\":\"#E5ECF6\",\"gridcolor\":\"white\",\"linecolor\":\"white\",\"showbackground\":true,\"ticks\":\"\",\"zerolinecolor\":\"white\",\"gridwidth\":2},\"zaxis\":{\"backgroundcolor\":\"#E5ECF6\",\"gridcolor\":\"white\",\"linecolor\":\"white\",\"showbackground\":true,\"ticks\":\"\",\"zerolinecolor\":\"white\",\"gridwidth\":2}},\"shapedefaults\":{\"line\":{\"color\":\"#2a3f5f\"}},\"annotationdefaults\":{\"arrowcolor\":\"#2a3f5f\",\"arrowhead\":0,\"arrowwidth\":1},\"geo\":{\"bgcolor\":\"white\",\"landcolor\":\"#E5ECF6\",\"subunitcolor\":\"white\",\"showland\":true,\"showlakes\":true,\"lakecolor\":\"white\"},\"title\":{\"x\":0.05},\"mapbox\":{\"style\":\"light\"}}}},                        {\"responsive\": true}                    ).then(function(){\n",
       "                            \n",
       "var gd = document.getElementById('51e3dcca-5cd4-4f38-b700-12ad6c930d39');\n",
       "var x = new MutationObserver(function (mutations, observer) {{\n",
       "        var display = window.getComputedStyle(gd).display;\n",
       "        if (!display || display === 'none') {{\n",
       "            console.log([gd, 'removed!']);\n",
       "            Plotly.purge(gd);\n",
       "            observer.disconnect();\n",
       "        }}\n",
       "}});\n",
       "\n",
       "// Listen for the removal of the full notebook cells\n",
       "var notebookContainer = gd.closest('#notebook-container');\n",
       "if (notebookContainer) {{\n",
       "    x.observe(notebookContainer, {childList: true});\n",
       "}}\n",
       "\n",
       "// Listen for the clearing of the current output cell\n",
       "var outputEl = gd.closest('.output');\n",
       "if (outputEl) {{\n",
       "    x.observe(outputEl, {childList: true});\n",
       "}}\n",
       "\n",
       "                        })                };                });            </script>        </div>"
      ]
     },
     "metadata": {},
     "output_type": "display_data"
    }
   ],
   "source": [
    "import plotly.figure_factory as ff\n",
    "\n",
    "hist_data = [trades.profit_ratio]\n",
    "group_labels = ['profit_ratio']  # name of the dataset\n",
    "\n",
    "fig = ff.create_distplot(hist_data, group_labels, bin_size=0.0005)\n",
    "fig.show()"
   ]
  }
 ],
 "metadata": {
  "kernelspec": {
   "display_name": "Python 3.10.5 ('.env': venv)",
   "language": "python",
   "name": "python3"
  },
  "language_info": {
   "codemirror_mode": {
    "name": "ipython",
    "version": 3
   },
   "file_extension": ".py",
   "mimetype": "text/x-python",
   "name": "python",
   "nbconvert_exporter": "python",
   "pygments_lexer": "ipython3",
   "version": "3.10.5"
  },
  "orig_nbformat": 4,
  "vscode": {
   "interpreter": {
    "hash": "2fc28e47f1264659d3d270d3bdfa2a64856bc88c496a0cc17cf57d50f946cac1"
   }
  }
 },
 "nbformat": 4,
 "nbformat_minor": 2
}
